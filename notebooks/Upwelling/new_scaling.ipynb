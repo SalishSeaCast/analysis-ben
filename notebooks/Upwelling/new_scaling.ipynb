{
 "cells": [
  {
   "cell_type": "markdown",
   "metadata": {},
   "source": [
    "# New Scaling\n",
    "\n",
    "***"
   ]
  },
  {
   "cell_type": "code",
   "execution_count": 26,
   "metadata": {},
   "outputs": [],
   "source": [
    "import numpy as np\n",
    "import xarray as xr\n",
    "import matplotlib.pyplot as plt\n",
    "import os\n",
    "import gsw\n",
    "from datetime import datetime, timedelta\n",
    "from dateutil.parser import parse\n",
    "from tqdm import tqdm_notebook as tqdm\n",
    "from warnings import simplefilter\n",
    "from dynmodes import dynmodes\n",
    "\n",
    "%matplotlib inline\n",
    "simplefilter('ignore')"
   ]
  },
  {
   "cell_type": "markdown",
   "metadata": {},
   "source": [
    "***\n",
    "\n",
    "## Local Functions and Definitions"
   ]
  },
  {
   "cell_type": "code",
   "execution_count": 3,
   "metadata": {},
   "outputs": [],
   "source": [
    "def calc_deformation_radius(rho, z_h, xy, e1t=440, angle=np.pi/2, tol=10):\n",
    "    \"\"\"Calculate the baroclinic Rossby deformation radius\n",
    "    \"\"\"\n",
    "\n",
    "    scalefac = np.sin(angle) * e1t\n",
    "    g_prime = const['g'] * (const['rho_0'] - rho) / const['rho_0']\n",
    "    R = np.sqrt(g_prime * z_h * (const['H'] - z_h) / const['H']) / const['f']\n",
    "    H, H_old = const['H'], 0\n",
    "    while abs(H - H_old) > tol:\n",
    "        H_old = H\n",
    "        H = bathy.Bathymetry[xy[1], xy[0]:]\n",
    "        H = float(H[~np.isnan(H)][:int(R / scalefac)].mean())\n",
    "        R = np.sqrt(g_prime * z_h * (H - z_h) / H) / const['f']\n",
    "\n",
    "    return R"
   ]
  },
  {
   "cell_type": "code",
   "execution_count": 12,
   "metadata": {},
   "outputs": [],
   "source": [
    "def calc_rho(data, depth, loc, tmask, time=False):\n",
    "    \"\"\"Calculate the density, rho\n",
    "    \"\"\"\n",
    "    \n",
    "    if time: mskslc = slice(1, None)\n",
    "    else: mskslc = slice(None)\n",
    "    condition = np.broadcast_to(tmask[loc[mskslc]], data[tracers[0]][loc].shape) == 0\n",
    "    rho = gsw.rho(*[np.ma.masked_where(condition, data[k][loc]) for k in tracers], depth)\n",
    "    \n",
    "    return rho"
   ]
  },
  {
   "cell_type": "code",
   "execution_count": 25,
   "metadata": {},
   "outputs": [],
   "source": [
    "def make_prefix(date, paths, res='h'):\n",
    "    \"\"\"Construct path prefix for local SalishSeaCast results given date object and paths dict\n",
    "    e.g., /results/SalishSea/hindcast.201812/ddmmmyy/SalishSea_1h_yyyymmdd_yyyymmdd\n",
    "    \"\"\"\n",
    "\n",
    "    path = paths['NEMO']\n",
    "    if 'date_cutoff' in paths and date >= parse(paths['date_cutoff']):\n",
    "        path = paths['NEMO_cutoff']\n",
    "    datestr = [date.strftime('%d%b%y').lower(), '_'.join(np.repeat(date.strftime('%Y%m%d'), 2))]\n",
    "    prefix = os.path.join(path, datestr[0], f'SalishSea_1{res}_{datestr[1]}')\n",
    "    \n",
    "    return prefix"
   ]
  },
  {
   "cell_type": "code",
   "execution_count": 31,
   "metadata": {},
   "outputs": [],
   "source": [
    "# Definitions\n",
    "HRDPS = xr.open_dataset('https://salishsea.eos.ubc.ca/erddap/griddap/ubcSSaSurfaceAtmosphereFieldsV1')\n",
    "bathy = xr.open_dataset('/data/bmoorema/MEOPAR/grid/bathymetry_201702.nc')\n",
    "mask = xr.open_dataset('/data/bmoorema/MEOPAR/grid/mesh_mask201702.nc')\n",
    "const = {'g': 9.81, 'f': 1.11e-4, 'rho_0': 1024, 'H': 200, 'R': 5e3, 'z_h': 10}\n",
    "depth2d = np.expand_dims(mask.gdept_1d[0, :], axis=1)\n",
    "tracers = ['vosaline', 'votemper']\n",
    "subdomain = [114, 398, 334, 898]\n",
    "sections = [\n",
    "    {'y': 450, 'x': (235, 315), 'yw': 140, 'xw': (140, 154), 'a': np.arctan(10), 'c': 'r'},\n",
    "    {'y': 500, 'x': (205, 295), 'yw': 147, 'xw': (130, 149), 'a': np.arctan( 1), 'c': 'darkorange'},\n",
    "    {'y': 540, 'x': (175, 255), 'yw': 154, 'xw': (121, 140), 'a': np.arctan( 1), 'c': 'gold'},\n",
    "    {'y': 590, 'x': (130, 205), 'yw': 160, 'xw': (113, 122), 'a': np.arctan( 2), 'c': 'darkslategray'},\n",
    "    {'y': 640, 'x': (130, 180), 'yw': 170, 'xw': (108, 118), 'a': np.arctan(10), 'c': 'c'},\n",
    "    {'y': 680, 'x': (130, 200), 'yw': 178, 'xw': (107, 116), 'a': np.arctan( 5), 'c': 'cyan'},\n",
    "]"
   ]
  },
  {
   "cell_type": "code",
   "execution_count": null,
   "metadata": {},
   "outputs": [],
   "source": []
  },
  {
   "cell_type": "code",
   "execution_count": 6,
   "metadata": {},
   "outputs": [],
   "source": [
    "# Define path and filename string\n",
    "path = '/data/bmoorema/results/Lake/S4d'\n",
    "fn = 'SalishSeaIdeal_1h_20170701_20170706_grid_T.nc'\n",
    "tmask = mask.tmask[0, :, slice(*subdomain[2:]), slice(*subdomain[:2])]\n",
    "\n",
    "# Define scaling parameters\n",
    "param = {\n",
    "    'u_wind': [5, 10, 15],\n",
    "    'tau': [0.034, 0.123, 0.280],\n",
    "    'z_h': [10, 15, 20],\n",
    "    'rho_surf': [1016, 1018, 1020],\n",
    "}\n",
    "\n",
    "# Initialize storage lists\n",
    "R = [0, 0, 0, 0, 0, 0]"
   ]
  },
  {
   "cell_type": "code",
   "execution_count": 24,
   "metadata": {},
   "outputs": [
    {
     "data": {
      "application/vnd.jupyter.widget-view+json": {
       "model_id": "d2e88df8db6348168842a9b0532b46fc",
       "version_major": 2,
       "version_minor": 0
      },
      "text/plain": [
       "HBox(children=(IntProgress(value=0, max=3), HTML(value='')))"
      ]
     },
     "metadata": {},
     "output_type": "display_data"
    },
    {
     "name": "stdout",
     "output_type": "stream",
     "text": [
      "\n"
     ]
    },
    {
     "data": {
      "image/png": "[encoded data removed]",
      "text/plain": [
       "<Figure size 1080x432 with 2 Axes>"
      ]
     },
     "metadata": {
      "needs_background": "light"
     },
     "output_type": "display_data"
    }
   ],
   "source": [
    "fig, axs = plt.subplots(1, 2, figsize=(15, 6))\n",
    "for ax, x, y in zip(axs, [(0, 1, 3.5), (0, 1, 3.5)], [(0, 1, 1), (0, 0, 2.5)]):\n",
    "    ax.plot(x, y, 'k--')\n",
    "    ax.set_xlim([0, 3.5])\n",
    "    ax.set_ylim([0, 3.5])\n",
    "sec = sections[1]\n",
    "hour = 24\n",
    "\n",
    "# Loop though z_h and rho_surf\n",
    "for z_h in tqdm(param['z_h']):\n",
    "    for rho_s in param['rho_surf']:\n",
    "\n",
    "        # Calculate deformation radius\n",
    "        R = calc_deformation_radius(rho_s, z_h, (sec['x'][0], sec['y']), angle=sec['a'])\n",
    "\n",
    "        # Loop through wind speed\n",
    "        for U, tau in zip(param['u_wind'], param['tau']):\n",
    "\n",
    "            # Open results record\n",
    "            runID = f'SalishSeaPond_S4d{U:02d}ms_halocline{z_h:2d}m_rhosurf{rho_s:4d}'\n",
    "            with xr.open_dataset(os.path.join(path, runID, fn)) as data:\n",
    "                \n",
    "                for zh, r, color in zip([z_h, 10], [R, 1e4], ['k', 'w']):\n",
    "\n",
    "                    # Loop through sections\n",
    "                    scale = np.cos(np.arctan(2) - sec['a']) * tau * 3600 / (const['rho_0'] * zh * const['f'] * r)\n",
    "                    xy = (sec['y'] - subdomain[2], slice(*[x - subdomain[0] for x in sec['x']]))\n",
    "                    rho_t0 = calc_rho(data, depth2d, (0,slice(None))+xy, tmask, time=True)\n",
    "                    rho_halo = np.median(rho_t0[abs(depth2d[:, 0] - zh).argmin(), :])\n",
    "\n",
    "                    # Loop through hours\n",
    "                    scale_T = (hour - 3) * scale\n",
    "                    rho = calc_rho(data, 0, (hour,0)+xy, tmask, time=True)\n",
    "                    z_u = depth2d[int(np.median(abs(rho_t0 - rho.max()).argmin(axis=0))), 0] / zh\n",
    "                    x_u = np.sin(sec['a']) * (rho >= rho_halo).sum() * 440 / r\n",
    "                    axs[0].plot(scale_T, z_u, 'ko', markerfacecolor=color)\n",
    "                    axs[1].plot(scale_T, x_u, 'ko', markerfacecolor=color)"
   ]
  },
  {
   "cell_type": "code",
   "execution_count": null,
   "metadata": {},
   "outputs": [],
   "source": []
  },
  {
   "cell_type": "code",
   "execution_count": null,
   "metadata": {},
   "outputs": [],
   "source": []
  },
  {
   "cell_type": "code",
   "execution_count": null,
   "metadata": {},
   "outputs": [],
   "source": []
  },
  {
   "cell_type": "code",
   "execution_count": 28,
   "metadata": {},
   "outputs": [],
   "source": [
    "# Define paths and variables\n",
    "paths = {\n",
    "    'NEMO': '/results/SalishSea/hindcast.201812',\n",
    "    'NEMO_cutoff': '/results2/SalishSea/hindcast.201812_annex',\n",
    "    'date_cutoff': '2016 Nov 21',\n",
    "}\n",
    "tmask = mask.tmask\n",
    "depthw = (depth2d[1:, 0] + depth2d[:-1, 0]) / 2\n",
    "\n",
    "# Initialize storage lists\n",
    "rho_t0 = [0, 0, 0, 0, 0, 0]\n",
    "rho_halo = [0, 0, 0, 0, 0, 0]\n",
    "R = [0, 0, 0, 0, 0, 0]\n",
    "z_h = [0, 0, 0, 0, 0, 0]"
   ]
  },
  {
   "cell_type": "code",
   "execution_count": 29,
   "metadata": {},
   "outputs": [],
   "source": [
    "# Upwelling event date windows\n",
    "events = [parse(date) for date in [\n",
    "    '2015 Mar 11 04:00', #1\n",
    "    '2015 Mar 18 18:00', #2\n",
    "    '2015 Mar 24 22:00', #3\n",
    "    '2015 Mar 28 21:00', #4\n",
    "    '2015 Apr 25 23:00', #5\n",
    "    '2016 Apr 11 13:00', #6\n",
    "    '2017 Apr 03 23:00', #7\n",
    "    '2017 May 30 15:00', #8\n",
    "    '2017 Sep 08 23:00', #9\n",
    "    '2017 Sep 17 02:00', #10\n",
    "    '2017 Oct 21 05:00', #11\n",
    "    '2018 Mar 22 07:00', #12\n",
    "    '2018 Apr 03 10:00', #13\n",
    "    '2018 Apr 12 23:00', #14\n",
    "    '2018 Sep 07 13:00', #15\n",
    "    '2018 Sep 14 18:00', #16\n",
    "    '2018 Oct 23 06:00', #17\n",
    "]]"
   ]
  },
  {
   "cell_type": "code",
   "execution_count": 35,
   "metadata": {},
   "outputs": [
    {
     "data": {
      "application/vnd.jupyter.widget-view+json": {
       "model_id": "d9d2b35721bb4d17b1c1f5fe5a3a40d6",
       "version_major": 2,
       "version_minor": 0
      },
      "text/plain": [
       "HBox(children=(IntProgress(value=0, max=17), HTML(value='')))"
      ]
     },
     "metadata": {},
     "output_type": "display_data"
    },
    {
     "name": "stdout",
     "output_type": "stream",
     "text": [
      "\n"
     ]
    },
    {
     "data": {
      "image/png": "[encoded data removed]",
      "text/plain": [
       "<Figure size 1080x432 with 2 Axes>"
      ]
     },
     "metadata": {
      "needs_background": "light"
     },
     "output_type": "display_data"
    }
   ],
   "source": [
    "fig, axs = plt.subplots(1, 2, figsize=(15, 6))\n",
    "for ax, x, y in zip(axs, [(0, 1, 3.5), (0, 1, 3.5)], [(0, 1, 1), (0, 0, 2.5)]):\n",
    "    ax.plot(x, y, 'k--')\n",
    "    ax.set_xlim([0, 3.5])\n",
    "    ax.set_ylim([0, 3.5])\n",
    "sec = sections[1]\n",
    "hour = 24\n",
    "\n",
    "# Loop though events and hours\n",
    "for event in tqdm(events):\n",
    "    for hour in [0, hour]:\n",
    "\n",
    "        date = event + timedelta(hours=hour)\n",
    "\n",
    "        # Open hindcast record\n",
    "        with xr.open_dataset(make_prefix(date, paths) + '_grid_T.nc') as data:\n",
    "\n",
    "            # Loop through sections\n",
    "            yx = (sec['y'], slice(*sec['x']))\n",
    "            e1t = float(mask.e1t[0, sec['y'], sec['x'][0]])\n",
    "\n",
    "            # Calculations at t=0\n",
    "            if hour == 0:\n",
    "                loc = (slice(None),) + yx\n",
    "                rho_t0 = calc_rho(data.sel(time_counter=date, method='nearest'), depth2d, loc, tmask[0, ...])\n",
    "                N2 = const['g'] / const['rho_0'] * np.diff(rho_t0, axis=0) / np.diff(depth2d, axis=0)\n",
    "                modes = dynmodes(np.ma.median(N2[:, :20], axis=1).compressed()[:24], depthw[:24], 1)\n",
    "                z_h = depthw[int(np.where(np.diff(np.signbit(modes[1][0, :])))[0])]\n",
    "                rho_halo = np.median(rho_t0[abs(depth2d[:, 0] - z_h).argmin(axis=0), :])\n",
    "                rho_surf = rho_t0[:int(z_h), :].mean()\n",
    "                R = calc_deformation_radius(rho_surf, z_h, (sec['x'][0], sec['y']), angle=sec['a'])\n",
    "\n",
    "            # Calculations at hours\n",
    "            else:\n",
    "                \n",
    "                for zh, r, color in zip([z_h, 10], [R, 1e4], ['k', 'w']):\n",
    "\n",
    "                    # Calculate upwelling metrics\n",
    "                    rho = calc_rho(data.sel(time_counter=date, method='nearest'), 0, (0,) + yx, tmask[0, ...])\n",
    "                    rho_max = rho[:max(1, int(r / 440))].max()\n",
    "                    z_u = depth2d[int(np.median(abs(rho_t0 - rho_max).argmin(axis=0))), 0]\n",
    "                    x_u = np.sin(sec['a']) * (rho >= rho_halo).sum() * 440\n",
    "\n",
    "                    # Calculate scaling\n",
    "                    loc = (slice(None), sec['yw'], slice(*sec['xw']))\n",
    "                    u, v = [HRDPS.sel(time=slice(event, date))[k][loc].values for k in ['u_wind', 'v_wind']]\n",
    "                    coeff = np.cos(np.pi * (22 / 180 + 1) - np.arctan2(v, u) - sec['a'])\n",
    "                    tau = sum(1.225e-3 * (coeff * (u**2 + v**2)).mean(axis=1)) * 3600\n",
    "                    scaling = tau / (const['rho_0'] * zh * const['f'] * r)\n",
    "                    axs[0].plot(scaling, z_u / zh, 'ko', markerfacecolor=color)\n",
    "                    axs[1].plot(scaling, x_u / r, 'ko', markerfacecolor=color)\n",
    "\n"
   ]
  },
  {
   "cell_type": "code",
   "execution_count": null,
   "metadata": {},
   "outputs": [],
   "source": []
  }
 ],
 "metadata": {
  "kernelspec": {
   "display_name": "Python 3",
   "language": "python",
   "name": "python3"
  },
  "language_info": {
   "codemirror_mode": {
    "name": "ipython",
    "version": 3
   },
   "file_extension": ".py",
   "mimetype": "text/x-python",
   "name": "python",
   "nbconvert_exporter": "python",
   "pygments_lexer": "ipython3",
   "version": "3.7.3"
  }
 },
 "nbformat": 4,
 "nbformat_minor": 2
}
