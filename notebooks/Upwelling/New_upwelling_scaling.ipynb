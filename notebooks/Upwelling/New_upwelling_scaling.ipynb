{
 "cells": [
  {
   "cell_type": "markdown",
   "metadata": {},
   "source": [
    "# Upwelling Scaling\n",
    "\n",
    "***"
   ]
  },
  {
   "cell_type": "code",
   "execution_count": 3,
   "metadata": {},
   "outputs": [],
   "source": [
    "import numpy as np\n",
    "import xarray as xr\n",
    "import matplotlib.pyplot as plt\n",
    "import matplotlib.dates as mdates\n",
    "from matplotlib import animation\n",
    "from cmocean import cm\n",
    "import os\n",
    "import gsw\n",
    "from datetime import datetime, timedelta\n",
    "from dateutil.parser import parse\n",
    "from salishsea_tools import viz_tools\n",
    "from itertools import repeat\n",
    "from warnings import simplefilter\n",
    "from tqdm import tqdm_notebook as tqdm\n",
    "from dynmodes import dynmodes\n",
    "from IPython.display import HTML\n",
    "\n",
    "%matplotlib inline\n",
    "plt.rcParams['font.size'] = 12\n",
    "plt.rcParams['animation.html'] = 'html5'\n",
    "simplefilter('ignore')"
   ]
  },
  {
   "cell_type": "markdown",
   "metadata": {},
   "source": [
    "***\n",
    "\n",
    "## Theory\n",
    "\n",
    "### Base scaling\n",
    "\n",
    "$$\\frac{z_u}{z_h} = \\frac{u_*^2t}{c}\\left(\\frac{1}{H} - \\frac{1}{z_h}\\right)$$\n",
    "\n",
    "### Coastline angle\n",
    "\n",
    "$$\\frac{z_u}{z_h} = \\frac{u_*^2t\\cos\\phi}{c}\\left(\\frac{1}{H} - \\frac{1}{z_h}\\right)$$"
   ]
  },
  {
   "cell_type": "code",
   "execution_count": 5,
   "metadata": {},
   "outputs": [
    {
     "data": {
      "text/plain": [
       "array([12.0003 , 34.99875, 68.00085])"
      ]
     },
     "execution_count": 5,
     "metadata": {},
     "output_type": "execute_result"
    }
   ],
   "source": [
    "np.array((0.04706, 0.13725, 0.26667)) * 255"
   ]
  },
  {
   "cell_type": "code",
   "execution_count": null,
   "metadata": {},
   "outputs": [],
   "source": []
  }
 ],
 "metadata": {
  "kernelspec": {
   "display_name": "Python 3",
   "language": "python",
   "name": "python3"
  },
  "language_info": {
   "codemirror_mode": {
    "name": "ipython",
    "version": 3
   },
   "file_extension": ".py",
   "mimetype": "text/x-python",
   "name": "python",
   "nbconvert_exporter": "python",
   "pygments_lexer": "ipython3",
   "version": "3.7.3"
  }
 },
 "nbformat": 4,
 "nbformat_minor": 2
}
