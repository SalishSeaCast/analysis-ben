{
 "cells": [
  {
   "cell_type": "code",
   "execution_count": 1,
   "metadata": {
    "collapsed": true
   },
   "outputs": [],
   "source": [
    "from salishsea_tools import data_tools as dt\n",
    "import numpy as np\n",
    "import pandas as pd\n",
    "from onc.onc import ONC\n",
    "from dateutil.parser import parse\n",
    "import matplotlib.pyplot as plt\n",
    "\n",
    "token = '76fc91e5-d4a4-40f9-87fc-2f6d2707fc5a'\n",
    "\n",
    "%matplotlib inline"
   ]
  },
  {
   "cell_type": "code",
   "execution_count": null,
   "metadata": {
    "collapsed": true
   },
   "outputs": [],
   "source": [
    "onc = ONC(token)"
   ]
  },
  {
   "cell_type": "code",
   "execution_count": null,
   "metadata": {
    "collapsed": true
   },
   "outputs": [],
   "source": [
    "filters={\n",
    "    'deviceCategoryCode': 'ADCP150KHZ',\n",
    "    'locationCode': 'SCVIP',\n",
    "    'dataProductCode': 'RADCPTS',\n",
    "    'extension': 'nc',\n",
    "    'dateFrom': '2018-01-01T00:00:00.000Z',\n",
    "    'dateTo': '2018-02-01T00:00:00.000Z',\n",
    "#    'dpo_qualityControl': 1,\n",
    "#    'dpo_resample': 'none',\n",
    "#    'dpo_dataGaps': 0,\n",
    "    'dpo_ensemblePeriod': 900,\n",
    "    'dpo_velocityBinmapping': 2,\n",
    "    'dpo_3beam': 'Off',\n",
    "    'dpo_corScreen': 64,\n",
    "    'dpo_errVelScreen': 2,\n",
    "    'dpo_falseTarScreen': 255,\n",
    "}"
   ]
  },
  {
   "cell_type": "code",
   "execution_count": null,
   "metadata": {
    "collapsed": true
   },
   "outputs": [],
   "source": [
    "onc.requestDataProduct(filters=filters, returnError=False)"
   ]
  },
  {
   "cell_type": "code",
   "execution_count": 3,
   "metadata": {
    "collapsed": true
   },
   "outputs": [],
   "source": [
    "DRIFTERS = dt.load_drifters(deployments=range(1, 11))"
   ]
  },
  {
   "cell_type": "code",
   "execution_count": 17,
   "metadata": {},
   "outputs": [
    {
     "data": {
      "text/plain": [
       "odict_keys(['Drifter103', 'Drifter102', 'Drifter101', 'Drifter106', 'Drifter105', 'Drifter104'])"
      ]
     },
     "execution_count": 17,
     "metadata": {},
     "output_type": "execute_result"
    }
   ],
   "source": [
    "DRIFTERS['deployment10'].keys()"
   ]
  },
  {
   "cell_type": "code",
   "execution_count": 83,
   "metadata": {
    "collapsed": true
   },
   "outputs": [],
   "source": [
    "ADCP = dt.load_ADCP(['2000 Jan 01', '2017 Mar 30'], station='ddl')"
   ]
  },
  {
   "cell_type": "code",
   "execution_count": 110,
   "metadata": {},
   "outputs": [
    {
     "data": {
      "text/plain": [
       "<xarray.DataArray 'u' (depth: 85)>\n",
       "array([-0.080535, -0.07026 , -0.061435, -0.049   , -0.039562, -0.03132 ,\n",
       "       -0.022625, -0.011263,  0.008293,  0.018242,  0.01828 , -0.002171,\n",
       "       -0.024674, -0.037493, -0.040167, -0.042818, -0.042496, -0.037801,\n",
       "       -0.045634, -0.065941, -0.09113 , -0.122175, -0.148543, -0.174205,\n",
       "       -0.189903, -0.196715, -0.202119, -0.206717, -0.21322 , -0.216907,\n",
       "       -0.211054, -0.198225, -0.184409, -0.174968, -0.163346, -0.159421,\n",
       "       -0.16174 , -0.171915, -0.175444, -0.166996, -0.157611, -0.151876,\n",
       "       -0.138865, -0.125745, -0.11531 , -0.105807, -0.111477, -0.141472,\n",
       "       -0.121252, -0.252622,       nan,       nan,       nan,       nan,\n",
       "             nan,       nan,       nan,       nan,       nan,       nan,\n",
       "             nan,       nan,       nan,       nan,       nan,       nan,\n",
       "             nan,       nan,       nan,       nan,       nan,       nan,\n",
       "             nan,       nan,       nan,       nan,       nan,       nan,\n",
       "             nan,       nan,       nan,       nan,       nan,       nan,\n",
       "             nan])\n",
       "Coordinates:\n",
       "    time     datetime64[ns] 2013-10-23T16:44:59.999997\n",
       "  * depth    (depth) float64 139.4 137.5 135.6 133.7 131.7 129.8 127.9 126.0 ..."
      ]
     },
     "execution_count": 110,
     "metadata": {},
     "output_type": "execute_result"
    }
   ],
   "source": [
    "ADCP.u.isel(time=99009)"
   ]
  },
  {
   "cell_type": "code",
   "execution_count": 13,
   "metadata": {
    "collapsed": true
   },
   "outputs": [],
   "source": [
    "#dt.get_onc_data('stations', 'getTree', TOKEN)\n",
    "\n",
    "# Nodes\n",
    "CentralNode = 'SCVIP'\n",
    "EastNode = 'SEVIP'\n",
    "\n",
    "# CODAR Stations\n",
    "SoG = 'SOGCS'\n",
    "GeorginaPoint = 'VGPT'\n",
    "Iona = 'VION'\n",
    "IonaSpit = 'VSPT'\n",
    "PointAtkinson = 'VATK'\n",
    "Westshore = 'VCOL'"
   ]
  },
  {
   "cell_type": "code",
   "execution_count": 111,
   "metadata": {},
   "outputs": [
    {
     "data": {
      "text/plain": [
       "{'sensorData': [{'actualSamples': 1,\n",
       "   'data': [{'qaqcFlag': 1,\n",
       "     'sampleTime': '2017-04-06T01:17:00.201Z',\n",
       "     'value': 2.95926}],\n",
       "   'sensor': 'Conductivity',\n",
       "   'sensorName': 'Conductivity',\n",
       "   'unitOfMeasure': 'S/m'},\n",
       "  {'actualSamples': 1,\n",
       "   'data': [{'qaqcFlag': 1,\n",
       "     'sampleTime': '2017-04-06T01:17:00.201Z',\n",
       "     'value': 27.4124}],\n",
       "   'sensor': 'salinity',\n",
       "   'sensorName': 'Practical Salinity',\n",
       "   'unitOfMeasure': 'psu'},\n",
       "  {'actualSamples': 1,\n",
       "   'data': [{'qaqcFlag': 1,\n",
       "     'sampleTime': '2017-04-06T01:17:00.201Z',\n",
       "     'value': 8.7292}],\n",
       "   'sensor': 'temperature',\n",
       "   'sensorName': 'Temperature',\n",
       "   'unitOfMeasure': 'C'}],\n",
       " 'serviceMetadata': {'dateFrom': None,\n",
       "  'dateTo': None,\n",
       "  'deviceCategory': 'TSG',\n",
       "  'nextDateFrom': None,\n",
       "  'outputFormat': None,\n",
       "  'rowLimit': None,\n",
       "  'sensors': None,\n",
       "  'station': 'TWDP',\n",
       "  'totalActualSamples': 3}}"
      ]
     },
     "execution_count": 111,
     "metadata": {},
     "output_type": "execute_result"
    }
   ],
   "source": [
    "dt.get_onc_data('scalardata', 'getByStation', TOKEN, station='TWDP', deviceCategory='TSG')"
   ]
  },
  {
   "cell_type": "code",
   "execution_count": 31,
   "metadata": {
    "collapsed": true
   },
   "outputs": [],
   "source": [
    "data = dt.get_onc_data(\n",
    "    'scalardata', 'getByStation', TOKEN, station='SCVIP', deviceCategory='CURRENTMETER',\n",
    "    sensors='current_velocity_beam1_x_east',\n",
    "    dateFrom=dt.onc_datetime('2016-10-07'), dateTo=dt.onc_datetime('2016-10-10'),\n",
    ")\n",
    "xdata = dt.onc_json_to_dataset(data)"
   ]
  },
  {
   "cell_type": "code",
   "execution_count": 32,
   "metadata": {},
   "outputs": [
    {
     "data": {
      "text/plain": [
       "<xarray.Dataset>\n",
       "Dimensions:                        (sampleTime: 100000)\n",
       "Coordinates:\n",
       "  * sampleTime                     (sampleTime) datetime64[ns] 2016-10-07T07:00:00.125000 ...\n",
       "Data variables:\n",
       "    current_velocity_beam1_x_east  (sampleTime) float64 -0.344 -0.433 -0.414 ...\n",
       "Attributes:\n",
       "    dateFrom: 2016-10-07T07:00:00.000Z\n",
       "    dateTo: 2016-10-10T07:00:00.000Z\n",
       "    deviceCategory: CURRENTMETER\n",
       "    nextDateFrom: 2016-10-07T10:28:19.801Z\n",
       "    outputFormat: None\n",
       "    rowLimit: None\n",
       "    sensors: current_velocity_beam1_x_east\n",
       "    station: SCVIP\n",
       "    totalActualSamples: 100000"
      ]
     },
     "execution_count": 32,
     "metadata": {},
     "output_type": "execute_result"
    }
   ],
   "source": [
    "xdata"
   ]
  },
  {
   "cell_type": "code",
   "execution_count": null,
   "metadata": {
    "collapsed": true
   },
   "outputs": [],
   "source": []
  }
 ],
 "metadata": {
  "kernelspec": {
   "display_name": "Python 3",
   "language": "python",
   "name": "python3"
  },
  "language_info": {
   "codemirror_mode": {
    "name": "ipython",
    "version": 3
   },
   "file_extension": ".py",
   "mimetype": "text/x-python",
   "name": "python",
   "nbconvert_exporter": "python",
   "pygments_lexer": "ipython3",
   "version": "3.6.3"
  }
 },
 "nbformat": 4,
 "nbformat_minor": 2
}
