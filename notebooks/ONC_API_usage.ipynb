{
 "cells": [
  {
   "cell_type": "code",
   "execution_count": 1,
   "metadata": {},
   "outputs": [],
   "source": [
    "import numpy as np\n",
    "import xarray as xr\n",
    "from onc.onc import ONC\n",
    "from dateutil.parser import parse\n",
    "import matplotlib.pyplot as plt\n",
    "\n",
    "%matplotlib inline"
   ]
  },
  {
   "cell_type": "code",
   "execution_count": 2,
   "metadata": {
    "collapsed": true
   },
   "outputs": [],
   "source": [
    "token = '76fc91e5-d4a4-40f9-87fc-2f6d2707fc5a'\n",
    "onc = ONC(token)"
   ]
  },
  {
   "cell_type": "code",
   "execution_count": 12,
   "metadata": {
    "collapsed": true
   },
   "outputs": [],
   "source": [
    "daterange = ['2018 Jan 1 00:00', '2018 Jan 2 00:00']"
   ]
  },
  {
   "cell_type": "markdown",
   "metadata": {},
   "source": [
    "### ADCP"
   ]
  },
  {
   "cell_type": "code",
   "execution_count": 13,
   "metadata": {},
   "outputs": [],
   "source": [
    "filters={\n",
    "    'deviceCategoryCode': 'ADCP150KHZ',\n",
    "    'dataProductCode': 'RADCPTS',\n",
    "    'extension': 'nc',\n",
    "    'dateFrom': parse(daterange[0]).isoformat() + '.000Z',\n",
    "    'dateTo': parse(daterange[1]).isoformat() + '.000Z',\n",
    "    'dpo_ensemblePeriod': 900,\n",
    "    'dpo_velocityBinmapping': 2,\n",
    "    'dpo_3beam': 'Off',\n",
    "    'dpo_corScreen': 64,\n",
    "    'dpo_errVelScreen': 2,\n",
    "    'dpo_falseTarScreen': 255,\n",
    "}"
   ]
  },
  {
   "cell_type": "markdown",
   "metadata": {},
   "source": [
    "Central node"
   ]
  },
  {
   "cell_type": "code",
   "execution_count": 15,
   "metadata": {},
   "outputs": [
    {
     "name": "stdout",
     "output_type": "stream",
     "text": [
      "Request Id: 3115163\n",
      "Estimated File Size: No estimated file size available.\n",
      "Downloading files for Run ID: 8016704\n",
      "  Running.\n",
      "  Running... working on time range 1 of 1, for device deployment 1 of 1..................................................................................................................\n",
      "  download URL: http://data.oceannetworks.ca/api/dataProductDelivery?method=download&token=76fc91e5-d4a4-40f9-87fc-2f6d2707fc5a&dpRunId=8016704&index=1\n",
      "  'Metadata file not valid for data product' for index - value: 'meta'\n",
      "  0 files (100.32 KB) downloaded\n",
      "Actual Processing/Download Time: 0:4:5.09\n"
     ]
    }
   ],
   "source": [
    "# Central node\n",
    "filters['locationCode'] = 'SCVIP'\n",
    "data = onc.orderDataProduct(filters=filters, maxRetries=200, downloadResultsOnly=True, includeMetadataFile=True)"
   ]
  },
  {
   "cell_type": "code",
   "execution_count": 16,
   "metadata": {},
   "outputs": [
    {
     "data": {
      "text/plain": [
       "{'downloadResults': [{'downloaded': False,\n",
       "   'downloadingTime': 0,\n",
       "   'file': 'c:/temp/Central_StraitofGeorgiaVENUSInstrumentPlatform_ADCP150kHz_20180101T000000Z_20180102T000000Z-Ensemble900s_binMapLinearInterp.nc',\n",
       "   'index': 1,\n",
       "   'message': ['Running',\n",
       "    'Running... working on time range 1 of 1, for device deployment 1 of 1.'],\n",
       "   'queuingTime': 0,\n",
       "   'requestCount': 117,\n",
       "   'runningTime': 242.73476,\n",
       "   'size': 102728.0,\n",
       "   'status': 'complete',\n",
       "   'transferringTime': 0,\n",
       "   'url': 'http://data.oceannetworks.ca/api/dataProductDelivery?method=download&token=76fc91e5-d4a4-40f9-87fc-2f6d2707fc5a&dpRunId=8016704&index=1'},\n",
       "  {'downloadingTime': 0,\n",
       "   'message': ['Metadata file not valid for data product'],\n",
       "   'queuingTime': 0,\n",
       "   'requestCount': 1,\n",
       "   'runningTime': 0,\n",
       "   'status': 'error',\n",
       "   'transferringTime': 0,\n",
       "   'url': 'http://data.oceannetworks.ca/api/dataProductDelivery?method=download&token=76fc91e5-d4a4-40f9-87fc-2f6d2707fc5a&dpRunId=8016704&index=meta'}],\n",
       " 'stats': {'downloadingTime': 0,\n",
       "  'queuingTime': 0,\n",
       "  'requestRequestTime': 0.392997,\n",
       "  'runRequestTime': 1.9924,\n",
       "  'runningTime': 242.73476,\n",
       "  'transferringTime': 0}}"
      ]
     },
     "execution_count": 16,
     "metadata": {},
     "output_type": "execute_result"
    }
   ],
   "source": [
    "data"
   ]
  },
  {
   "cell_type": "code",
   "execution_count": null,
   "metadata": {
    "collapsed": true
   },
   "outputs": [],
   "source": []
  },
  {
   "cell_type": "code",
   "execution_count": null,
   "metadata": {
    "collapsed": true
   },
   "outputs": [],
   "source": []
  },
  {
   "cell_type": "code",
   "execution_count": null,
   "metadata": {
    "collapsed": true
   },
   "outputs": [],
   "source": []
  },
  {
   "cell_type": "code",
   "execution_count": 13,
   "metadata": {
    "collapsed": true
   },
   "outputs": [],
   "source": [
    "#dt.get_onc_data('stations', 'getTree', TOKEN)\n",
    "\n",
    "# Nodes\n",
    "CentralNode = 'SCVIP'\n",
    "EastNode = 'SEVIP'\n",
    "\n",
    "# CODAR Stations\n",
    "SoG = 'SOGCS'\n",
    "GeorginaPoint = 'VGPT'\n",
    "Iona = 'VION'\n",
    "IonaSpit = 'VSPT'\n",
    "PointAtkinson = 'VATK'\n",
    "Westshore = 'VCOL'"
   ]
  },
  {
   "cell_type": "code",
   "execution_count": null,
   "metadata": {
    "collapsed": true
   },
   "outputs": [],
   "source": []
  }
 ],
 "metadata": {
  "kernelspec": {
   "display_name": "Python 3",
   "language": "python",
   "name": "python3"
  },
  "language_info": {
   "codemirror_mode": {
    "name": "ipython",
    "version": 3
   },
   "file_extension": ".py",
   "mimetype": "text/x-python",
   "name": "python",
   "nbconvert_exporter": "python",
   "pygments_lexer": "ipython3",
   "version": "3.6.3"
  }
 },
 "nbformat": 4,
 "nbformat_minor": 2
}
