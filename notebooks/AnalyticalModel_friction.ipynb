{
 "cells": [
  {
   "cell_type": "code",
   "execution_count": 2,
   "metadata": {
    "collapsed": true
   },
   "outputs": [],
   "source": [
    "import numpy as np\n",
    "import matplotlib.pyplot as plt\n",
    "\n",
    "%matplotlib inline"
   ]
  },
  {
   "cell_type": "markdown",
   "metadata": {},
   "source": [
    "### Analytical Solution\n",
    "\n",
    "$$\n",
    "\\begin{align}\n",
    "-fv & = -g\\frac{\\partial\\eta}{\\partial x} - ku + \\tau_x \\tag{1}\\\\\n",
    "fu & = -g\\frac{\\partial\\eta}{\\partial y} - kv \\tag{2}\n",
    "\\end{align}\n",
    "$$\n",
    "\n",
    "$$\\frac{\\partial}{\\partial x}(hu) + \\frac{\\partial}{\\partial y}(hv) = 0 \\tag{3}$$\n",
    "\n",
    "(3) implies a streamfunction\n",
    "\n",
    "$$u = -\\frac{\\partial\\psi}{\\partial y}, \\hspace{0.5cm} v = \\frac{\\partial\\psi}{\\partial x} \\tag{4}$$\n",
    "\n",
    "Substituting (4) into (1) and (2) and cross-differentiating gives the Poisson equation\n",
    "\n",
    "$$\\nabla^2\\psi = -\\frac{\\tau_x}{k} \\tag{5}$$\n",
    "\n",
    "Boundary conditions are\n",
    "\n",
    "$$v(x, 0) = \\frac{\\partial}{\\partial x}\\psi(x, 0) = 0 \\tag{6}$$\n",
    "\n",
    "Consider homogeneous Laplace equation\n",
    "\n",
    "$$\\nabla^2\\psi = 0 \\tag{7}$$\n",
    "\n",
    "Separation of variables gives\n",
    "\n",
    "$$\\frac{X''}{X} = -\\frac{Y''}{Y} = \\lambda^2 \\tag{8}$$\n",
    "\n",
    "Solve $Y$\n",
    "\n",
    "$$Y'' + \\lambda^2 Y = 0 \\tag{9}$$\n",
    "\n",
    "$$Y = a_1\\cos(\\lambda y) + a_2\\sin(\\lambda y) \\tag{10}$$\n",
    "\n",
    "$$Y(0) = Y(S) = 0, \\hspace{0.5cm} a_1 = 0, \\hspace{0.5cm} \\lambda = \\frac{n\\pi}{S} \\tag{11}$$\n",
    "\n",
    "Solve $X$\n",
    "\n",
    "$$X'' - \\lambda^2 X = 0 \\tag{12}$$\n",
    "\n",
    "$$X = b_1e^{\\lambda x} + b_2e^{-\\lambda x} \\tag{13}$$\n",
    "\n",
    "$$X \\to 0 \\text{ as } x \\to \\infty, \\hspace{0.5cm} b_1 = 0 \\tag{14}$$\n",
    "\n",
    "General solution\n",
    "\n",
    "$$\\psi(x, y) = \\sum_{n=1}^\\infty a_n\\exp\\left(-\\frac{n\\pi x}{S}\\right)\\sin\\left(\\frac{n\\pi y}{S}\\right) \\tag{15}$$"
   ]
  },
  {
   "cell_type": "markdown",
   "metadata": {
    "collapsed": true
   },
   "source": [
    "### Numerical solution\n",
    "\n",
    "$$-\\nabla^2\\psi = \\frac{\\tau_x}{k}$$\n",
    "\n",
    "$$-\\frac{\\psi_{i+1}^j - 2\\psi_{i}^j + \\psi_{i-1}^j}{d^2} - \\frac{\\psi_i^{j+1} - 2\\psi_i^j + \\psi_i^{j-1}}{d^2} = -\\frac{\\tau_x}{k}$$\n",
    "\n",
    "$$4\\psi_i^j - \\psi_{i-1}^j - \\psi_{i+1}^j - \\psi_i^{j-1} - \\psi_i^{j+1} = \\frac{\\tau_xd^2}{k}$$\n",
    "\n",
    "#### Matrix Solution\n",
    "\n",
    "$$\\mathbf{Ax} = \\mathbf{b}$$"
   ]
  },
  {
   "cell_type": "code",
   "execution_count": 19,
   "metadata": {},
   "outputs": [
    {
     "data": {
      "text/plain": [
       "array([[ 4., -1.,  0.,  0., -1.,  0.,  0.,  0.,  0.,  0.,  0.,  0.],\n",
       "       [-1.,  4., -1.,  0.,  0., -1.,  0.,  0.,  0.,  0.,  0.,  0.],\n",
       "       [ 0., -1.,  4., -1.,  0.,  0., -1.,  0.,  0.,  0.,  0.,  0.],\n",
       "       [ 0.,  0., -1.,  4.,  0.,  0.,  0., -1.,  0.,  0.,  0.,  0.],\n",
       "       [-1.,  0.,  0.,  0.,  4., -1.,  0.,  0., -1.,  0.,  0.,  0.],\n",
       "       [ 0., -1.,  0.,  0., -1.,  4., -1.,  0.,  0., -1.,  0.,  0.],\n",
       "       [ 0.,  0., -1.,  0.,  0., -1.,  4., -1.,  0.,  0., -1.,  0.],\n",
       "       [ 0.,  0.,  0., -1.,  0.,  0., -1.,  4.,  0.,  0.,  0., -1.],\n",
       "       [ 0.,  0.,  0.,  0., -1.,  0.,  0.,  0.,  4., -1.,  0.,  0.],\n",
       "       [ 0.,  0.,  0.,  0.,  0., -1.,  0.,  0., -1.,  4., -1.,  0.],\n",
       "       [ 0.,  0.,  0.,  0.,  0.,  0., -1.,  0.,  0., -1.,  4., -1.],\n",
       "       [ 0.,  0.,  0.,  0.,  0.,  0.,  0., -1.,  0.,  0., -1.,  4.]])"
      ]
     },
     "execution_count": 19,
     "metadata": {},
     "output_type": "execute_result"
    }
   ],
   "source": [
    "n = 4\n",
    "\n",
    "main = np.diag(4*np.ones(n)) + np.diag(-1*np.ones(n-1), k=-1) + np.diag(-1*np.ones(n-1), k=1)\n",
    "offset = np.diag(-1*np.ones(n))\n",
    "zeros = np.zeros((n, n))\n",
    "A = np.concatenate((\n",
    "    np.concatenate((main, offset, zeros), axis=1),\n",
    "    np.concatenate((offset, main, offset), axis=1),\n",
    "    np.concatenate((zeros, offset, main), axis=1)\n",
    "))\n",
    "A"
   ]
  },
  {
   "cell_type": "code",
   "execution_count": null,
   "metadata": {
    "collapsed": true
   },
   "outputs": [],
   "source": []
  }
 ],
 "metadata": {
  "kernelspec": {
   "display_name": "Python 3",
   "language": "python",
   "name": "python3"
  },
  "language_info": {
   "codemirror_mode": {
    "name": "ipython",
    "version": 3
   },
   "file_extension": ".py",
   "mimetype": "text/x-python",
   "name": "python",
   "nbconvert_exporter": "python",
   "pygments_lexer": "ipython3",
   "version": "3.6.3"
  }
 },
 "nbformat": 4,
 "nbformat_minor": 2
}
