{
 "cells": [
  {
   "cell_type": "code",
   "execution_count": 2,
   "metadata": {
    "collapsed": true
   },
   "outputs": [],
   "source": [
    "import numpy as np\n",
    "import matplotlib.pyplot as plt\n",
    "\n",
    "%matplotlib inline"
   ]
  },
  {
   "cell_type": "markdown",
   "metadata": {},
   "source": [
    "### Steady state model with friction\n",
    "\n",
    "$$\n",
    "\\begin{align}\n",
    "-fv & = -g\\frac{\\partial\\eta}{\\partial x} - ku + \\tau_x \\tag{1}\\\\\n",
    "fu & = -g\\frac{\\partial\\eta}{\\partial y} - kv \\tag{2}\n",
    "\\end{align}\n",
    "$$\n",
    "\n",
    "$$\\frac{\\partial}{\\partial x}(hu) + \\frac{\\partial}{\\partial y}(hv) = 0 \\tag{3}$$\n",
    "\n",
    "(3) implies a streamfunction\n",
    "\n",
    "$$u = -\\frac{\\partial\\psi}{\\partial y}, \\hspace{0.5cm} v = \\frac{\\partial\\psi}{\\partial x} \\tag{4}$$\n",
    "\n",
    "Substituting (4) into (1) and (2) and cross-differentiating gives the Poisson equation\n",
    "\n",
    "$$\\zeta = \\nabla^2\\psi = -\\frac{\\tau_x}{k} \\tag{5}$$\n",
    "\n",
    "Boundary conditions are\n",
    "\n",
    "$$v(x, 0) = \\frac{\\partial}{\\partial x}\\psi(x, 0) = 0 \\tag{6}$$\n",
    "\n",
    "Consider homogeneous Laplace equation\n",
    "\n",
    "$$\\nabla^2\\psi = 0 \\tag{7}$$\n",
    "\n",
    "Separation of variables gives\n",
    "\n",
    "$$\\frac{X''}{X} = -\\frac{Y''}{Y} = \\lambda^2 \\tag{8}$$\n",
    "\n",
    "Solve $Y$\n",
    "\n",
    "$$Y'' + \\lambda^2 Y = 0 \\tag{9}$$\n",
    "\n",
    "$$Y = a_1\\cos(\\lambda y) + a_2\\sin(\\lambda y) \\tag{10}$$\n",
    "\n",
    "$$Y(0) = Y(S) = 0, \\hspace{0.5cm} a_1 = 0, \\hspace{0.5cm} \\lambda = \\frac{n\\pi}{S} \\tag{11}$$\n",
    "\n",
    "Solve $X$\n",
    "\n",
    "$$X'' - \\lambda^2 X = 0 \\tag{12}$$\n",
    "\n",
    "$$X = b_1e^{\\lambda x} + b_2e^{-\\lambda x} \\tag{13}$$\n",
    "\n",
    "$$X \\to 0 \\text{ as } x \\to \\infty, \\hspace{0.5cm} b_1 = 0 \\tag{14}$$\n",
    "\n",
    "General solution\n",
    "\n",
    "$$\\psi(x, y) = \\sum_{n=1}^\\infty a_n\\exp\\left(-\\frac{n\\pi x}{S}\\right)\\sin\\left(\\frac{n\\pi y}{S}\\right) \\tag{15}$$"
   ]
  },
  {
   "cell_type": "markdown",
   "metadata": {
    "collapsed": true
   },
   "source": [
    "### Time dependent model with friction\n",
    "$\\require{cancel}$\n",
    "\n",
    "Shallow water model\n",
    "\n",
    "$$\\frac{\\partial\\mathbf{u}}{\\partial t} + f\\mathbf{k}\\times\\mathbf{u} = -g\\nabla\\eta - k\\mathbf{u} \\tag{1a}$$\n",
    "\n",
    "$$\\frac{\\partial\\eta}{\\partial t} + \\nabla\\cdot(h\\mathbf{u}) = -q \\tag{1b}$$\n",
    "\n",
    "PV equation\n",
    "\n",
    "$$\\frac{\\partial}{\\partial t}\\left(h\\zeta - f\\eta\\right) = f\\mathbf{u}\\cdot\\nabla h - kh\\zeta + fq \\tag{2}$$\n",
    "\n",
    "Sub $\\eta = \\eta_1ft + \\eta_0$, $\\mathbf{u} = \\mathbf{u}_1ft + \\mathbf{u}_0$. Proportial to $t$ we have\n",
    "\n",
    "$$f\\mathbf{k}\\times\\mathbf{u}_1 = -g\\nabla\\eta_1 - k\\mathbf{u}_1 \\tag{3a}$$\n",
    "\n",
    "$$\\nabla\\cdot(h\\mathbf{u}_1) = 0 \\tag{3b}$$\n",
    "\n",
    "and constant in time\n",
    "\n",
    "$$f\\mathbf{u}_1 + f\\mathbf{k}\\times\\mathbf{u}_0 = -g\\nabla\\eta_0 - k\\mathbf{u}_0 \\tag{4a}$$\n",
    "\n",
    "$$f\\eta_1 + \\nabla\\cdot(h\\mathbf{u}_0) = -q \\tag{4b}$$\n",
    "\n",
    "Sub soln into PV and assume $\\nabla h = 0$. Constant in time gives\n",
    "\n",
    "$$h\\nabla\\times\\mathbf{u_1} - f\\eta_1 = - \\frac{kh}{f}\\nabla\\times\\mathbf{u}_0 + q \\tag{5}$$\n",
    "\n",
    "Take divergence of (3a), combine with (3b), sub into (5)\n",
    "\n",
    "$$R^2\\nabla^2\\eta_1 = \\eta_1 - \\frac{kh}{f^2}\\nabla\\times\\mathbf{u}_0 + \\frac{q}{f} \\tag{6}$$\n",
    "\n",
    "Take divergence of (4a), combine with (4b), sub into (6)\n",
    "\n",
    "$$\\frac{kR^2}{f}\\nabla^2\\eta_0 = -kR^2\\nabla^2\\eta_1 + \\left(1 + \\frac{k^2}{f^2}\\right)\\eta_1 - \\left(f - k^2\\right)q \\tag{7}$$\n",
    "\n",
    "Assume $\\nabla^2\\eta_0 = 0$ (don't have a rationale for this)\n",
    "\n",
    "$$kR^2\\nabla^2\\eta_1 - \\left(1 + \\frac{k^2}{f^2}\\right)\\eta_1 = -\\left(f - k^2\\right)q \\tag{8}$$\n",
    "\n",
    "So we still have a Helmholtz model of the growing surface height, but now our no flow boundary condition along the coast is (from 3a) a longshore arrested Kelvin wave setup balanced by friction\n",
    "\n",
    "$$\\frac{\\partial\\eta_1}{\\partial x} = -\\frac{k}{g}u_1$$"
   ]
  },
  {
   "cell_type": "code",
   "execution_count": null,
   "metadata": {
    "collapsed": true
   },
   "outputs": [],
   "source": []
  }
 ],
 "metadata": {
  "kernelspec": {
   "display_name": "Python 3",
   "language": "python",
   "name": "python3"
  },
  "language_info": {
   "codemirror_mode": {
    "name": "ipython",
    "version": 3
   },
   "file_extension": ".py",
   "mimetype": "text/x-python",
   "name": "python",
   "nbconvert_exporter": "python",
   "pygments_lexer": "ipython3",
   "version": "3.6.3"
  }
 },
 "nbformat": 4,
 "nbformat_minor": 2
}
