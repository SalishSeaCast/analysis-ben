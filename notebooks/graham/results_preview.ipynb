{
 "cells": [
  {
   "cell_type": "code",
   "execution_count": 1,
   "id": "87de2cae-e230-4364-9d91-160dd35e9f17",
   "metadata": {},
   "outputs": [],
   "source": [
    "import numpy as np\n",
    "import xarray as xr\n",
    "import pandas as pd\n",
    "from matplotlib import pyplot as plt, patches\n",
    "from datetime import datetime, timedelta\n",
    "from tqdm import tqdm\n",
    "from scipy import interpolate\n",
    "\n",
    "import process_NEMO_obs_matching as tools\n",
    "from importlib import reload\n",
    "\n",
    "%matplotlib inline"
   ]
  },
  {
   "cell_type": "code",
   "execution_count": null,
   "id": "3a6be826-570b-436b-909f-678de7d008fe",
   "metadata": {},
   "outputs": [],
   "source": [
    "# Extra code\n",
    "# Define horizontal slices\n",
    "slc = {'y': jslc, 'x': islc}\n",
    "\n",
    "# Expand slices for unstaggering\n",
    "if gridtype in ['u', 'v']:\n",
    "    coord = dims_mapping[gridtype]\n",
    "    slc[coord] = slice(slc[coord].start, slc[coord].stop + 1)\n",
    "\n",
    "# Slice and interpolate ssh\n",
    "ssh = ssh.isel(slc).interp(time_counter=time)\n",
    "\n",
    "# Extrapolate over mask edges\n",
    "slc = (0,) + tuple(slc.values())\n",
    "ssh = ssh.where(gridvars['mask'][slc]).interpolate_na(dim=coord, **kwargs)\n",
    "\n",
    "# Unstagger to velocity grid\n",
    "if gridtype in ['u', 'v']:\n",
    "    ssh = ssh.interp({coord: np.arange(0.5, w)})\n",
    "\n",
    "# Depth array\n",
    "depths = gridvars['depth'] * np.expand_dims(1 + ssh / gridvars['H'], axis=0)\n",
    "\n",
    "# Extrapolate depth NaNs\n",
    "depths_nan = []\n",
    "da_nan = xr.DataArray(np.broadcast_to(np.nan, (w, w)), name='gdept_0', dims=('y', 'x'))\n",
    "for k, depth in enumerate(depths):\n",
    "    try:\n",
    "        depths_nan.append(depth.interpolate_na('x', **kwargs))\n",
    "    except:\n",
    "        try:\n",
    "            depths_nan.append(depth.interpolate_na('y', **kwargs))\n",
    "        except:\n",
    "            depths_nan.append(da_nan)\n",
    "depths_nan = xr.concat(depths_nan, dim='depth')"
   ]
  },
  {
   "cell_type": "code",
   "execution_count": null,
   "id": "ebb91598-5f10-4b7e-8a1c-3a8d1b10388f",
   "metadata": {},
   "outputs": [],
   "source": []
  }
 ],
 "metadata": {
  "kernelspec": {
   "display_name": "Python 3 (ipykernel)",
   "language": "python",
   "name": "python3"
  },
  "language_info": {
   "codemirror_mode": {
    "name": "ipython",
    "version": 3
   },
   "file_extension": ".py",
   "mimetype": "text/x-python",
   "name": "python",
   "nbconvert_exporter": "python",
   "pygments_lexer": "ipython3",
   "version": "3.9.6"
  }
 },
 "nbformat": 4,
 "nbformat_minor": 5
}
