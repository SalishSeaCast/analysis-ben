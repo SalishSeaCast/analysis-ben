{
 "cells": [
  {
   "cell_type": "markdown",
   "metadata": {},
   "source": [
    "## Accessing NEMO results\n",
    "This notebook explores different ways to access NEMO results and the associated computational efficiency"
   ]
  },
  {
   "cell_type": "code",
   "execution_count": 1,
   "metadata": {
    "collapsed": true
   },
   "outputs": [],
   "source": [
    "from nco import Nco\n",
    "import netCDF4 as nc\n",
    "import xarray as xr\n",
    "import numpy as np\n",
    "import datetime as dtm\n",
    "import dateutil.parser as dparser\n",
    "import timeit\n",
    "\n",
    "nco = Nco()"
   ]
  },
  {
   "cell_type": "markdown",
   "metadata": {},
   "source": [
    "### Append arrays directly\n",
    "These methods are pretty bad. Crashed COD several times. I can only assemble about 2-3 days of hourly results at best."
   ]
  },
  {
   "cell_type": "code",
   "execution_count": 3,
   "metadata": {
    "collapsed": false
   },
   "outputs": [
    {
     "name": "stdout",
     "output_type": "stream",
     "text": [
      "u_grid shape:  (72, 40, 898, 398)\n"
     ]
    }
   ],
   "source": [
    "# Looping into numpy arrays - Method 1\n",
    "\n",
    "# Initialize first file\n",
    "u_vel = nc.Dataset('/results/SalishSea/nowcast-green/01mar16/SalishSea_1h_20160301_20160301_grid_U.nc')\n",
    "u_grid = u_vel.variables['vozocrtx']\n",
    "\n",
    "# Append 2 days\n",
    "dates = [dparser.parse('2016 mar 02') + dtm.timedelta(days=day) for day in range(2)]\n",
    "\n",
    "# Iterate through 2 days\n",
    "for date in dates:\n",
    "    filepath = '/results/SalishSea/nowcast-green/{date1}/SalishSea_1h_{date2}_{date3}_grid_U.nc'.format(\n",
    "                date1=date.strftime('%d%b%y').lower(), date2=date.strftime('%Y%m%d'), date3=date.strftime('%Y%m%d'))\n",
    "    u_vel = nc.Dataset(filepath)\n",
    "    u_grid = np.concatenate((u_grid, u_vel.variables['vozocrtx']), axis=0)\n",
    "\n",
    "print('u_grid shape: ', u_grid.shape)"
   ]
  },
  {
   "cell_type": "code",
   "execution_count": 4,
   "metadata": {
    "collapsed": false
   },
   "outputs": [
    {
     "name": "stdout",
     "output_type": "stream",
     "text": [
      "u_grid shape:  (48, 40, 898, 398)\n"
     ]
    }
   ],
   "source": [
    "# Looping into numpy arrays - Method 2\n",
    "\n",
    "# Define 2 days\n",
    "dates = [dparser.parse('2016 mar 02') + dtm.timedelta(days=day) for day in range(2)]\n",
    "\n",
    "# Define list of netCDF4 datasets\n",
    "u_store = [nc.Dataset('/results/SalishSea/nowcast-green/{date1}/SalishSea_1h_{date2}_{date3}_grid_U.nc'.format(\n",
    "           date1=date.strftime('%d%b%y').lower(), date2=date.strftime('%Y%m%d'),\n",
    "           date3=date.strftime('%Y%m%d'))).variables['vozocrtx'] for date in dates]\n",
    "\n",
    "# Concatenate dataset list\n",
    "u_grid = np.concatenate(u_store, axis=0)\n",
    "\n",
    "print('u_grid shape: ', u_grid.shape)"
   ]
  },
  {
   "cell_type": "markdown",
   "metadata": {},
   "source": [
    "### Merge netCDF files using NCO\n",
    "This method merges netCDF files to a temporary merged file that can be loaded using netCDF4 or xarray. Still expensive, but far superior performance-wise to directly appending numpy arrays."
   ]
  },
  {
   "cell_type": "code",
   "execution_count": 2,
   "metadata": {
    "collapsed": false
   },
   "outputs": [],
   "source": [
    "def skookum_with_NCO(days):\n",
    "    \"\"\"Merge results from skookum with PyNCO\n",
    "    \"\"\"\n",
    "\n",
    "    # Define 2 days\n",
    "    dates = [dparser.parse('2016 mar 02') + dtm.timedelta(days=day) for day in range(days)]\n",
    "    \n",
    "    # Build list of filenames\n",
    "    filenames = ['/results/SalishSea/nowcast-green/{date1}/SalishSea_1h_{date2}_{date3}_grid_U.nc'.format(\n",
    "                 date1=date.strftime('%d%b%y').lower(), date2=date.strftime('%Y%m%d'),\n",
    "                 date3=date.strftime('%Y%m%d')) for date in dates]\n",
    "    \n",
    "    # Use nco.ncrcat to merge files to temporary, then load using netCDF4\n",
    "    u_vel = nc.Dataset(nco.ncrcat(filenames))\n",
    "    u_grid = u_vel.variables['vozocrtx'][:, :, :, :]\n",
    "    \n",
    "    print('u_grid shape: ', u_grid.shape)"
   ]
  },
  {
   "cell_type": "code",
   "execution_count": 3,
   "metadata": {
    "collapsed": false
   },
   "outputs": [
    {
     "name": "stdout",
     "output_type": "stream",
     "text": [
      "u_grid shape:  (24, 40, 898, 398)\n",
      "Time Elapsed:  56.09589666198008\n"
     ]
    }
   ],
   "source": [
    "t = timeit.timeit(stmt='skookum_with_NCO(1)', setup=\"from __main__ import skookum_with_NCO\", number=1)\n",
    "print('Time Elapsed: ', t)"
   ]
  },
  {
   "cell_type": "markdown",
   "metadata": {},
   "source": [
    "### Load ERDDAP results using netCDF4\n",
    "Essentially the server-side equivalent of merging with NCO and performs about the same"
   ]
  },
  {
   "cell_type": "code",
   "execution_count": 3,
   "metadata": {
    "collapsed": false
   },
   "outputs": [],
   "source": [
    "def ERDDAP_with_netCDF4(days):\n",
    "    \"\"\"Load ERDDAP results using netCDF4\n",
    "    \"\"\"\n",
    "    \n",
    "    # Specify date range\n",
    "    startdate = dparser.parse('2016 mar 01 00:30')\n",
    "    daterange = [startdate, startdate + dtm.timedelta(days=days)]\n",
    "    \n",
    "    # Load \n",
    "    u_vel      = nc.Dataset('https://salishsea.eos.ubc.ca/erddap/griddap/ubcSSn3DuVelocity1hV1')\n",
    "    index_NEMO = [abs(u_vel.variables['time'][:] - date.timestamp()).argmin() for date in daterange]\n",
    "    u_grid     = u_vel.variables['uVelocity'][index_NEMO[0]:index_NEMO[1], :, :, :]\n",
    "    \n",
    "    print('u_grid shape: ', u_grid.shape)"
   ]
  },
  {
   "cell_type": "code",
   "execution_count": 4,
   "metadata": {
    "collapsed": false
   },
   "outputs": [
    {
     "name": "stdout",
     "output_type": "stream",
     "text": [
      "u_grid shape:  (24, 40, 898, 398)\n",
      "Time Elapsed:  56.61164977197768\n"
     ]
    }
   ],
   "source": [
    "t = timeit.timeit(stmt='ERDDAP_with_netCDF4(1)', setup=\"from __main__ import ERDDAP_with_netCDF4\", number=1)\n",
    "print('Time Elapsed: ', t)"
   ]
  },
  {
   "cell_type": "code",
   "execution_count": null,
   "metadata": {
    "collapsed": true
   },
   "outputs": [],
   "source": []
  }
 ],
 "metadata": {
  "kernelspec": {
   "display_name": "Python 3",
   "language": "python",
   "name": "python3"
  },
  "language_info": {
   "codemirror_mode": {
    "name": "ipython",
    "version": 3
   },
   "file_extension": ".py",
   "mimetype": "text/x-python",
   "name": "python",
   "nbconvert_exporter": "python",
   "pygments_lexer": "ipython3",
   "version": "3.5.1"
  }
 },
 "nbformat": 4,
 "nbformat_minor": 0
}
