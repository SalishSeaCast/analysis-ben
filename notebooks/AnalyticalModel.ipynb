{
 "cells": [
  {
   "cell_type": "markdown",
   "metadata": {},
   "source": [
    "# Analytical Upwelling Model"
   ]
  },
  {
   "cell_type": "markdown",
   "metadata": {
    "collapsed": true
   },
   "source": [
    "$x$-independent case (absence of a coastline feature)\n",
    "\n",
    "$$\\frac{\\partial^2\\bar{\\eta}(y)}{\\partial y^2} - \\frac{1}{R^2}\\bar{\\eta}(y) = \\frac{q}{f}$$\n",
    "\n",
    "$$R = \\frac{\\sqrt{gh}}{f}$$\n",
    "\n",
    "$$\\bar{\\eta}(y) = \\bar{\\eta}_H + \\bar{\\eta}_P$$\n",
    "\n",
    "$$\\bar{\\eta}_P = \\frac{q}{f}$$\n",
    "\n",
    "$$\\frac{\\partial^2\\bar{\\eta}_H}{\\partial y^2} - \\frac{1}{R^2}\\bar{\\eta}_H = 0$$\n",
    "\n",
    "$$\\bar{\\eta}(y) = C_1e^{y/R} + C_2e^{-y/R} + \\frac{q}{f}$$\n",
    "\n",
    "$$\\frac{\\partial\\bar{\\eta}(0)}{\\partial y} = 0 \\tag{no flow along boundary due to friction?}$$\n",
    "\n",
    "For this boundary condition, $C_1 = C_2$ and thus no $y$-dependence. Makes sense to me that if the solution is exponentials and there is no slope at the coast then the solution is constant everywhere. So I either need a different general solution or a different boundary condition. Thoughts?"
   ]
  },
  {
   "cell_type": "code",
   "execution_count": null,
   "metadata": {
    "collapsed": true
   },
   "outputs": [],
   "source": []
  }
 ],
 "metadata": {
  "kernelspec": {
   "display_name": "Python 3",
   "language": "python",
   "name": "python3"
  },
  "language_info": {
   "codemirror_mode": {
    "name": "ipython",
    "version": 3
   },
   "file_extension": ".py",
   "mimetype": "text/x-python",
   "name": "python",
   "nbconvert_exporter": "python",
   "pygments_lexer": "ipython3",
   "version": "3.6.3"
  }
 },
 "nbformat": 4,
 "nbformat_minor": 2
}
