{
 "cells": [
  {
   "cell_type": "markdown",
   "metadata": {},
   "source": [
    "# Analytical Upwelling Model"
   ]
  },
  {
   "cell_type": "code",
   "execution_count": 2,
   "metadata": {
    "collapsed": true
   },
   "outputs": [],
   "source": [
    "import numpy as np\n",
    "import matplotlib.pyplot as plt\n",
    "import sympy as sp\n",
    "\n",
    "%matplotlib inline\n",
    "\n",
    "plt.rcParams['font.size'] = 14"
   ]
  },
  {
   "cell_type": "code",
   "execution_count": 3,
   "metadata": {
    "collapsed": true
   },
   "outputs": [],
   "source": [
    "def make_domain_diagram(E=0.1, M=0.3, S=1.0):\n",
    "    \"\"\"Quick plotting code for a domain diagram\n",
    "    \"\"\"\n",
    "    \n",
    "    # Make figure\n",
    "    fig, ax = plt.subplots(1, 1, figsize=(13, 5))\n",
    "    ax.set_xlim([0, 1])\n",
    "    ax.set_ylim([0, S])\n",
    "    \n",
    "    # Add labels\n",
    "    ax.set_xlabel('X')\n",
    "    ax.set_ylabel('Y')\n",
    "    ax.xaxis.set_ticks([0])\n",
    "    ax.yaxis.set_ticks([0, M, S])\n",
    "    ax.yaxis.set_ticklabels([0, 'M', 'S'])\n",
    "    ax.tick_params(direction='out', pad=8)\n",
    "    ax.text(-0.07, M/2-0.01, 'Cape')\n",
    "    ax.text(1.01, S-0.01, 'Shelfbreak')\n",
    "    \n",
    "    # Add coastline ticks\n",
    "    for tick in np.arange(0, 1, 0.01):\n",
    "        ax.plot([tick, tick+0.01], [0, -0.02], 'k-', clip_on=False)\n",
    "    for tick in np.arange(0, M, 0.03):\n",
    "        ax.plot([-0.008, 0], [tick, tick+0.02], 'k-', clip_on=False)\n",
    "        \n",
    "    # Display SSH sink lengthscale\n",
    "    ax.plot([0, 1], [E, E], 'k--')\n",
    "    ax.text(1.01, E-0.01, 'E')"
   ]
  },
  {
   "cell_type": "code",
   "execution_count": 4,
   "metadata": {},
   "outputs": [
    {
     "data": {
      "image/png": "[encoded data removed]",
      "text/plain": [
       "<matplotlib.figure.Figure at 0x7f4de8392a20>"
      ]
     },
     "metadata": {},
     "output_type": "display_data"
    }
   ],
   "source": [
    "make_domain_diagram()"
   ]
  },
  {
   "cell_type": "markdown",
   "metadata": {
    "collapsed": true
   },
   "source": [
    "### Shallow water free surface equations for upwelling along a coastline\n",
    "\n",
    "From Allen (1996), *JPO*:\n",
    "\n",
    "The linear barotropic shallow water equations excluding the surface layer are\n",
    "\n",
    "$$\\begin{align}\n",
    "\\frac{\\partial \\mathbf{u}}{\\partial t} + f\\mathbf{k} \\times \\mathbf{u} & = -g\\nabla\\eta \\tag{1a} \\\\\n",
    "\\frac{\\partial \\eta}{\\partial t} + \\nabla\\cdot\\left(h\\mathbf{u}\\right) & = -q \\tag{1b}\n",
    "\\end{align}$$\n",
    "\n",
    "where $q$ is the sea surface height sink due to Ekman pumping within a lengthscale $E$, given by\n",
    "\n",
    "$$q =\n",
    "  \\begin{cases}\n",
    "    q_0,  & \\quad y > E\\\\\n",
    "    0,    & \\quad y < E\n",
    "  \\end{cases} \\tag{2}\n",
    "$$\n",
    "\n",
    "and $q_0 = \\tau/Ef$. A potential vorticity conservation equation can be derived\n",
    "\n",
    "$$\\frac{\\partial}{\\partial t}\\left(h\\nabla \\times \\mathbf{u} - f\\eta\\right) = f\\mathbf{u}\\cdot\\nabla h + fq \\tag{3}$$\n",
    "\n",
    "Substituting constant and time-dependent solutions $\\eta = \\eta_1ft + \\eta_0, \\hspace{0.2cm} u = u_1ft + u_0, and \\hspace{0.2cm} v = v_1ft + v_0$ into (1) and (3) gives, away from topographic changes\n",
    "\n",
    "$$\\begin{align}\n",
    "a^2\\nabla^2\\eta_1 - \\eta_1 & = \\frac{q}{f} \\tag{9} \\\\\n",
    "a^2\\nabla^2\\eta_0 - \\eta_0 & = 0 \\tag{10}\n",
    "\\end{align}$$\n",
    "\n",
    "where $a = \\sqrt{gh}/f$ is the barotropic Rossby radius.\n",
    "\n",
    "### Solution in absence of a cape\n",
    "\n",
    "In the absence of a cape, (9) is $x$-independent and reduces to\n",
    "\n",
    "$$\\frac{gh}{f^2}\\frac{\\partial^2 \\bar{\\eta_1}(y)}{\\partial y^2} - \\bar{\\eta_1}(y) = \\frac{q}{f} \\tag{A2}$$\n",
    "\n",
    "Boundary conditions are\n",
    "\n",
    "$$\\begin{align}\n",
    "& \\frac{\\partial \\bar{\\eta_1}(0)}{\\partial y} = 0 \\hspace{0.5cm} \\text{(no flow along coastal boundary)} \\tag{A3a} \\\\\n",
    "& \\bar{\\eta_1}(E), \\hspace{0.3cm} \\frac{\\partial \\bar{\\eta_1}(E)}{\\partial y} \\hspace{0.5cm} \\text{continuous} \\tag{A3b} \\\\\n",
    "& \\bar{\\eta_1}(S), \\hspace{0.3cm} h\\frac{\\partial \\bar{\\eta_1}(S)}{\\partial y} \\hspace{0.5cm} \\text{continuous} \\tag{A3c} \\\\\n",
    "& \\lim_{y \\to \\infty} \\bar{\\eta_1}(y) = 0 \\hspace{0.5cm} \\text{($\\eta$ decays far from coast)} \\tag{A3d}\n",
    "\\end{align}$$\n",
    "\n",
    "The solution to (A2) given the boundary conditions (A3) is\n",
    "\n",
    "$$\\bar{\\eta_1}(y) =\n",
    "\\begin{cases}\n",
    "\\frac{q_0}{f}\\left(\\frac{\\alpha\\sinh\\left(\\frac{S - E}{a_s}\\right) + \\cosh\\left(\\frac{S - E}{a_s}\\right)}{\\alpha\\sinh\\left(\\frac{S}{a_s}\\right) + \\cosh\\left(\\frac{S}{a_s}\\right)}\\right)\\cosh\\left(\\frac{y}{a_s}\\right) - \\frac{q_0}{f},  & \\quad y < E \\\\\n",
    "-\\frac{q_0}{f}\\left(\\frac{\\sinh\\left(\\frac{E}{a_s}\\right)}{\\alpha\\sinh\\left(\\frac{S}{a_s}\\right) + \\cosh\\left(\\frac{S}{a_s}\\right)}\\right)\\left[\\alpha\\cosh\\left(\\frac{S - y}{a_s}\\right) + \\sinh\\left(\\frac{S - y}{a_s}\\right)\\right],  & \\quad E < y < S\n",
    "\\end{cases} \\tag{A4}\n",
    "$$\n",
    "\n",
    "The calculation is shown below"
   ]
  },
  {
   "cell_type": "code",
   "execution_count": 38,
   "metadata": {
    "collapsed": true
   },
   "outputs": [],
   "source": [
    "# Physical parameters\n",
    "g = 9.81    # Gravitational acceleration [m/s2]\n",
    "f = 1e-4    # Coriolis parameter         [1/s]\n",
    "tau = 0.1   # Windstress                 [N/m2]\n",
    "H_s = 1e2   # Depth over shelf           [m]\n",
    "H_d = 2e3   # Depth beyond shelfbreak    [m]\n",
    "\n",
    "# Domain parameters\n",
    "E = 5e4     # Upwelling lengthscale      [m]\n",
    "S = 6e5     # Shelf width                [m]\n",
    "\n",
    "# Calculate terms\n",
    "a_s = np.sqrt(g * H_s) / f  # Rossby radius [m]\n",
    "alpha = np.sqrt(H_s / H_d)  # Depth ratio\n",
    "q_0 = tau / (E * f)         # Ekman pumping [m/s]\n",
    "\n",
    "# Primary cosh and sinh terms\n",
    "top = alpha * np.sinh((S - E) / a_s) + np.cosh((S - E) / a_s)\n",
    "bot = alpha * np.sinh(S / a_s) + np.cosh(S / a_s)\n",
    "\n",
    "# Make y array\n",
    "y = np.arange(0, S, 1e3)\n",
    "\n",
    "# Calculate eta_bar\n",
    "eta_bar_near = q_0 / f * (top / bot * np.cosh(y / a_s) - 1)\n",
    "eta_bar_far = -q_0 / f * np.sinh(E / a_s) / bot * (alpha * np.cosh((S - y) / a_s) + np.sinh((S - y) / a_s))\n",
    "eta_bar = eta_bar_far\n",
    "eta_bar_far[y <= E] = eta_bar_near[y <= E]"
   ]
  },
  {
   "cell_type": "markdown",
   "metadata": {},
   "source": [
    "And plotted"
   ]
  },
  {
   "cell_type": "code",
   "execution_count": 39,
   "metadata": {},
   "outputs": [
    {
     "data": {
      "image/png": "[encoded data removed]",
      "text/plain": [
       "<matplotlib.figure.Figure at 0x7f4ddf73b198>"
      ]
     },
     "metadata": {},
     "output_type": "display_data"
    }
   ],
   "source": [
    "# Plot eta_bar\n",
    "fig, ax = plt.subplots(1, 1, figsize=(10, 5))\n",
    "ax.plot(y[y < E] / a_s, eta_bar_near[y < E])\n",
    "ax.plot(y[y > E] / a_s, eta_bar_far[y > E])\n",
    "ax.set_xlabel('Cross shelf distance [x/a$_s$]')\n",
    "ax.set_ylabel('$\\\\bar{\\eta_1}$')\n",
    "\n",
    "plt.show()"
   ]
  },
  {
   "cell_type": "markdown",
   "metadata": {},
   "source": [
    "### Solution of time-varying component\n",
    "\n",
    "The full solution to (9) can be decomposed into a particular solution given by $\\bar{\\eta_1}(y)$ and a homogeneous solution $\\phi$\n",
    "\n",
    "$$\\eta_1 = \\bar{\\eta_1}(y) + \\phi \\tag{12}$$\n",
    "\n",
    "where $\\phi$ satisfies the equation\n",
    "\n",
    "$$\\nabla^2\\phi - \\phi = 0 \\tag{13}$$\n",
    "\n",
    "Boundary conditions are\n",
    "\n",
    "$$\n",
    "\\begin{align}\n",
    "\\phi(0) = \\phi(S) & = 0 \\hspace{0.5cm} \\text{($x$-independent at coast and shelfbreak)} \\tag{14a} \\\\\n",
    "\\lim_{x \\to \\infty}\\phi & = 0 \\hspace{0.5cm} \\text{($x$-independent away from cape)} \\tag{14b} \\\\\n",
    "\\phi(0, [0, M]) & = \\bar{\\eta_1}(0) - \\bar{\\eta_1}(y) \\hspace{0.5cm} \\text{(no flow through cape)} \\tag{14c} \\\\\n",
    "\\frac{\\partial}{\\partial x}\\phi(0, [M, S]) & = 0 \\hspace{0.5cm} \\text{(flow around cape is symmetric)} \\tag{14d}\n",
    "\\end{align}\n",
    "$$\n",
    "\n",
    "The general solution to (13) given the $y$ boundary conditions (14a and b) is\n",
    "\n",
    "$$\\phi = \\sum_{n=1}^\\infty c_n\\exp\\left\\{-x\\left[1 + \\left(\\frac{n\\pi}{S}\\right)^2\\right]^{1/2}\\right\\}\\sin\\left(\\frac{n\\pi y}{S}\\right) \\tag{15, 16}$$\n",
    "\n",
    "Applying the $x = 0$ boundary conditions\n",
    "\n",
    "$$\n",
    "\\begin{align}\n",
    "\\phi(0, y) = & \\sum_{n=1}^\\infty c_n\\sin\\left(\\frac{n\\pi y}{S}\\right) = \\frac{q_0}{f}\\left(\\frac{\\alpha\\sinh\\left(\\frac{S - E}{a_s}\\right) + \\cosh\\left(\\frac{S - E}{a_s}\\right)}{\\alpha\\sinh\\left(\\frac{S}{a_s}\\right) + \\cosh\\left(\\frac{S}{a_s}\\right)}\\right)\\left[1 - \\cosh\\left(\\frac{y}{a_s}\\right)\\right] & \\hspace{0.2cm} \\text{for } y = [0, M] \\\\\n",
    "\\frac{\\partial}{\\partial x}\\phi(0, y) = & \\sum_{n=1}^\\infty -c_n\\left[1 + \\left(\\frac{n\\pi}{S}\\right)^2\\right]^{1/2}\\sin\\left(\\frac{n\\pi y}{S}\\right) = 0 & \\hspace{0.2cm} \\text{for } y = [M, S]\n",
    "\\end{align}$$\n",
    "\n",
    "Now we calculate phi and eta"
   ]
  },
  {
   "cell_type": "code",
   "execution_count": 43,
   "metadata": {},
   "outputs": [],
   "source": [
    "# Parameters\n",
    "N = 50\n",
    "M = E\n",
    "\n",
    "# Define y arrays\n",
    "N_cape = int(N * M / S)\n",
    "N_water = N - N_cape\n",
    "y_cape = np.arange(1, N_cape + 1) / N_cape * M\n",
    "y_water = np.arange(N_water) / (N_water - 1) * (S - M) + M\n",
    "\n",
    "# Allocate matrix A\n",
    "A = np.empty([0, N])\n",
    "RHS = np.zeros([N, 1])\n",
    "\n",
    "# Populate A and RHS near cape (0 to M)\n",
    "for i, yi in enumerate(y_cape):\n",
    "    A = np.vstack([A, np.array([np.sin(n * np.pi / S * yi) for n in range(1, N + 1)])])\n",
    "    RHS[i] = q_0 / f * top / bot * (1 - np.cosh(yi / a_s))\n",
    "\n",
    "# Populate A over water (M to S)\n",
    "for yi in y_water:\n",
    "    A = np.vstack([A, np.array([-np.sqrt(1 + (n * np.pi / S)**2) * np.sin(n * np.pi / S * yi) for n in range(1, N + 1)])])\n",
    "    \n",
    "# Solve for C coefficients\n",
    "C = np.linalg.solve(A, RHS)\n",
    "\n",
    "# Calculate phi\n",
    "x = np.arange(0, 100, 1)\n",
    "x, y = np.meshgrid(x, y)\n",
    "phi = np.zeros(x.shape)\n",
    "for n, C_n in zip(range(N), C):\n",
    "    phi = phi + C_n * np.exp(-x * np.sqrt(1 + (n * np.pi / S)**2)) * np.sin(n * np.pi / S * y)\n",
    "\n",
    "# Calculate eta\n",
    "eta = phi + eta_bar[:, np.newaxis] * np.ones(x.shape)"
   ]
  },
  {
   "cell_type": "markdown",
   "metadata": {},
   "source": [
    "And plot"
   ]
  },
  {
   "cell_type": "code",
   "execution_count": 44,
   "metadata": {},
   "outputs": [
    {
     "data": {
      "image/png": "[encoded data removed]",
      "text/plain": [
       "<matplotlib.figure.Figure at 0x7f4de043aac8>"
      ]
     },
     "metadata": {},
     "output_type": "display_data"
    }
   ],
   "source": [
    "# Plot eta_bar\n",
    "fig, ax = plt.subplots(1, 1, figsize=(10, 10))\n",
    "ax.contourf(x, y/S, phi)\n",
    "ax.set_xlim([0, 2])\n",
    "ax.set_xlabel('x [m]')\n",
    "ax.set_ylabel('y/S')\n",
    "\n",
    "plt.show()"
   ]
  },
  {
   "cell_type": "code",
   "execution_count": null,
   "metadata": {
    "collapsed": true
   },
   "outputs": [],
   "source": []
  }
 ],
 "metadata": {
  "kernelspec": {
   "display_name": "Python 3",
   "language": "python",
   "name": "python3"
  },
  "language_info": {
   "codemirror_mode": {
    "name": "ipython",
    "version": 3
   },
   "file_extension": ".py",
   "mimetype": "text/x-python",
   "name": "python",
   "nbconvert_exporter": "python",
   "pygments_lexer": "ipython3",
   "version": "3.6.3"
  }
 },
 "nbformat": 4,
 "nbformat_minor": 2
}
