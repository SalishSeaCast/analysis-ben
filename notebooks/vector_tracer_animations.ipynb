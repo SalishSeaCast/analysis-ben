{
 "cells": [
  {
   "cell_type": "markdown",
   "metadata": {
    "collapsed": true
   },
   "source": [
    "## Vector and Tracer Animations\n",
    "This notebook loads and animates Salish Sea NEMO 3.4 Nowcast results. It requires having the XArray and Basemap packages installed."
   ]
  },
  {
   "cell_type": "code",
   "execution_count": 1,
   "metadata": {
    "collapsed": false
   },
   "outputs": [],
   "source": [
    "import numpy                as np\n",
    "import xarray               as xr\n",
    "import datetime             as dtm\n",
    "import dateutil.parser      as dparser\n",
    "import matplotlib.pyplot    as plt\n",
    "import matplotlib.animation as animation\n",
    "import os\n",
    "import collections\n",
    "\n",
    "from mpl_toolkits.basemap import Basemap\n",
    "from matplotlib.patches import Rectangle"
   ]
  },
  {
   "cell_type": "code",
   "execution_count": 2,
   "metadata": {
    "collapsed": false
   },
   "outputs": [],
   "source": [
    "def load_NEMO(\n",
    "    timerange, depth, w_grid, spacing,\n",
    "    ERDDAP_url='https://salishsea.eos.ubc.ca/erddap/griddap'\n",
    "):\n",
    "    \"\"\"Loads and processes Salish Sea NEMO 3.4 salinity and velocity fields\n",
    "    on the specified timerange, depth, domain window, and vector spacing.\n",
    "    \"\"\"\n",
    "    \n",
    "    # Slice objects for xarray indexing\n",
    "    tslice = slice(timerange[0], timerange[1])\n",
    "    xslice = slice(w_grid[0], w_grid[1])\n",
    "    yslice = slice(w_grid[2], w_grid[3])\n",
    "    \n",
    "    # Load Salish Sea NEMO results from ERDDAP server as xarray DataSets\n",
    "    NEMO_grid = xr.open_dataset(os.path.join(ERDDAP_url, 'ubcSSnBathymetry2V1'))\n",
    "    NEMO_trc  = xr.open_dataset(os.path.join(ERDDAP_url, 'ubcSSn3DTracerFields1hV1'))\n",
    "    NEMO_u    = xr.open_dataset(os.path.join(ERDDAP_url, 'ubcSSn3DuVelocity1hV1'))\n",
    "    NEMO_v    = xr.open_dataset(os.path.join(ERDDAP_url, 'ubcSSn3DvVelocity1hV1'))\n",
    "    \n",
    "    # Extract results as xarray DataArrays\n",
    "    lon      = NEMO_grid.longitude.sel(gridX=xslice, gridY=yslice)\n",
    "    lat      = NEMO_grid.latitude.sel( gridX=xslice, gridY=yslice)\n",
    "    salinity = NEMO_trc.salinity.sel(  gridX=xslice, gridY=yslice, time=tslice).sel(\n",
    "                                       depth=depth, method='nearest')\n",
    "    u        = NEMO_u.uVelocity.sel(   gridX=xslice, gridY=yslice, time=tslice).sel(\n",
    "                                       depth=depth, method='nearest')\n",
    "    v        = NEMO_v.vVelocity.sel(   gridX=xslice, gridY=yslice, time=tslice).sel(\n",
    "                                       depth=depth, method='nearest')\n",
    "    \n",
    "    # Unstagger currents\n",
    "    u = np.add(u[..., :-1   ], u[..., 1:   ]) / 2\n",
    "    v = np.add(v[..., :-1, :], v[..., 1:, :]) / 2\n",
    "    v = v.reindex_like(u)\n",
    "    \n",
    "    # Subsample currents\n",
    "    u = u[:, ::spacing, ::spacing]\n",
    "    v = v[:, ::spacing, ::spacing]\n",
    "        \n",
    "    # Rotate currents\n",
    "    theta_rad = 29 * np.pi / 180\n",
    "    u_map = u * np.cos(theta_rad) - v * np.sin(theta_rad)\n",
    "    v_map = u * np.sin(theta_rad) + v * np.cos(theta_rad)\n",
    "    \n",
    "    # Return as dict\n",
    "    NEMO = {'lon': lon, 'lat': lat, 'salinity': salinity, 'u': u_map, 'v': v_map}\n",
    "    \n",
    "    return NEMO"
   ]
  },
  {
   "cell_type": "code",
   "execution_count": 3,
   "metadata": {
    "collapsed": true
   },
   "outputs": [],
   "source": [
    "def make_figure(ax, cmap, time_ind, w_map, spacing, NEMO):\n",
    "    \"\"\"Plots horizontal Salish Sea NEMO salinity and velocity fields\n",
    "    on a basemap instance at the specified time index, map window, and\n",
    "    vector spacing. (Vector spacing must be the SAME as that used in\n",
    "    load_NEMO!)\n",
    "    \"\"\"\n",
    "    \n",
    "    # Find center coords\n",
    "    lon_0 = (w_map[1] - w_map[0]) / 2 + w_map[0]\n",
    "    lat_0 = (w_map[3] - w_map[2]) / 2 + w_map[2]\n",
    "    \n",
    "    # Plot map\n",
    "    m = Basemap(projection='lcc', resolution='h', lon_0=lon_0, lat_0=lat_0,\n",
    "                llcrnrlon=w_map[0], urcrnrlon=w_map[1],\n",
    "                llcrnrlat=w_map[2], urcrnrlat=w_map[3])\n",
    "    m.drawcoastlines(zorder=1)\n",
    "    m.fillcontinents(color='burlywood', lake_color='white')\n",
    "    m.drawmeridians(np.arange(w_map[0], w_map[1], 0.5), labels=[0, 0, 0, 1])\n",
    "    m.drawparallels(np.arange(w_map[2], w_map[3], 0.5), labels=[1, 0, 0, 0])\n",
    "    \n",
    "    # Get map coordinates\n",
    "    NEMO['x_map'], NEMO['y_map'] = m(NEMO['lon'].values, NEMO['lat'].values)\n",
    "    \n",
    "    # Plot salinity\n",
    "    CONT_OBJ = m.contourf(NEMO['x_map'], NEMO['y_map'],\n",
    "                np.ma.masked_values(NEMO['salinity'].sel(time=time_ind, method='nearest'), 0),\n",
    "                range(32), cmap=cmap, zorder=0)\n",
    "    cbar = m.colorbar(CONT_OBJ)\n",
    "    cbar.set_label('Practical Salinity')\n",
    "    \n",
    "    # Plot currents\n",
    "    QUIV_OBJ = m.quiver(\n",
    "                NEMO['x_map'][1::spacing, 1::spacing], NEMO['y_map'][1::spacing, 1::spacing],\n",
    "                np.ma.masked_values(NEMO['u'].sel(time=time_ind, method='nearest'), 0),\n",
    "                np.ma.masked_values(NEMO['v'].sel(time=time_ind, method='nearest'), 0),\n",
    "                scale=10)\n",
    "    ax.add_patch(Rectangle((0.78, 0.9), 0.22, 0.1,\n",
    "                facecolor='white', transform=ax.transAxes, zorder=4))\n",
    "    Qkey = plt.quiverkey(QUIV_OBJ, 0.87, 0.93, 1, '1 m/s', coordinates='axes')\n",
    "    Qkey.set_zorder(5)\n",
    "\n",
    "    # Timestamp\n",
    "    TEXT_OBJ = plt.text(0.02, 1.02, time_ind.strftime('%a %Y-%m-%d %H:%M:%S %Z'),\n",
    "               transform=ax.transAxes, zorder=5)\n",
    "    \n",
    "    # Return as dict\n",
    "    PLOT_OBJS = {'CONT_OBJ': CONT_OBJ, 'QUIV_OBJ': QUIV_OBJ, 'TEXT_OBJ': TEXT_OBJ}\n",
    "    \n",
    "    return NEMO, PLOT_OBJS"
   ]
  },
  {
   "cell_type": "code",
   "execution_count": 4,
   "metadata": {
    "collapsed": true
   },
   "outputs": [],
   "source": [
    "def update_figure(ax, cmap, time_ind, NEMO, PLOT_OBJS):\n",
    "    \"\"\"Updates horizontal Salish Sea NEMO salinity and velocity fields\n",
    "    to the specified time index.\n",
    "    \"\"\"\n",
    "    \n",
    "    # Update NEMO salinity contours\n",
    "    for C in PLOT_OBJS['CONT_OBJ'].collections: C.remove()\n",
    "    PLOT_OBJS['CONT_OBJ'] = ax.contourf(\n",
    "            NEMO['x_map'], NEMO['y_map'],\n",
    "            np.ma.masked_values(NEMO['salinity'].sel(time=time_ind, method='nearest'), 0),\n",
    "            range(32), cmap=cmap, zorder=0)\n",
    "    \n",
    "    # Update NEMO current vectors\n",
    "    PLOT_OBJS['QUIV_OBJ'].set_UVC(\n",
    "            np.ma.masked_values(NEMO['u'].sel(time=time_ind, method='nearest'), 0),\n",
    "            np.ma.masked_values(NEMO['v'].sel(time=time_ind, method='nearest'), 0))\n",
    "    \n",
    "    # Update timestamp\n",
    "    PLOT_OBJS['TEXT_OBJ'].set_text(time_ind.strftime('%a %Y-%m-%d %H:%M:%S %Z'))\n",
    "    \n",
    "    return PLOT_OBJS"
   ]
  },
  {
   "cell_type": "code",
   "execution_count": 5,
   "metadata": {
    "collapsed": false
   },
   "outputs": [],
   "source": [
    "def make_animation(\n",
    "    timerange, depth=0, spacing=5, writepath='~/Desktop',\n",
    "    w_grid=[100, 398, 230, 570], w_map=[-124, -122.7, 48.3, 49.7],\n",
    "):\n",
    "    \"\"\"Animates Salish Sea NEMO 3.4 salinity and velocity fields over a\n",
    "    Basemap instance on the specified timerange, depth, vector spacing,\n",
    "    domain window, and map window. Saves to the the specified writepath.\n",
    "    \"\"\"\n",
    "    \n",
    "    # Parse dates\n",
    "    starttime, endtime = map(dparser.parse, timerange)\n",
    "    frames = (endtime - starttime).days * 24\n",
    "    \n",
    "    # Write file path\n",
    "    writefile = 'NEMO_{}m_{}to{}.mp4'.format(\n",
    "                depth, starttime.strftime('%Y%b%dT%H'), endtime.strftime('%Y%b%dT%H'))\n",
    "    filepath = os.path.join(writepath, writefile)\n",
    "    \n",
    "    # Load NEMO\n",
    "    NEMO = load_NEMO(timerange, depth, w_grid, spacing)\n",
    "    \n",
    "    # Make figure\n",
    "    fig, ax = plt.subplots(1, 1, figsize=(10, 10))\n",
    "    cmap = plt.get_cmap('jet')\n",
    "    cmap.set_bad('white')\n",
    "    \n",
    "    # Plot first timestep\n",
    "    NEMO, PLOT_OBJS = make_figure(ax, cmap, starttime, w_map, spacing, NEMO)\n",
    "    \n",
    "    # Next frame definition\n",
    "    def next_frame(t, PLOT_OBJS):\n",
    "        time_ind = (starttime + dtm.timedelta(hours=t))\n",
    "        PLOT_OBJS = update_figure(ax, cmap, time_ind, NEMO, PLOT_OBJS)\n",
    "        return PLOT_OBJS\n",
    "    \n",
    "    # Animate\n",
    "    mywriter = animation.FFMpegWriter(fps=12, bitrate=10000)\n",
    "    ANI = animation.FuncAnimation(fig, next_frame, frames=frames, fargs=[PLOT_OBJS], blit=False)\n",
    "    ANI.save(filepath, writer=mywriter)"
   ]
  },
  {
   "cell_type": "code",
   "execution_count": 6,
   "metadata": {
    "collapsed": false
   },
   "outputs": [],
   "source": [
    "timerange = ['2016 Jun 1 00:00', '2016 Jun 2 00:00']\n",
    "writepath='/ocean/bmoorema/research/programming/swc/30Jun2016'\n",
    "make_animation(timerange, writepath=writepath)"
   ]
  },
  {
   "cell_type": "code",
   "execution_count": null,
   "metadata": {
    "collapsed": true
   },
   "outputs": [],
   "source": []
  }
 ],
 "metadata": {
  "kernelspec": {
   "display_name": "Python 3",
   "language": "python",
   "name": "python3"
  },
  "language_info": {
   "codemirror_mode": {
    "name": "ipython",
    "version": 3
   },
   "file_extension": ".py",
   "mimetype": "text/x-python",
   "name": "python",
   "nbconvert_exporter": "python",
   "pygments_lexer": "ipython3",
   "version": "3.5.1"
  }
 },
 "nbformat": 4,
 "nbformat_minor": 0
}
