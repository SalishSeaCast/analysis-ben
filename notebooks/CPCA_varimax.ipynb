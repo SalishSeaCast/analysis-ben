{
 "cells": [
  {
   "cell_type": "markdown",
   "metadata": {},
   "source": [
    "# Principal Component Analysis of Nowcast Velocities\n",
    "This notebook describes the process of performing complex principal component analysis (C-PCA) on the SalishSeaCast Nowcast velocity record and explores the results.\n",
    "\n",
    "This notebook is organized into the following sections:\n",
    "\n",
    "   1. [Load Nowcast and GEM Record](#Load-Nowcast-and-GEM-Record)\n",
    "   2. [Principal Component Analysis](#Principal-Component-Analysis)\n",
    "   3. [Varimax Rotation]()\n",
    "   4. [Explore Results]()"
   ]
  },
  {
   "cell_type": "code",
   "execution_count": 5,
   "metadata": {
    "collapsed": true
   },
   "outputs": [],
   "source": [
    "from salishsea_tools import grid_tools\n",
    "import timeseries_extras\n",
    "import numpy as np\n",
    "import xarray as xr\n",
    "import matplotlib.pyplot as plt\n",
    "import pickle\n",
    "\n",
    "%matplotlib inline"
   ]
  },
  {
   "cell_type": "markdown",
   "metadata": {},
   "source": [
    "## Load Nowcast and GEM Record\n",
    "Load grid and mask files."
   ]
  },
  {
   "cell_type": "code",
   "execution_count": null,
   "metadata": {
    "collapsed": true
   },
   "outputs": [],
   "source": [
    "# Load mask and grid\n",
    "mask = xr.open_dataset('/ocean/bmoorema/research/MEOPAR/NEMO-forcing/grid/mesh_mask_downbyone2.nc')\n",
    "grid = xr.open_dataset('/ocean/bmoorema/research/MEOPAR/NEMO-forcing/grid/bathy_downonegrid2.nc')\n",
    "grid_GEM = xr.open_dataset('/results/forcing/atmospheric/GEM2.5/operational/ops_y2017m01d01.nc')"
   ]
  },
  {
   "cell_type": "markdown",
   "metadata": {},
   "source": [
    "Build GEM mask"
   ]
  },
  {
   "cell_type": "code",
   "execution_count": null,
   "metadata": {
    "collapsed": true
   },
   "outputs": [],
   "source": [
    "# Build GEM mask\n",
    "mask_GEM = grid_tools.build_GEM_mask(grid_GEM, grid, mask.tmask.isel(t=0, z=0))"
   ]
  },
  {
   "cell_type": "markdown",
   "metadata": {},
   "source": [
    "Load Nowcast record"
   ]
  },
  {
   "cell_type": "code",
   "execution_count": null,
   "metadata": {
    "collapsed": true
   },
   "outputs": [],
   "source": [
    "# Load Nowcast\n",
    "with open('/ocean/bmoorema/research/MEOPAR/analysis-ben/data/testdata', 'w') as fid:\n",
    "    Nowcast = pickle.load(fid)"
   ]
  },
  {
   "cell_type": "markdown",
   "metadata": {},
   "source": [
    "Specify time range (must match `Nowcast[var][dim][index]['coords']['timerange']`)"
   ]
  },
  {
   "cell_type": "code",
   "execution_count": null,
   "metadata": {
    "collapsed": true
   },
   "outputs": [],
   "source": [
    "# Timerange\n",
    "timerange = ['2017 Jan 1 00:00', '2017 Jan 31 23:00']"
   ]
  },
  {
   "cell_type": "markdown",
   "metadata": {},
   "source": [
    "Load GEM record from ERDDAP"
   ]
  },
  {
   "cell_type": "code",
   "execution_count": null,
   "metadata": {
    "collapsed": true
   },
   "outputs": [],
   "source": [
    "# Load GEM record\n",
    "GEM_in = xr.open_dataset('https://salishsea.eos.ubc.ca/erddap/griddap/ubcSSaSurfaceAtmosphereFieldsV1')\n",
    "GEM = timeseries_extras.reshape_GEM(GEM_in.sel(time=slice(*timerange)), grid_GEM, mask_GEM)"
   ]
  },
  {
   "cell_type": "markdown",
   "metadata": {},
   "source": [
    "Filter tides."
   ]
  },
  {
   "cell_type": "code",
   "execution_count": null,
   "metadata": {
    "collapsed": true
   },
   "outputs": [],
   "source": [
    "# Filter tides \n",
    "variables = ['vozocrtx', 'vomecrty']  # Just the velocities\n",
    "dims = ['depth']  # Just the horizontal currents\n",
    "for variable in variables:\n",
    "    for dim in dims:\n",
    "        for section in Nowcast[variable][dim].items():\n",
    "            section[1]['filter'] = tidetools.filter_timeseries(section[1]['data'], method='doodson')\n",
    "\n",
    "# Filter wind\n",
    "GEM_flat['filter']['grid']['u'] = tidetools.filter_timeseries(GEM_flat['raw']['grid']['u'], method='doodson')\n",
    "GEM_flat['filter']['grid']['v'] = tidetools.filter_timeseries(GEM_flat['raw']['grid']['v'], method='doodson')"
   ]
  },
  {
   "cell_type": "markdown",
   "metadata": {},
   "source": [
    "Rotate velocities."
   ]
  },
  {
   "cell_type": "code",
   "execution_count": null,
   "metadata": {
    "collapsed": true
   },
   "outputs": [],
   "source": [
    "# Rotate U wind\n",
    "GEM_flat['raw']['rotate']['u'], GEM_flat['raw']['rotate']['v'] = viz_tools.rotate_vel(\n",
    "    GEM_flat['raw']['grid']['u'], GEM_flat['raw']['grid']['v'], origin='map')\n",
    "\n",
    "# Rotate V wind\n",
    "GEM_flat['filter']['rotate']['u'], GEM_flat['filter']['rotate']['v'] = viz_tools.rotate_vel(\n",
    "    GEM_flat['filter']['grid']['u'], GEM_flat['filter']['grid']['v'], origin='map')"
   ]
  },
  {
   "cell_type": "markdown",
   "metadata": {},
   "source": [
    "Spatially averaged the alongstrait wind component."
   ]
  },
  {
   "cell_type": "code",
   "execution_count": null,
   "metadata": {
    "collapsed": true
   },
   "outputs": [],
   "source": [
    "# Spatially average the alongstrait wind component\n",
    "wind_index = GEM_flat['raw']['rotate']['v'].mean(axis=1)\n",
    "wind_index_filter = GEM_flat['filter']['rotate']['v'].mean(axis=1)"
   ]
  },
  {
   "cell_type": "markdown",
   "metadata": {},
   "source": [
    "## Principal Component Analysis\n",
    "\n",
    "### Complex Principal Component Analysis\n",
    "\n",
    "from Preisendorfer and Mobley 1988, *Principal Component Analysis in Meteorology and Oceanography*<br /><br />\n",
    "\n",
    "Let $\\mathbf{X}$ and $\\mathbf{Y}$ be real-valued $n \\times p$ ($p \\le n$) matrices containing $n$ respective $u$ and $v$ velocity anomaly observations at $p$ locations."
   ]
  },
  {
   "cell_type": "code",
   "execution_count": null,
   "metadata": {
    "collapsed": true
   },
   "outputs": [],
   "source": [
    "# Find the currents anomaly\n",
    "X = Nowcast['vozocrtx']['depth'][0]['filter'] - Nowcast['vozocrtx']['depth'][0]['filter'].mean(axis=0)[np.newaxis, :]\n",
    "Y = Nowcast['vomecrty']['depth'][0]['filter'] - Nowcast['vomecrty']['depth'][0]['filter'].mean(axis=0)[np.newaxis, :]"
   ]
  },
  {
   "cell_type": "markdown",
   "metadata": {},
   "source": [
    "Let $\\mathbf{Z}$ be a complex $n \\times p$ matrix of rank $m$ ($m \\le p$)\n",
    "\n",
    "$$\\mathbf{Z} = \\mathbf{X} + i\\mathbf{Y}$$"
   ]
  },
  {
   "cell_type": "code",
   "execution_count": null,
   "metadata": {
    "collapsed": true
   },
   "outputs": [],
   "source": [
    "# Make the complex matrix\n",
    "Z = X + 1j * Y"
   ]
  },
  {
   "cell_type": "markdown",
   "metadata": {},
   "source": [
    "The PCA synthesis formula for $\\mathbf{Z}$ is\n",
    "\n",
    "$$\\mathbf{Z} = \\mathbf{A}\\mathbf{E}^\\mathrm{T} \\tag{Eq 2.155}$$\n",
    "\n",
    "where $\\mathbf{A}$ and $\\mathbf{E}$ have the following significance.\n",
    "\n",
    "   * $\\mathbf{A}$ is the $n \\times m$ principal component (PC) matrix whose columns are the $m$ PCs of the $m$ orthogonal modes of variability.\n",
    "   \n",
    "   * $\\mathbf{E}$ is the $p \\times m$ empirical orthogonal function (EOF) matrix whose columns are the $m$ EOFs of the $m$ orthogonal modes of variability.\n",
    "\n",
    "There are two primary ways to obtain $\\mathbf{A}$ and $\\mathbf{E}$.\n",
    "\n",
    "**1. Eigendecomposition**\n",
    "\n",
    "Eigendecomposition the $p \\times p$ scatter matrix $\\mathbf{S}$\n",
    "\n",
    "$$\\mathbf{S} = \\mathbf{Z}^\\mathrm{T}\\mathbf{Z}^*  \\tag{Eq 2.133}$$\n",
    "\n",
    "produces the $p \\times m$ eigenvector matrix $\\mathbf{E}$ and the $m \\times m$ diagonal eigenvalue matrix $\\mathbf{L}$\n",
    "\n",
    "$$\\mathbf{S} = \\mathbf{E}\\mathbf{L}\\mathbf{E}^\\dagger \\tag{Eq 2.149}$$\n",
    "\n",
    "where $*$ denotes the complex conjugate and $\\dagger$ denotes the complex conjugate transpose."
   ]
  },
  {
   "cell_type": "code",
   "execution_count": null,
   "metadata": {
    "collapsed": true
   },
   "outputs": [],
   "source": [
    "# Eigendecomposition\n",
    "L, E = np.linalg.eig(Z.T.dot(Z.conj()))"
   ]
  },
  {
   "cell_type": "markdown",
   "metadata": {},
   "source": [
    "The PC scores $\\mathbf{A}$ can thus be obtained from $\\mathbf{E}$ and $\\mathbf{Z}$ using the PCA analysis formula\n",
    "\n",
    "$$\\mathbf{A} = \\mathbf{Z}\\mathbf{E}^\\mathrm{*} \\tag{Eq 2.154}$$"
   ]
  },
  {
   "cell_type": "code",
   "execution_count": null,
   "metadata": {
    "collapsed": true
   },
   "outputs": [],
   "source": [
    "# PCA Analysis Formula\n",
    "A = Z.dot(E.conj())"
   ]
  },
  {
   "cell_type": "markdown",
   "metadata": {},
   "source": [
    "**2. Singular Value Decomposition**\n",
    "\n",
    "Singular value decomposition (SVD) can be applied directly to $\\mathbf{Z}$ and thus bypasses the scatter matrix $\\mathbf{S}$\n",
    "\n",
    "$$\\mathbf{Z} = \\mathbf{A}'\\mathbf{L}^{1/2}\\mathbf{E}^\\mathrm{T} \\tag{Eq 2.108}$$"
   ]
  },
  {
   "cell_type": "code",
   "execution_count": null,
   "metadata": {
    "collapsed": true
   },
   "outputs": [],
   "source": [
    "# Singular value decomposition\n",
    "A_prime, sqrtL, E_T = np.linalg.svd(Z, full_matrices=False)"
   ]
  },
  {
   "cell_type": "markdown",
   "metadata": {},
   "source": [
    "From Eq 2.155 and Eq 2.108, $\\mathbf{A}$ is simply the product of $\\mathbf{A}'$ and $\\mathbf{L}^{1/2}$"
   ]
  },
  {
   "cell_type": "code",
   "execution_count": null,
   "metadata": {
    "collapsed": true
   },
   "outputs": [],
   "source": [
    "# A from SVD and synthesis formula\n",
    "A = A_prime.dot(sqrtL)"
   ]
  },
  {
   "cell_type": "markdown",
   "metadata": {},
   "source": [
    "**Percent Variance**\n",
    "\n",
    "Since the eigenvalue matrix $\\mathbf{L}$ represents the scatter (or variance) of $\\mathbf{Z}$ along $\\mathbf{E}$ (Eq 2.101), the variance fraction explained by the $j$th mode is given by\n",
    "\n",
    "$$\\frac{l_{j}}{\\sum_{j=1}^{m}l_{j}}$$"
   ]
  },
  {
   "cell_type": "code",
   "execution_count": null,
   "metadata": {
    "collapsed": true
   },
   "outputs": [],
   "source": [
    "# Extract explained variance\n",
    "PercentVar = L**2/(L**2).sum()"
   ]
  },
  {
   "cell_type": "markdown",
   "metadata": {},
   "source": [
    "**Predicted Fields**\n",
    "\n",
    "Given $\\mathbf{A}$ and $\\mathbf{E}$, a $j$th mode prediction for $\\mathbf{Z}$ can be obtained based on the synthesis formula Eq 2.155\n",
    "\n",
    "$$\\mathbf{Z}_{j} = \\mathbf{a}_{j}\\mathbf{e}_{j}^\\mathrm{T}$$\n",
    "\n",
    "or for the subset of $k$ modes $q = [q_1, ..., q_k]$\n",
    "\n",
    "$$\\mathbf{Z}_{q} = \\sum_{j=q_1}^{q_k}\\mathbf{a}_{j}\\mathbf{e}_{j}^\\mathrm{T}$$"
   ]
  },
  {
   "cell_type": "code",
   "execution_count": null,
   "metadata": {
    "collapsed": true
   },
   "outputs": [],
   "source": [
    "# Reconstruct mode 1 fields\n",
    "Z_0 = A[:, 0].dot(E_T[0, :])"
   ]
  },
  {
   "cell_type": "markdown",
   "metadata": {},
   "source": [
    "### Varimax Rotation\n",
    "\n",
    "From the PCA synthesis formula (Eq 2.155)\n",
    "\n",
    "$$\\mathbf{Z} = \\mathbf{A}\\mathbf{E}^\\mathrm{T}$$\n",
    "\n",
    "introduce a rotation matrix $\\mathbf{R}$ such that\n",
    "\n",
    "$$\\mathbf{Z} = \\mathbf{A}(\\mathbf{R}\\mathbf{R}^\\mathrm{T})\\mathbf{E}^\\mathrm{T} = (\\mathbf{A}\\mathbf{R})(\\mathbf{E}\\mathbf{R})^\\mathrm{T} = \\mathbf{B}\\mathbf{U}^\\mathrm{T} \\tag{Eq 7.6}$$\n",
    "\n",
    "where $\\mathbf{B}$ is the rotated PC matrix and $\\mathbf{U}$ is the rotated EOF matrix. By the orthonormality of $\\mathbf{U}$\n",
    "\n",
    "$$\\mathbf{B} = \\mathbf{Z}\\mathbf{U}^* \\tag{Eq 7.6}$$\n",
    "\n",
    "or\n",
    "\n",
    "$$b_j(t) = \\mathbf{z}(t)\\mathbf{u}_j^* \\tag{Eq 7.12}$$\n",
    "\n",
    "where $b_j(t)$ are the rotated PCs of the $j$ modes for the $t$ observations. When clusters of $\\mathbf{z}(t)$ observations align closely to the rotated EOFs $\\mathbf{u}_j$, $b_j(t)$ tends toward a maximum while $b_{j+1}(t)$ tends toward a minimum because of EOF orthogonality. The varimax technique thus seeks a rotation that maximizes the variance of the squares of these rotated PCs, or the quantity below\n",
    "\n",
    "$$x = \\sum_{j=1}^{m}\\sum_{t=1}^{n}\\left[b_j(t)b_j(t)^* - b_j^2\\right]^2 \\tag{Eq. 7.14}$$\n",
    "\n",
    "where $b_j^2$ is the variance of $\\mathbf{b}_j$\n",
    "\n",
    "$$b_j^2 = \\frac{1}{n}\\sum_{t=1}^{n}b_j(t)b_j(t)^* \\tag{Eq. 7.13}$$\n",
    "\n",
    "In terms of (Eq 7.12)\n",
    "\n",
    "$$x = \\sum_{j=1}^{m}\\sum_{t=1}^{n}\\left[\\mathbf{u}_j^\\mathrm{T}\\left(\\mathbf{z}(t)\\mathbf{z}^\\dagger(t) - \\frac{1}{n}\\mathbf{S}\\right)\\mathbf{u}_j^*\\right]^2 \\tag{Eq. 7.14}$$\n",
    "\n",
    "where $\\mathbf{S}$ is the $p \\times p$ scatter matrix from Eq. 2.133.\n",
    "\n",
    "Determining the frame $\\mathbf{U}$ rotated from $\\mathbf{E}$ that maximizes $x$ subject to the orthonormality constraint\n",
    "\n",
    "$$\\mathbf{u}_i^\\mathrm{T}\\mathbf{u}_j^* = \\delta_{ij}, \\quad i, j = 1,\\dotsc,m \\tag{Eq. 7.15}$$\n",
    "\n",
    "amounts to solving the Lagrangian expression\n",
    "\n",
    "$$y = x - 2\\sum_{r=1}^m\\sum_{s=1}^mg_{rs}\\left(\\mathbf{u}_r^\\mathrm{T}\\mathbf{u}_s^* - \\delta_{rs}\\right) \\tag{Eq. 7.16}$$\n",
    "\n",
    "where $g_{rs}$ are Lagrange multipliers and $\\delta_{rs}$ is Kronecker's delta. Substituting Eq 7.14 and setting $\\partial y/\\partial\\mathbf{u}=0$, the Lagrangian expression produces the following relation in matrix form\n",
    "\n",
    "$$\\mathbf{V} = \\mathbf{U}\\mathbf{G} \\tag{Eq. 7.17}$$\n",
    "\n",
    "where\n",
    "\n",
    "$$\\mathbf{V} = \\mathbf{Z}^\\mathrm{T}\\left(\\mathbf{B}^{(3)} - \\frac{1}{n}\\mathbf{B}\\mathrm{diag}\\left[\\mathbf{B}^\\mathrm{T}\\mathbf{B}\\right]\\right) \\tag{Eq. 7.18}$$\n",
    "\n",
    "and $\\mathbf{G}$ is the $m \\times m$ symmetric matrix of Lagrangian multipliers $g_{rs}$. Since $\\mathbf{U}$ is orthogonal and $\\mathbf{G}$ is symmetric\n",
    "\n",
    "$$\\mathbf{G}^2 = \\mathbf{V}^\\mathrm{T}\\mathbf{V} = \\mathbf{W}^\\mathrm{T}\\mathbf{K}\\mathbf{W} \\tag{Eq. 7.24-7.25}$$\n",
    "\n",
    "where $\\mathbf{W}^\\mathrm{T}\\mathbf{K}\\mathbf{W}$ is the eigendecomposition of $\\mathbf{V}^\\mathrm{T}\\mathbf{V}$. It follows that\n",
    "\n",
    "$$\\mathbf{G}^{-1} = \\mathbf{W}^\\mathrm{T}\\mathbf{K}^{-1/2}\\mathbf{W} \\tag{Eq. 7.26}$$\n",
    "\n",
    "and from Eq. 7.17\n",
    "\n",
    "$$\\mathbf{U} = \\mathbf{V}\\mathbf{G}^{-1} \\tag{Eq. 7.22}$$\n",
    "\n",
    "Thus $\\mathbf{U}$ can be obtained iteratively using an initial guess (for instance, $\\mathbf{E}$). Horst (1965, *Factor Analysis of Data Matrices*) recommends either $\\mathrm{trace}\\left[\\mathbf{B}^\\mathrm{T}\\mathbf{B}\\right]$ or $\\mathrm{trace}\\left[\\mathbf{V}^\\mathrm{T}\\mathbf{V}\\right]$ as convergence criteria."
   ]
  },
  {
   "cell_type": "code",
   "execution_count": null,
   "metadata": {
    "collapsed": true
   },
   "outputs": [],
   "source": [
    "def varimax(E, Z, maxiter=20, tol=1e-6):\n",
    "    \"\"\"Varimax routine from Preisendorfer and Mobley 1988 pages 274-276\n",
    "    \"\"\"\n",
    "    \n",
    "    # Initialize U with E\n",
    "    U = E\n",
    "    d = 0\n",
    "    \n",
    "    # Iterate to find U (Eq 7.22)\n",
    "    for i in xrange(maxiter):\n",
    "        d_old = d\n",
    "        B = Z.dot(U)  # --------------------------- Eq 7.8\n",
    "        C = B**3  # ------------------------------- Eq 7.19\n",
    "        D = np.diag(np.diag(B.T.dot(B)))  # ------- Eq 7.20\n",
    "        V = Z.T.dot(C - B.dot(D))  # -------------- Eq 7.18\n",
    "        K, W = np.linalg.eig(V.T.dot(V))  # ------- Eq 7.25\n",
    "        G = W.dot(np.diag(K**(-1/2)).dot(W.T))  # - Eq 7.26\n",
    "        U = V.dot(G)  # --------------------------- Eq 7.21\n",
    "        \n",
    "        # Convergence criteria from Ben FrantzDale\n",
    "        # https://en.wikipedia.org/wiki/Talk:Varimax_rotation\n",
    "        d = sum(K)\n",
    "        if d_old != 0 and d / d_old < 1 + tol:\n",
    "            break\n",
    "    \n",
    "    # Return R (Eq 7.7)\n",
    "    return E.T.dot(U)"
   ]
  }
 ],
 "metadata": {
  "kernelspec": {
   "display_name": "Python 3",
   "language": "python",
   "name": "python3"
  },
  "language_info": {
   "codemirror_mode": {
    "name": "ipython",
    "version": 3
   },
   "file_extension": ".py",
   "mimetype": "text/x-python",
   "name": "python",
   "nbconvert_exporter": "python",
   "pygments_lexer": "ipython3",
   "version": "3.6.0"
  }
 },
 "nbformat": 4,
 "nbformat_minor": 2
}
