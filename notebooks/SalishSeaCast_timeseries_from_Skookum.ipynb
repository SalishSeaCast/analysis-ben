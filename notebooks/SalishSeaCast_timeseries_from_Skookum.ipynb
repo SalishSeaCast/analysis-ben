{
 "cells": [
  {
   "cell_type": "markdown",
   "metadata": {},
   "source": [
    "# Working with daily SalishSeaCast results from Skookum"
   ]
  },
  {
   "cell_type": "code",
   "execution_count": 2,
   "metadata": {},
   "outputs": [],
   "source": [
    "import xarray as xr\n",
    "import numpy as np\n",
    "import matplotlib.pyplot as plt\n",
    "import os\n",
    "from datetime import datetime, timedelta\n",
    "from dateutil.parser import parse\n",
    "from cmocean import cm\n",
    "from salishsea_tools import utilities\n",
    "\n",
    "%matplotlib inline"
   ]
  },
  {
   "cell_type": "markdown",
   "metadata": {},
   "source": [
    "## Load results"
   ]
  },
  {
   "cell_type": "code",
   "execution_count": 3,
   "metadata": {},
   "outputs": [
    {
     "name": "stderr",
     "output_type": "stream",
     "text": [
      "Loading ... 100% (9 of 9) |################################################|Time: 0:00:50\n"
     ]
    }
   ],
   "source": [
    "# Timerange (datetime objects)\n",
    "daterange = [parse(t) for t in ['2015 Jan 1', '2015 Jan 10']]\n",
    "\n",
    "# Results path\n",
    "path = '/results2/SalishSea/nowcast-green.201806'\n",
    "\n",
    "# Initialize storage arrays\n",
    "date = np.empty(0, dtype='object')\n",
    "SA = np.empty((0, 40))\n",
    "\n",
    "# Iterate over number of days in daterange\n",
    "bar = utilities.statusbar('Loading ...')\n",
    "for day in bar(range(np.diff(daterange)[0].days)):\n",
    "    \n",
    "    # Make date and datestrings\n",
    "    datestamp = daterange[0] + timedelta(days=day)\n",
    "    datestr1 = datestamp.strftime('%d%b%y').lower()\n",
    "    datestr2 = datestamp.strftime('%Y%m%d')\n",
    "    \n",
    "    # Make filename\n",
    "    fn = f'SalishSea_1h_{datestr2}_{datestr2}_grid_T.nc'\n",
    "    \n",
    "    # Open netCDF\n",
    "    with xr.open_dataset(os.path.join(path, datestr1, fn)) as T:\n",
    "    \n",
    "        # Slice, format, and concatenate results\n",
    "        date = np.concatenate((date, T.time_counter.values.astype('datetime64[s]').astype(datetime)), axis=0)\n",
    "        SA = np.concatenate((SA, T.vosaline[..., 500, 250].values), axis=0)"
   ]
  },
  {
   "cell_type": "markdown",
   "metadata": {},
   "source": [
    "## Plot concatenated results"
   ]
  },
  {
   "cell_type": "code",
   "execution_count": 4,
   "metadata": {},
   "outputs": [
    {
     "data": {
      "text/plain": [
       "<matplotlib.colorbar.Colorbar at 0x7fd8da7836d8>"
      ]
     },
     "execution_count": 4,
     "metadata": {},
     "output_type": "execute_result"
    },
    {
     "data": {
      "image/png": "[encoded data removed]",
      "text/plain": [
       "<matplotlib.figure.Figure at 0x7fd8e35030b8>"
      ]
     },
     "metadata": {},
     "output_type": "display_data"
    }
   ],
   "source": [
    "# Plot concatenated results\n",
    "fig, ax = plt.subplots(1, 1, figsize=(10, 10))\n",
    "cax = fig.add_axes([0.92, 0.15, 0.02, 0.7])\n",
    "c = ax.contourf(date, T.deptht, SA.T, levels=np.arange(15, 33), cmap=cm.haline, extend='both')\n",
    "ax.set_ylim([100, 0])\n",
    "fig.colorbar(c, cax=cax)"
   ]
  },
  {
   "cell_type": "code",
   "execution_count": null,
   "metadata": {
    "collapsed": true
   },
   "outputs": [],
   "source": []
  }
 ],
 "metadata": {
  "kernelspec": {
   "display_name": "Python 3",
   "language": "python",
   "name": "python3"
  },
  "language_info": {
   "codemirror_mode": {
    "name": "ipython",
    "version": 3
   },
   "file_extension": ".py",
   "mimetype": "text/x-python",
   "name": "python",
   "nbconvert_exporter": "python",
   "pygments_lexer": "ipython3",
   "version": "3.6.3"
  }
 },
 "nbformat": 4,
 "nbformat_minor": 2
}
