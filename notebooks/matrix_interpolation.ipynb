{
 "cells": [
  {
   "cell_type": "markdown",
   "metadata": {},
   "source": [
    "# Interpolation matrices for OpenDrift\n",
    "\n",
    "***"
   ]
  },
  {
   "cell_type": "code",
   "execution_count": 35,
   "metadata": {},
   "outputs": [],
   "source": [
    "import numpy as np\n",
    "import xarray as xr\n",
    "import netCDF4 as nc\n",
    "import matplotlib.pyplot as plt\n",
    "from scipy.interpolate import griddata\n",
    "\n",
    "%matplotlib inline"
   ]
  },
  {
   "cell_type": "markdown",
   "metadata": {},
   "source": [
    "***\n",
    "\n",
    "## NEMO interpolation\n",
    "\n",
    "Build target coordinates file"
   ]
  },
  {
   "cell_type": "code",
   "execution_count": 36,
   "metadata": {},
   "outputs": [],
   "source": [
    "# Load NEMO mask and coordinates files\n",
    "mask = xr.open_dataset('/data/bmoorema/MEOPAR/grid/mesh_mask201702.nc')\n",
    "coords = xr.open_dataset('/data/bmoorema/MEOPAR/grid/coordinates_seagrid_SalishSea2.nc', decode_times=False)\n",
    "fn_out = '/data/bmoorema/results/opendrift/OpenDrift_grid.nc'\n",
    "\n",
    "# Define bounding box and resolution\n",
    "lon_bounds, lat_bounds, res = [-126.1, -122.2], [47.9, 50.9], 0.005\n",
    "\n",
    "# Construct target coordinates and mask arrays\n",
    "lons_i, lats_i = [np.arange(*dim, res) for dim in [lon_bounds, lat_bounds]]\n",
    "mask_i = griddata(\n",
    "    tuple(coords[dim][0, ...].values.reshape(-1) for dim in ['glamt', 'gphit']),\n",
    "    mask.tmask[0, 0, ...].values.reshape(-1), tuple(np.meshgrid(lons_i, lats_i)),\n",
    "    method='nearest', fill_value=0,\n",
    ")\n",
    "\n",
    "# Write to netCDF out\n",
    "with nc.Dataset(fn_out, 'w') as ds:\n",
    "    for var, name in zip([lons_i, lats_i], ['longitude', 'latitude']):\n",
    "        ds.createDimension(name, var.size)\n",
    "        tempvar = ds.createVariable(name, float, name)\n",
    "        tempvar[:] = var\n",
    "    tempvar = ds.createVariable('tmask', float, ('latitude', 'longitude'))\n",
    "    tempvar[:] = mask_i"
   ]
  },
  {
   "cell_type": "code",
   "execution_count": null,
   "metadata": {},
   "outputs": [],
   "source": []
  }
 ],
 "metadata": {
  "kernelspec": {
   "display_name": "Python 3",
   "language": "python",
   "name": "python3"
  },
  "language_info": {
   "codemirror_mode": {
    "name": "ipython",
    "version": 3
   },
   "file_extension": ".py",
   "mimetype": "text/x-python",
   "name": "python",
   "nbconvert_exporter": "python",
   "pygments_lexer": "ipython3",
   "version": "3.7.3"
  }
 },
 "nbformat": 4,
 "nbformat_minor": 2
}
