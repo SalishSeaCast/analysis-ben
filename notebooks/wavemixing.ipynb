{
 "cells": [
  {
   "cell_type": "code",
   "execution_count": 1,
   "id": "processed-minister",
   "metadata": {},
   "outputs": [],
   "source": [
    "import numpy as np\n",
    "import xarray as xr\n",
    "from matplotlib import pyplot as plt, colors\n",
    "from datetime import datetime, timedelta\n",
    "from salishsea_tools import nc_tools\n",
    "from tqdm.notebook import tqdm\n",
    "\n",
    "%matplotlib inline"
   ]
  },
  {
   "cell_type": "code",
   "execution_count": 2,
   "id": "native-diamond",
   "metadata": {},
   "outputs": [],
   "source": [
    "plt.rcParams['font.size'] = 12"
   ]
  },
  {
   "cell_type": "markdown",
   "id": "antique-steam",
   "metadata": {},
   "source": [
    "***\n",
    "\n",
    "### Theory\n",
    "\n",
    "**Charnock**\n",
    "\n",
    "The effect of surface wave breaking on TKE ($\\overline{e}$) is parameterized in NEMO in the following two ways (Madec et al. 2017).\n",
    "\n",
    "   1. The wind stress coefficient $\\alpha_{CB}$ (`rn_crban`) in the surface TKE boundary condition\n",
    "\n",
    "$$\\overline{e}_0 = \\frac{1}{2}\\left(15.8\\alpha_{CB}\\right)^{2/3}\\frac{|\\tau|}{\\rho_0}$$\n",
    "\n",
    "   2. The wind stress coefficient $\\beta$ (`rn_charn`) in the surface dissipation length scale boundary condition (Charnock's relation)\n",
    "\n",
    "$$l_0 = \\kappa z_0 = \\kappa\\beta\\frac{|\\tau|}{g\\rho_0}$$\n",
    "\n",
    "For a generic ocean, NEMO assigns default values of $\\alpha_{CB} = 100$ from Craig and Banner (1994, JPO) and $\\beta = 2\\times10^5$ from Stacey (1999, JPO). Actually, in GLS $\\beta = 7\\times10^4$ but this value is undocumented.\n",
    "\n",
    "In practice, these parameters vary widely according to sea state and fetch, and should almost certainly be tuned for the Salish Sea (although Stacey's $\\beta$ is based on observations in Knight Inlet). The coefficients $\\alpha_{CB}$ and $\\beta$ have been empirically determined in several studies, but we can start with the NEMO authors' primary reference (Mellor and Blumberg 2004, JPO).\n",
    "\n",
    "\n",
    "$$\\alpha_{CB} = 15\\frac{c_p}{u_*}\\exp\\left\\{-\\left(0.04\\frac{c_p}{u_*}\\right)^4\\right\\} \\hspace{0.5cm} \\text{(cited from Terray et al. 1996, 1997 JPO)}$$\n",
    "\n",
    "$$\\beta \\approx 665\\left(\\frac{c_p}{u_*}\\right)^{1.5} \\hspace{0.5cm} \\text{(cited from Donelan 1990, Smith et al. 1992, Janssen 2001)}$$\n",
    "\n",
    "Here $c_p/u_*$ is defined as the \"wave age\" parameter, where $c_p$ is the phase speed and $u_*$ is the air side friction velocity. Since both $\\alpha_{CB}$ and $\\beta$ depend on $c_p/u_*$, we can start by coupling the two parameters.\n",
    "\n",
    "**Rascle**\n",
    "\n",
    "$$\\frac{c_p}{u_*} = 30\\tanh \\frac{2u^*_{ref}}{u^*}$$\n",
    "\n",
    "where $u^*_{ref}$ is a typical values (0.3 m/s in Rascle)."
   ]
  },
  {
   "cell_type": "code",
   "execution_count": 3,
   "id": "obvious-lightweight",
   "metadata": {},
   "outputs": [
    {
     "data": {
      "image/png": "[encoded data removed]",
      "text/plain": [
       "<Figure size 720x432 with 1 Axes>"
      ]
     },
     "metadata": {
      "needs_background": "light"
     },
     "output_type": "display_data"
    }
   ],
   "source": [
    "# Plot alpha_CB vs beta\n",
    "fig, ax = plt.subplots(figsize=(10, 6))\n",
    "beta = np.linspace(0, 2.2e5, 100)\n",
    "cpu_star = (beta / 665)**(2/3)\n",
    "alpha_CB = 15 * cpu_star * np.exp(-(0.04 * cpu_star)**4)\n",
    "ax.plot(beta, alpha_CB, 'k-')\n",
    "ax.plot([7e4, 2.1e5], [100, 100], 'ko')\n",
    "ax.text(6e4, 100, 'GLS')\n",
    "ax.text(2e5, 100, 'TKE')\n",
    "ax.set_xlim([0, 2.2e5])\n",
    "ax.set_ylim([0, 210])\n",
    "ax.set_xlabel('$\\\\beta$')\n",
    "ax.set_ylabel('$\\\\alpha_{CB}$')\n",
    "plt.show()"
   ]
  },
  {
   "cell_type": "markdown",
   "id": "parallel-instrument",
   "metadata": {},
   "source": [
    "Immediately we can see the GLS choice of $\\beta$ is much closer the the wave age dependence summarized by Mellor and Blumberg than the TKE choice from Stacey."
   ]
  },
  {
   "cell_type": "code",
   "execution_count": null,
   "id": "written-seating",
   "metadata": {},
   "outputs": [],
   "source": []
  },
  {
   "cell_type": "code",
   "execution_count": null,
   "id": "caring-inventory",
   "metadata": {},
   "outputs": [],
   "source": []
  },
  {
   "cell_type": "code",
   "execution_count": null,
   "id": "passing-bridal",
   "metadata": {},
   "outputs": [],
   "source": []
  },
  {
   "cell_type": "code",
   "execution_count": 4,
   "id": "bearing-inspector",
   "metadata": {},
   "outputs": [],
   "source": [
    "def calc_Cd(wspd):\n",
    "    \"\"\"Calculate the surface drag coefficient according to\n",
    "    Hellerman and Rosenstein (1983) JPO, neglecting T effects\n",
    "    \"\"\"\n",
    "    \n",
    "    # Coefficients\n",
    "    a_1 = 0.934e-3\n",
    "    a_2 = 0.788e-4\n",
    "    a_3 = 0.868e-4\n",
    "    a_4 = -0.616e-6\n",
    "    a_5 = -0.120e-5\n",
    "    a_6 = -0.214e-5\n",
    "\n",
    "    # Neglect temperature gradient\n",
    "    Delta_T = 0\n",
    "\n",
    "    # Calc C_d\n",
    "    C_d = a_1 + a_2 * wspd + a_3 * Delta_T + a_4 * wspd**2 + a_5 * Delta_T**2 + a_6 * wspd * Delta_T\n",
    "    \n",
    "    return C_d"
   ]
  },
  {
   "cell_type": "code",
   "execution_count": 12,
   "id": "modular-lithuania",
   "metadata": {},
   "outputs": [
    {
     "data": {
      "application/vnd.jupyter.widget-view+json": {
       "model_id": "2c804a8a3c594e109ca4cadebfa43105",
       "version_major": 2,
       "version_minor": 0
      },
      "text/plain": [
       "  0%|          | 0/360 [00:00<?, ?it/s]"
      ]
     },
     "metadata": {},
     "output_type": "display_data"
    }
   ],
   "source": [
    "startdate = datetime(2020, 1, 1)\n",
    "slc = {'latitude': slice(160, 450), 'longitude': slice(120, 470)}\n",
    "with xr.open_dataset(nc_tools.get_WW3_path(startdate)) as ds:\n",
    "    mask = ds.MAPSTA.isel(slc).values.ravel().astype(bool)\n",
    "\n",
    "Hs, u2 = [], []\n",
    "for day in tqdm(range(360)):\n",
    "    fn = nc_tools.get_WW3_path(startdate + timedelta(days=day))\n",
    "    with xr.open_dataset(fn).isel(slc) as ds:\n",
    "        hs, u, v = [ds[var].values.reshape(48, -1)[:, mask].mean(axis=1) for var in ('hs', 'uwnd', 'vwnd')]\n",
    "        Hs.append(hs)\n",
    "        u2.append(u**2 + v**2)"
   ]
  },
  {
   "cell_type": "code",
   "execution_count": 13,
   "id": "lucky-montana",
   "metadata": {},
   "outputs": [],
   "source": [
    "Hs = np.hstack(Hs)\n",
    "u2 = np.hstack(u2)"
   ]
  },
  {
   "cell_type": "code",
   "execution_count": 20,
   "id": "incredible-julian",
   "metadata": {},
   "outputs": [],
   "source": [
    "tau_plot = np.linspace(0, 0.6, 100)\n",
    "tau = 1.223 * calc_Cd(np.sqrt(u2)) * u2\n",
    "index = np.logical_and(~np.isnan(tau), Hs > 0)\n",
    "rho_0, g = 1030, 9.81"
   ]
  },
  {
   "cell_type": "code",
   "execution_count": null,
   "id": "considerable-rwanda",
   "metadata": {},
   "outputs": [
    {
     "name": "stderr",
     "output_type": "stream",
     "text": [
      "<ipython-input-43-e4d7f2d637a4>:4: RuntimeWarning: divide by zero encountered in true_divide\n",
      "  beta = 665 * (30 * np.tanh(ustar_ref/np.sqrt(tau_plot)))**(1.5)\n"
     ]
    },
    {
     "data": {
      "text/plain": [
       "Text(0.5, 1.0, 'Hourly spatial means of $h_s$ and $\\\\tau$ from the 2020 WW3 record')"
      ]
     },
     "execution_count": 43,
     "metadata": {},
     "output_type": "execute_result"
    }
   ],
   "source": [
    "fig, ax = plt.subplots(figsize=(10, 8))\n",
    "_, _, _, c = ax.hist2d(tau[index], Hs[index], bins=100, norm=colors.LogNorm(vmin=1, vmax=1000))\n",
    "ustar_ref = 0.3\n",
    "beta = 665 * (30 * np.tanh(ustar_ref/np.sqrt(tau_plot)))**(1.5)\n",
    "z0 = beta * tau_plot / (rho_0 * g)\n",
    "ax.plot(tau_plot, z0, 'm-', lw=2, label='Rascle')\n",
    "for beta, ls, label in zip([2e4, 7e4, 2e5], [':', '-', '--'], ['2e4', 'GLS', 'TKE (Stacey 1999, Knight Inlet)']):\n",
    "    z0 = beta * tau_plot / (rho_0 * g)\n",
    "    ax.plot(tau_plot, z0, f'r{ls}', label=label)\n",
    "ax.set_xlim([0, 0.6])\n",
    "ax.set_ylim([0, 2])\n",
    "ax.set_xlabel('$\\\\tau$ [N $m^{-2}$]')\n",
    "ax.set_ylabel('$h_s$ or $z_0$ [m]')\n",
    "cax = fig.add_axes([0.92, 0.15, 0.01, 0.7])\n",
    "fig.colorbar(c, cax=cax)\n",
    "ax.legend(loc=4)\n",
    "ax.set_title('Hourly spatial means of $h_s$ and $\\\\tau$ from the 2020 WW3 record')"
   ]
  },
  {
   "cell_type": "code",
   "execution_count": null,
   "id": "pressing-influence",
   "metadata": {},
   "outputs": [],
   "source": []
  }
 ],
 "metadata": {
  "kernelspec": {
   "display_name": "Python 3",
   "language": "python",
   "name": "python3"
  },
  "language_info": {
   "codemirror_mode": {
    "name": "ipython",
    "version": 3
   },
   "file_extension": ".py",
   "mimetype": "text/x-python",
   "name": "python",
   "nbconvert_exporter": "python",
   "pygments_lexer": "ipython3",
   "version": "3.8.6"
  }
 },
 "nbformat": 4,
 "nbformat_minor": 5
}
