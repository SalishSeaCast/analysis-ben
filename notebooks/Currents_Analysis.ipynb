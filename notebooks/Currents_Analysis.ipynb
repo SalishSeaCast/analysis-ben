{
 "cells": [
  {
   "cell_type": "markdown",
   "metadata": {},
   "source": [
    "## Currents Analysis\n",
    "This notebook processes and visualizes Salish Sea NEMO currents. Results are obtained from the Nowcast system through the ERDDAP server using the `xarray` library."
   ]
  },
  {
   "cell_type": "code",
   "execution_count": 1,
   "metadata": {
    "collapsed": false
   },
   "outputs": [],
   "source": [
    "import numpy as np\n",
    "import xarray as xr\n",
    "import datetime as dtm\n",
    "import dateutil.parser as dparser\n",
    "import matplotlib as mpl\n",
    "import matplotlib.pyplot as plt\n",
    "import matplotlib.animation as animation\n",
    "import copy\n",
    "\n",
    "from salishsea_tools import viz_tools\n",
    "\n",
    "#%matplotlib inline\n",
    "#mpl.rcParams.update({'font.size': 12})\n",
    "#mpl.rcParams[\"axes.formatter.useoffset\"] = False"
   ]
  },
  {
   "cell_type": "markdown",
   "metadata": {},
   "source": [
    "### Functions\n",
    "These will be moved to a module."
   ]
  },
  {
   "cell_type": "code",
   "execution_count": 56,
   "metadata": {
    "collapsed": true
   },
   "outputs": [],
   "source": [
    "def tidal_filter(record, winlen=39, method='box', index_name='time'):\n",
    "    '''\n",
    "    '''\n",
    "    \n",
    "    record.ndim\n",
    "    \n",
    "    # Preallocate filtered record\n",
    "    filtered = copy.deepcopy(record)\n",
    "    \n",
    "    # Window length\n",
    "    w = (winlen - 1) // 2\n",
    "    \n",
    "    # Construct weight vector\n",
    "    weight = np.zeros(w, dtype=int)\n",
    "    \n",
    "    # Select filter method\n",
    "    if method is 'doodson':\n",
    "        # Doodson bandpass filter (winlen must be 39)\n",
    "        weight[[1, 2, 5, 6, 10, 11, 13, 16, 18]] = 1\n",
    "        weight[[0, 3, 8]] = 2\n",
    "        centerval = 0\n",
    "    elif method is 'box':\n",
    "        # Box filter\n",
    "        weight[:] = 1\n",
    "        centerval = 1\n",
    "    else:\n",
    "        raise ValueError('Invalid filter method: {}'.format(method))\n",
    "    \n",
    "    # Loop through record\n",
    "    for i, val in enumerate(record[index_name]):\n",
    "        \n",
    "        # Adjust window length for end cases\n",
    "        W = min(i, w, record.shape[0]-i-1)\n",
    "        Weight = weight[:W]\n",
    "        Weight = np.append(Weight[::-1], np.append(centerval, Weight))\n",
    "        Weight = (Weight/sum(Weight, centerval))\n",
    "        \n",
    "        for dim in range(record.ndim - 1):\n",
    "            Weight = Weight[:, np.newaxis]\n",
    "        \n",
    "        # Apply mean over window length\n",
    "        filtered[i, ...] = np.sum(record[i-W:i+W+1, ...] * Weight, axis=0)\n",
    "    \n",
    "    return filtered"
   ]
  },
  {
   "cell_type": "code",
   "execution_count": 3,
   "metadata": {
    "collapsed": true
   },
   "outputs": [],
   "source": [
    "def plot_wind(ax, x_in, y_in, u_in, v_in, coords='grid'):\n",
    "    ''' Plot wind forcing on lon-lat projection over NEMO domain\n",
    "    '''\n",
    "    \n",
    "    # Assign coordinate vectors\n",
    "    if coords is 'grid':\n",
    "        x, y = np.meshgrid(x_in, y_in)\n",
    "        u, v = viz_tools.rotate_vel(u_in, v_in, origin='map')\n",
    "    elif coords is 'map':\n",
    "        x = x_in - 360\n",
    "        y = y_in\n",
    "        u = u_in\n",
    "        v = v_in\n",
    "    else:\n",
    "        raise ValueError('Invalid coords value: {}'.format(coords))\n",
    "    \n",
    "    # Plot wind vectors\n",
    "    Q = ax.quiver(x[::2, ::2], y[::2, ::2], u[::2, ::2], v[::2, ::2],\n",
    "                  color='r', edgecolor='r', scale=20, linewidth=1, headwidth=6)\n",
    "    \n",
    "    return Q"
   ]
  },
  {
   "cell_type": "code",
   "execution_count": 4,
   "metadata": {
    "collapsed": true
   },
   "outputs": [],
   "source": [
    "def plot_horz_currents(ax, x_in, y_in, u_in, v_in, coords='grid'):\n",
    "    ''' Plot horizontal currents on lon-lat projection over NEMO domain\n",
    "    '''\n",
    "    \n",
    "    # Unstagger velocities\n",
    "    u, v = viz_tools.unstagger(np.ma.masked_values(u_in, 0), np.ma.masked_values(v_in, 0))\n",
    "    \n",
    "    # Assign coordinate vectors\n",
    "    if coords is 'grid':\n",
    "        x, y = np.meshgrid(x_in, y_in)\n",
    "    elif coords is 'map':\n",
    "        x = x_in\n",
    "        y = y_in\n",
    "        u, v = viz_tools.rotate_vel(u, v, origin='grid')\n",
    "    else:\n",
    "        raise ValueError('Invalid coords value: {}'.format(coords))\n",
    "    \n",
    "    # Plot current vectors\n",
    "    Q = ax.quiver(x[1::5, 1::5], y[1::5, 1::5], u[::5,::5], v[::5,::5], scale=10)\n",
    "    \n",
    "    return Q"
   ]
  },
  {
   "cell_type": "markdown",
   "metadata": {},
   "source": [
    "### Nowcast results processing"
   ]
  },
  {
   "cell_type": "code",
   "execution_count": 2,
   "metadata": {
    "collapsed": false
   },
   "outputs": [],
   "source": [
    "# Load Nowcast and GEM results from ERDDAP using xarray\n",
    "GEM_OP    = xr.open_dataset('https://salishsea.eos.ubc.ca/erddap/griddap/ubcSSaSurfaceAtmosphereFieldsV1')\n",
    "GEM_grid  = xr.open_dataset('https://salishsea.eos.ubc.ca/erddap/griddap/ubcSSaAtmosphereGridV1')\n",
    "u_vel     = xr.open_dataset('https://salishsea.eos.ubc.ca/erddap/griddap/ubcSSn3DuVelocity1hV1')\n",
    "v_vel     = xr.open_dataset('https://salishsea.eos.ubc.ca/erddap/griddap/ubcSSn3DvVelocity1hV1')\n",
    "NEMO_grid = xr.open_dataset('https://salishsea.eos.ubc.ca/erddap/griddap/ubcSSnBathymetry2V1')\n",
    "Bathy_path = '/ocean/bmoorema/research/MEOPAR/NEMO-forcing/grid/bathy_meter_SalishSea2.nc'"
   ]
  },
  {
   "cell_type": "code",
   "execution_count": 57,
   "metadata": {
    "collapsed": false
   },
   "outputs": [],
   "source": [
    "# Slice results objects\n",
    "u_grid = u_vel.uVelocity.sel(time=slice('2016-02-29 00:30', '2016-03-03 00:30'), depth=slice(0, 1))\n",
    "v_grid = v_vel.vVelocity.sel(time=slice('2016-02-29 00:30', '2016-03-03 00:30'), depth=slice(0, 1))"
   ]
  },
  {
   "cell_type": "code",
   "execution_count": 60,
   "metadata": {
    "collapsed": false
   },
   "outputs": [],
   "source": [
    "# Apply Doodson filter to currents and wind\n",
    "u_filtered = tidal_filter(u_grid, method='doodson')\n",
    "v_filtered = tidal_filter(v_grid, method='doodson')\n",
    "\n",
    "u_wind_filtered = tidal_filter(GEM_OP.u_wind.sel(time=slice('2016-02-29 00:00', '2016-03-03 00:00')), method='doodson')\n",
    "v_wind_filtered = tidal_filter(GEM_OP.v_wind.sel(time=slice('2016-02-29 00:00', '2016-03-03 00:00')), method='doodson')"
   ]
  },
  {
   "cell_type": "markdown",
   "metadata": {},
   "source": [
    "### Visualization"
   ]
  },
  {
   "cell_type": "code",
   "execution_count": 70,
   "metadata": {
    "collapsed": false
   },
   "outputs": [],
   "source": [
    "# Generate figure panels\n",
    "fig, ax = plt.subplots(1, 2, figsize=(15, 10))\n",
    "init_time = dparser.parse('2016-03-01 00:30')\n",
    "map_bounds = [-124, -122.7, 48.3, 49.7]\n",
    "\n",
    "#Q2 = ax[0].quiver(GEM_grid.longitude[::3, ::3]-360, GEM_grid.latitude[::3, ::3],\n",
    "#                  GEM_OP.u_wind.sel(time=init_time, method='nearest')[::3, ::3],\n",
    "#                  GEM_OP.v_wind.sel(time=init_time, method='nearest')[::3, ::3],\n",
    "#                  color='r', edgecolor='r', scale=20, linewidth=1, headwidth=6)\n",
    "#Q2.set_UVC(GEM_OP.u_wind.sel(time=time, method='nearest')[::3, ::3],\n",
    "               #GEM_OP.v_wind.sel(time=time, method='nearest')[::3, ::3])\n",
    "\n",
    "# Unfiltered\n",
    "viz_tools.plot_land_mask(ax[0], Bathy_path, coords='map', color='burlywood')\n",
    "viz_tools.plot_coastline(ax[0], Bathy_path, coords='map')\n",
    "u = u_grid.sel(time=init_time, depth=0, method='nearest')\n",
    "v = v_grid.sel(time=init_time, depth=0, method='nearest')\n",
    "u, v = viz_tools.unstagger(np.ma.masked_values(u, 0), np.ma.masked_values(v, 0))\n",
    "u, v = viz_tools.rotate_vel(u, v, origin='grid')\n",
    "Q1  = ax[0].quiver(NEMO_grid.longitude[1::5, 1::5], NEMO_grid.latitude[1::5, 1::5], u[::5,::5], v[::5,::5], scale=10)\n",
    "Q1W = ax[0].quiver(GEM_grid.longitude[::5, ::5]-360, GEM_grid.latitude[::5, ::5],\n",
    "                  GEM_OP.u_wind.sel(time=init_time, method='nearest')[::5, ::5],\n",
    "                  GEM_OP.v_wind.sel(time=init_time, method='nearest')[::5, ::5],\n",
    "                  color='r', edgecolor='r', scale=40, linewidth=1, headwidth=6)\n",
    "time_text1 = ax[0].text(-123.95, 49.65, init_time.strftime('%a %Y-%m-%d %H:%M:%S'))\n",
    "viz_tools.set_aspect(ax[0])\n",
    "ax[0].set_xlim(map_bounds[0:2])\n",
    "ax[0].set_ylim(map_bounds[2:4])\n",
    "ax[0].grid()\n",
    "ax[0].add_patch(mpl.patches.Rectangle((-123, 49.5), 0.3, 0.2, facecolor='white'))\n",
    "plt.quiverkey(Q1, 0.87, 0.93, 1, '1 m/s')\n",
    "plt.quiverkey(Q1W, 0.85, 0.87, 5, '5 m/s')\n",
    "\n",
    "# Filtered\n",
    "viz_tools.plot_land_mask(ax[1], Bathy_path, coords='map', color='burlywood')\n",
    "viz_tools.plot_coastline(ax[1], Bathy_path, coords='map')\n",
    "u = u_filtered.sel(time=init_time, depth=0, method='nearest')\n",
    "v = v_filtered.sel(time=init_time, depth=0, method='nearest')\n",
    "u, v = viz_tools.unstagger(np.ma.masked_values(u, 0), np.ma.masked_values(v, 0))\n",
    "u, v = viz_tools.rotate_vel(u, v, origin='grid')\n",
    "Q2  = ax[1].quiver(NEMO_grid.longitude[1::5, 1::5], NEMO_grid.latitude[1::5, 1::5], u[::5,::5], v[::5,::5], scale=10)\n",
    "Q2W = ax[1].quiver(GEM_grid.longitude[::5, ::5]-360, GEM_grid.latitude[::5, ::5],\n",
    "                  u_wind_filtered.sel(time=init_time, method='nearest')[::5, ::5],\n",
    "                  v_wind_filtered.sel(time=init_time, method='nearest')[::5, ::5],\n",
    "                  color='r', edgecolor='r', scale=40, linewidth=1, headwidth=6)\n",
    "time_text2 = ax[1].text(-123.95, 49.65, init_time.strftime('%a %Y-%m-%d %H:%M:%S'))\n",
    "viz_tools.set_aspect(ax[1])\n",
    "ax[1].set_xlim(map_bounds[0:2])\n",
    "ax[1].set_ylim(map_bounds[2:4])\n",
    "ax[1].grid()\n",
    "ax[1].add_patch(mpl.patches.Rectangle((-123, 49.5), 0.3, 0.2, facecolor='white'))\n",
    "plt.quiverkey(Q2, 0.87, 0.93, 1, '1 m/s')\n",
    "plt.quiverkey(Q2W, 0.85, 0.87, 5, '5 m/s')\n",
    "\n",
    "def update_currents(t):\n",
    "    time = (init_time + dtm.timedelta(hours=t)).strftime('%a %Y-%m-%d %H:%M:%S')\n",
    "    u = u_grid.sel(time=time, depth=0, method='nearest')\n",
    "    v = v_grid.sel(time=time, depth=0, method='nearest')\n",
    "    u, v = viz_tools.unstagger(np.ma.masked_values(u, 0), np.ma.masked_values(v, 0))\n",
    "    u, v = viz_tools.rotate_vel(u, v, origin='grid')\n",
    "    Q1.set_UVC(u[::5,::5], v[::5,::5])\n",
    "    Q1W.set_UVC(GEM_OP.u_wind.sel(time=time, method='nearest')[::5, ::5],\n",
    "                GEM_OP.v_wind.sel(time=time, method='nearest')[::5, ::5])\n",
    "    time_text1.set_text(time)\n",
    "    u = u_filtered.sel(time=time, depth=0, method='nearest')\n",
    "    v = v_filtered.sel(time=time, depth=0, method='nearest')\n",
    "    u, v = viz_tools.unstagger(np.ma.masked_values(u, 0), np.ma.masked_values(v, 0))\n",
    "    u, v = viz_tools.rotate_vel(u, v, origin='grid')\n",
    "    Q2.set_UVC(u[::5,::5], v[::5,::5])\n",
    "    Q2W.set_UVC(u_wind_filtered.sel(time=time, method='nearest')[::5, ::5],\n",
    "                v_wind_filtered.sel(time=time, method='nearest')[::5, ::5])\n",
    "    time_text2.set_text(time)\n",
    "    return Q1, Q2, Q1W, Q2W, time_text1, time_text2\n",
    "\n",
    "mywriter = animation.FFMpegWriter(fps=12, bitrate=600)\n",
    "ani = animation.FuncAnimation(fig, update_currents, frames=24, blit=False)\n",
    "ani.save('/home/bmoorema/Desktop/SalishSeaCurrents_2.mp4', writer=mywriter)\n",
    "#1 month = 744 frames"
   ]
  },
  {
   "cell_type": "code",
   "execution_count": null,
   "metadata": {
    "collapsed": true
   },
   "outputs": [],
   "source": []
  }
 ],
 "metadata": {
  "kernelspec": {
   "display_name": "Python 3",
   "language": "python",
   "name": "python3"
  },
  "language_info": {
   "codemirror_mode": {
    "name": "ipython",
    "version": 3
   },
   "file_extension": ".py",
   "mimetype": "text/x-python",
   "name": "python",
   "nbconvert_exporter": "python",
   "pygments_lexer": "ipython3",
   "version": "3.5.1"
  }
 },
 "nbformat": 4,
 "nbformat_minor": 0
}
