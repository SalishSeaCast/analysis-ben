{
 "cells": [
  {
   "cell_type": "markdown",
   "metadata": {},
   "source": [
    "## Currents Analysis\n",
    "This notebook processes and visualizes Salish Sea NEMO currents. Results are obtained from the Nowcast system through the ERDDAP server using the `xarray` library."
   ]
  },
  {
   "cell_type": "code",
   "execution_count": 9,
   "metadata": {
    "collapsed": false
   },
   "outputs": [],
   "source": [
    "import numpy as np\n",
    "import xarray as xr\n",
    "import datetime as dtm\n",
    "import dateutil.parser as dparser\n",
    "import matplotlib.pyplot as plt\n",
    "import matplotlib.animation as animation\n",
    "import myvisualizations as myviz\n",
    "import os\n",
    "\n",
    "from salishsea_tools import viz_tools, tidetools\n",
    "\n",
    "#%matplotlib inline\n",
    "#mpl.rcParams.update({'font.size': 12})\n",
    "#mpl.rcParams[\"axes.formatter.useoffset\"] = False"
   ]
  },
  {
   "cell_type": "code",
   "execution_count": 15,
   "metadata": {
    "collapsed": false
   },
   "outputs": [
    {
     "name": "stdout",
     "output_type": "stream",
     "text": [
      "/ocean/bmoorema/research/MEOPAR/analysis-ben/visualization/NEMOcurrents_0m_2016Apr01T00to2016Apr02T00.mp4\n"
     ]
    }
   ],
   "source": [
    "timerange = ['2016-04-01 00:00', '2016-04-02 00:00']\n",
    "animate_currents_winds(timerange)"
   ]
  },
  {
   "cell_type": "code",
   "execution_count": 14,
   "metadata": {
    "collapsed": false
   },
   "outputs": [],
   "source": [
    "def animate_currents_winds(timerange, depth=0, spacing={'NEMO': 5, 'GEM': 5},\n",
    "                           window={'x_NEMO': slice(100, 398), 'x_GEM': slice(300000, 425000),\n",
    "                                   'y_NEMO': slice(230, 570), 'y_GEM': slice(237500, 412500)},\n",
    "                           writepath='/ocean/bmoorema/research/MEOPAR/analysis-ben/visualization'):\n",
    "    \"\"\"\n",
    "    \"\"\"\n",
    "    \n",
    "    # Parse timerange\n",
    "    starttime, endtime = map(dparser.parse, timerange)\n",
    "    frames = (endtime - starttime).days * 24\n",
    "    winlen = dtm.timedelta(hours=20)\n",
    "    timeslice = slice(starttime - winlen, endtime + winlen)\n",
    "    \n",
    "    # Write file path\n",
    "    writefile = 'NEMOcurrents_{}m_{}to{}.mp4'.format(\n",
    "                depth, starttime.strftime('%Y%b%dT%H'), endtime.strftime('%Y%b%dT%H'))\n",
    "    filepath = os.path.join(writepath, writefile)\n",
    "    \n",
    "    # Load Nowcast and GEM results from ERDDAP using xarray\n",
    "    GEM_OP    = xr.open_dataset('https://salishsea.eos.ubc.ca/erddap/griddap/ubcSSaSurfaceAtmosphereFieldsV1')\n",
    "    GEM_grid  = xr.open_dataset('https://salishsea.eos.ubc.ca/erddap/griddap/ubcSSaAtmosphereGridV1')\n",
    "    u_vel     = xr.open_dataset('https://salishsea.eos.ubc.ca/erddap/griddap/ubcSSn3DuVelocity1hV1')\n",
    "    v_vel     = xr.open_dataset('https://salishsea.eos.ubc.ca/erddap/griddap/ubcSSn3DvVelocity1hV1')\n",
    "    NEMO_grid = xr.open_dataset('https://salishsea.eos.ubc.ca/erddap/griddap/ubcSSnBathymetry2V1')\n",
    "    \n",
    "    # Slice results objects\n",
    "    lon_NEMO = NEMO_grid.longitude.sel(\n",
    "        gridX=window['x_NEMO'], gridY=window['y_NEMO'])[1::spacing['NEMO'], 1::spacing['NEMO']]\n",
    "    lat_NEMO = NEMO_grid.latitude.sel(\n",
    "        gridX=window['x_NEMO'], gridY=window['y_NEMO'])[1::spacing['NEMO'], 1::spacing['NEMO']]\n",
    "    lon_GEM = GEM_grid.longitude.sel(\n",
    "        gridX=window['x_GEM'], gridY=window['y_GEM'])[::spacing['GEM'], ::spacing['GEM']]-360\n",
    "    lat_GEM = GEM_grid.latitude.sel(\n",
    "        gridX=window['x_GEM'], gridY=window['y_GEM'])[::spacing['GEM'], ::spacing['GEM']]\n",
    "    u_NEMO = u_vel.uVelocity.sel(\n",
    "        time=timeslice, gridX=window['x_NEMO'], gridY=window['y_NEMO']).sel(depth=depth, method='nearest')\n",
    "    v_NEMO = v_vel.vVelocity.sel(\n",
    "        time=timeslice, gridX=window['x_NEMO'], gridY=window['y_NEMO']).sel(depth=depth, method='nearest')\n",
    "    u_GEM = GEM_OP.u_wind.sel(\n",
    "        time=timeslice, gridX=window['x_GEM'], gridY=window['y_GEM'])[:, ::spacing['GEM'], ::spacing['GEM']]\n",
    "    v_GEM = GEM_OP.v_wind.sel(\n",
    "        time=timeslice, gridX=window['x_GEM'], gridY=window['y_GEM'])[:, ::spacing['GEM'], ::spacing['GEM']]\n",
    "    \n",
    "    # Unstagger NEMO currents\n",
    "    u_NEMO, v_NEMO = viz_tools.unstagger(u_NEMO, v_NEMO)\n",
    "    v_NEMO = v_NEMO.reindex_like(u_NEMO)\n",
    "    u_NEMO, v_NEMO = viz_tools.rotate_vel(u_NEMO[:, ::spacing['NEMO'], ::spacing['NEMO']],\n",
    "                                          v_NEMO[:, ::spacing['NEMO'], ::spacing['NEMO']], origin='grid')\n",
    "    \n",
    "    # Apply Doodson filter to currents and wind\n",
    "    u_NEMO_filtered = tidetools.filter_timeseries(u_NEMO, method='doodson')\n",
    "    v_NEMO_filtered = tidetools.filter_timeseries(v_NEMO, method='doodson')\n",
    "    u_GEM_filtered  = tidetools.filter_timeseries(u_GEM,  method='doodson')\n",
    "    v_GEM_filtered  = tidetools.filter_timeseries(v_GEM,  method='doodson')\n",
    "    \n",
    "    # Organize results into dictionaries\n",
    "    coords     = {'lon_NEMO': lon_NEMO,        'lon_GEM': lon_GEM,\n",
    "                  'lat_NEMO': lat_NEMO,        'lat_GEM': lat_GEM}\n",
    "    unfiltered = {  'u_NEMO':   u_NEMO,          'u_GEM':   u_GEM,\n",
    "                    'v_NEMO':   v_NEMO,          'v_GEM':   v_GEM}\n",
    "    filtered   = {  'u_NEMO':   u_NEMO_filtered, 'u_GEM':   u_GEM_filtered,\n",
    "                    'v_NEMO':   v_NEMO_filtered, 'v_GEM':   v_GEM_filtered}\n",
    "    \n",
    "    # Generate figure panels\n",
    "    fig, ax = plt.subplots(1, 2, figsize=(15, 10))\n",
    "    \n",
    "    # Plot initial vector fields\n",
    "    plot_objs_unfiltered = myviz.plot_currents(ax[0], starttime, coords, unfiltered)\n",
    "    plot_objs_filtered   = myviz.plot_currents(ax[1], starttime, coords, filtered)\n",
    "    \n",
    "    # Next frame definition\n",
    "    def update_plot(t, plot_objs_unfiltered, plot_objs_filtered):\n",
    "        time = (starttime + dtm.timedelta(hours=t)).strftime('%a %Y-%m-%d %H:%M:%S')\n",
    "        plot_objs_unfiltered = myviz.update_currents(time, plot_objs_unfiltered, unfiltered)\n",
    "        plot_objs_filtered   = myviz.update_currents(time, plot_objs_filtered,   filtered)\n",
    "        return plot_objs_unfiltered, plot_objs_filtered\n",
    "    \n",
    "    # Animate\n",
    "    mywriter = animation.FFMpegWriter(fps=12, bitrate=600)\n",
    "    ani = animation.FuncAnimation(fig, update_plot, fargs=(plot_objs_unfiltered, plot_objs_filtered),\n",
    "                                  frames=frames, blit=False)\n",
    "    ani.save(filepath, writer=mywriter)"
   ]
  },
  {
   "cell_type": "code",
   "execution_count": null,
   "metadata": {
    "collapsed": true
   },
   "outputs": [],
   "source": []
  }
 ],
 "metadata": {
  "kernelspec": {
   "display_name": "Python 3",
   "language": "python",
   "name": "python3"
  },
  "language_info": {
   "codemirror_mode": {
    "name": "ipython",
    "version": 3
   },
   "file_extension": ".py",
   "mimetype": "text/x-python",
   "name": "python",
   "nbconvert_exporter": "python",
   "pygments_lexer": "ipython3",
   "version": "3.5.1"
  }
 },
 "nbformat": 4,
 "nbformat_minor": 0
}
