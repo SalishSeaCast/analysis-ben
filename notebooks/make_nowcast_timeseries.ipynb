{
 "cells": [
  {
   "cell_type": "markdown",
   "metadata": {},
   "source": [
    "# Make Nowcast Timeseries\n",
    "This notebook describes the process of extracting a timeseries of SalishSeaCast Nowcast and HRDPS results for analysis."
   ]
  },
  {
   "cell_type": "code",
   "execution_count": 1,
   "metadata": {
    "collapsed": true
   },
   "outputs": [],
   "source": [
    "from salishsea_tools import grid_tools, timeseries_tools\n",
    "import xarray as xr\n",
    "import pickle"
   ]
  },
  {
   "cell_type": "markdown",
   "metadata": {},
   "source": [
    "## Functions\n",
    "`reshape_GEM` flattens the HRDPS records downloaded from ERDDAP to 2-D (time and space)"
   ]
  },
  {
   "cell_type": "code",
   "execution_count": 24,
   "metadata": {
    "collapsed": true
   },
   "outputs": [],
   "source": [
    "def reshape_GEM(data, grid, mask):\n",
    "    \"\"\"Flattens GEM HRDPS wind to 2-D (time-space) and removes land points\n",
    "    \"\"\"\n",
    "\n",
    "    # Initialize storage\n",
    "    data_flat = {'raw': {'grid': {}}}\n",
    "    \n",
    "    # Build GEM coordinates\n",
    "    mask_flt, coords, ngrid, ngrid_water = timeseries_tools.reshape_coords_GEM(\n",
    "        grid, mask,\n",
    "    )\n",
    "\n",
    "    # Reshape, flatten, and trim\n",
    "    data_flat['raw']['grid']['u'] = timeseries_tools.reshape_to_ts(\n",
    "        data.u_wind.values, mask_flt.astype(bool), ngrid, ngrid_water,\n",
    "    )\n",
    "    data_flat['raw']['grid']['v'] = timeseries_tools.reshape_to_ts(\n",
    "        data.v_wind.values, mask_flt.astype(bool), ngrid, ngrid_water,\n",
    "    )\n",
    "\n",
    "    # Assign parameters to output dict\n",
    "    data_flat['mask'] = mask_flt\n",
    "    data_flat['coords'] = coords\n",
    "    data_flat['ngrid'] = ngrid\n",
    "    data_flat['ngrid_water'] = ngrid_water\n",
    "\n",
    "    return data_flat"
   ]
  },
  {
   "cell_type": "markdown",
   "metadata": {},
   "source": [
    "`iterate_NEMO_timeseries` is a wrapper for `timeseries_tools.load_NEMO_timeseries` that loads and flattens Nowcast results to 2-D (time and space).\n",
    "\n",
    "**Note** For optimization purposes, `timeseries_tools.load_NEMO_timeseries` slices along a single dimension by definition. If 3-D (x, y, depth) or 1-D are desired, consider `xarray.open_mfdataset` or ERRDAP. If averages along a dimension are desired, consider modifying `timeseries_tools.load_NEMO_timeseries`."
   ]
  },
  {
   "cell_type": "code",
   "execution_count": 26,
   "metadata": {
    "collapsed": true
   },
   "outputs": [],
   "source": [
    "def iterate_NEMO_timeseries(timerange, variables, mask, dims, indices):\n",
    "    \"\"\"Wrapper for timeseries_tools.load_NEMO_timeseries that loads and flattens\n",
    "    Nowcast results to 2-D (time-space) and removes land points\n",
    "    \"\"\"\n",
    "    \n",
    "    # Intialize empty dict\n",
    "    results = {}\n",
    "\n",
    "    # Loop through results slices\n",
    "    for var in variables:  # --- Loop through variables\n",
    "        for dim, index in zip(dims, indices):  # --- Loop through slices\n",
    "            \n",
    "            # Populate dict fields\n",
    "            results[var] = {}\n",
    "            results[var][dim] = {}\n",
    "            results[var][dim][index] = {}\n",
    "\n",
    "            # Determine filenames and unstaggering from variable names\n",
    "            dim_in, unstagger = dim, None\n",
    "            if var is 'vozocrtx':\n",
    "                file = 'U'\n",
    "                if dim is 'depth':\n",
    "                    dim_in, unstagger = 'depthu', 'x'\n",
    "            elif var is 'vomecrty':\n",
    "                file = 'V'\n",
    "                if dim is 'depth':\n",
    "                    dim_in, unstagger = 'depthv', 'y'\n",
    "            else:\n",
    "                file = 'T'\n",
    "                if dim is 'depth':\n",
    "                    dim_in = 'deptht'\n",
    "\n",
    "            # Determine spacing from variable names and slicing\n",
    "            if (var is 'vozocrtx' or var is 'vomecrty') and dim is 'depth':\n",
    "                spacing = 5\n",
    "            else:\n",
    "                spacing = 1\n",
    "\n",
    "            # Construct Filename List\n",
    "            filenames = timeseries_tools.make_filename_list(\n",
    "                timerange, file, model='nowcast-green', resolution='h'\n",
    "            )\n",
    "            \n",
    "            # Load Results\n",
    "            data, coords = timeseries_tools.load_NEMO_timeseries(\n",
    "                filenames, mask, var, dim_in, index=index,\n",
    "                spacing=spacing, shape='flat', unstagger_dim=unstagger,\n",
    "            )\n",
    "            \n",
    "            # Export results as dict\n",
    "            results[var][dim][index]['data'] = data\n",
    "            results[var][dim][index]['coords'] = coords\n",
    "\n",
    "            # Export timerange\n",
    "            results[var][dim][index]['coords']['timerange'] = timerange\n",
    "\n",
    "    return results"
   ]
  },
  {
   "cell_type": "markdown",
   "metadata": {},
   "source": [
    "## Load Results\n",
    "First specify a timerange"
   ]
  },
  {
   "cell_type": "code",
   "execution_count": 4,
   "metadata": {
    "collapsed": true
   },
   "outputs": [],
   "source": [
    "# Timerange\n",
    "timerange = ['2017 Jan 1 00:00', '2017 Jan 31 23:00']"
   ]
  },
  {
   "cell_type": "markdown",
   "metadata": {},
   "source": [
    "Next load the grid and mask files"
   ]
  },
  {
   "cell_type": "code",
   "execution_count": 5,
   "metadata": {},
   "outputs": [
    {
     "name": "stderr",
     "output_type": "stream",
     "text": [
      "Building GEM mask 100% (68096 of 68096) |###################################|Time: 0:03:59\n"
     ]
    }
   ],
   "source": [
    "# Load mask and grid\n",
    "grid_NEMO = xr.open_dataset('/data/bmoorema/MEOPAR/NEMO-forcing/grid/bathy_downonegrid2.nc')\n",
    "grid_GEM = xr.open_dataset('/results/forcing/atmospheric/GEM2.5/operational/ops_y2017m01d01.nc')\n",
    "mask_NEMO = xr.open_dataset('/data/bmoorema/MEOPAR/NEMO-forcing/grid/mesh_mask_downbyone2.nc')\n",
    "\n",
    "# Build GEM mask\n",
    "mask_GEM = grid_tools.build_GEM_mask(grid_GEM, grid_NEMO, mask_NEMO.tmask.isel(t=0, z=0))"
   ]
  },
  {
   "cell_type": "markdown",
   "metadata": {},
   "source": [
    "Next load the GEM record from ERDDAP and flatten with `reshape_GEM`"
   ]
  },
  {
   "cell_type": "code",
   "execution_count": 7,
   "metadata": {
    "collapsed": true
   },
   "outputs": [],
   "source": [
    "# Load GEM record\n",
    "GEM_in = xr.open_dataset('https://salishsea.eos.ubc.ca/erddap/griddap/ubcSSaSurfaceAtmosphereFieldsV1')\n",
    "GEM = reshape_GEM(GEM_in.sel(time=slice(*timerange)), grid_GEM, mask_GEM)"
   ]
  },
  {
   "cell_type": "markdown",
   "metadata": {},
   "source": [
    "Next load flatten the Nowcast record for each requested variable and slice. Save to a `pickle` file."
   ]
  },
  {
   "cell_type": "code",
   "execution_count": 27,
   "metadata": {},
   "outputs": [
    {
     "name": "stderr",
     "output_type": "stream",
     "text": [
      "Loading votemper, deptht=0 100% (31 of 31) |################################|Time: 0:00:42\n",
      "Loading votemper, deptht=20 100% (31 of 31) |###############################|Time: 0:00:40\n",
      "Loading votemper, y=450 100% (31 of 31) |###################################|Time: 0:00:39\n",
      "Loading votemper, y=520 100% (31 of 31) |###################################|Time: 0:00:39\n",
      "Loading votemper, y=680 100% (31 of 31) |###################################|Time: 0:00:37\n",
      "Loading vosaline, deptht=0 100% (31 of 31) |################################|Time: 0:00:43\n",
      "Loading vosaline, deptht=20 100% (31 of 31) |###############################|Time: 0:00:40\n",
      "Loading vosaline, y=450 100% (31 of 31) |###################################|Time: 0:00:41\n",
      "Loading vosaline, y=520 100% (31 of 31) |###################################|Time: 0:00:40\n",
      "Loading vosaline, y=680 100% (31 of 31) |###################################|Time: 0:00:36\n",
      "Loading vozocrtx, depthu=0 100% (31 of 31) |################################|Time: 0:01:18\n",
      "Loading vozocrtx, depthu=20 100% (31 of 31) |###############################|Time: 0:01:18\n",
      "Loading vozocrtx, y=450 100% (31 of 31) |###################################|Time: 0:00:38\n",
      "Loading vozocrtx, y=520 100% (31 of 31) |###################################|Time: 0:00:40\n",
      "Loading vozocrtx, y=680 100% (31 of 31) |###################################|Time: 0:00:34\n",
      "Loading vomecrty, depthv=0 100% (31 of 31) |################################|Time: 0:01:19\n",
      "Loading vomecrty, depthv=20 100% (31 of 31) |###############################|Time: 0:01:18\n",
      "Loading vomecrty, y=450 100% (31 of 31) |###################################|Time: 0:00:39\n",
      "Loading vomecrty, y=520 100% (31 of 31) |###################################|Time: 0:00:38\n",
      "Loading vomecrty, y=680 100% (31 of 31) |###################################|Time: 0:00:35\n"
     ]
    },
    {
     "ename": "TypeError",
     "evalue": "write() argument must be str, not bytes",
     "output_type": "error",
     "traceback": [
      "\u001b[0;31m---------------------------------------------------------------------------\u001b[0m",
      "\u001b[0;31mTypeError\u001b[0m                                 Traceback (most recent call last)",
      "\u001b[0;32m<ipython-input-27-f4cf96dab7a2>\u001b[0m in \u001b[0;36m<module>\u001b[0;34m()\u001b[0m\n\u001b[1;32m      7\u001b[0m \u001b[0;31m# Save output\u001b[0m\u001b[0;34m\u001b[0m\u001b[0;34m\u001b[0m\u001b[0m\n\u001b[1;32m      8\u001b[0m \u001b[0;32mwith\u001b[0m \u001b[0mopen\u001b[0m\u001b[0;34m(\u001b[0m\u001b[0;34m'/ocean/bmoorema/research/MEOPAR/analysis-ben/data/NowcastJan2017'\u001b[0m\u001b[0;34m,\u001b[0m \u001b[0;34m'w'\u001b[0m\u001b[0;34m)\u001b[0m \u001b[0;32mas\u001b[0m \u001b[0mfid\u001b[0m\u001b[0;34m:\u001b[0m\u001b[0;34m\u001b[0m\u001b[0m\n\u001b[0;32m----> 9\u001b[0;31m     \u001b[0mpickle\u001b[0m\u001b[0;34m.\u001b[0m\u001b[0mdump\u001b[0m\u001b[0;34m(\u001b[0m\u001b[0mNowcast\u001b[0m\u001b[0;34m,\u001b[0m \u001b[0mfid\u001b[0m\u001b[0;34m)\u001b[0m\u001b[0;34m\u001b[0m\u001b[0m\n\u001b[0m",
      "\u001b[0;31mTypeError\u001b[0m: write() argument must be str, not bytes"
     ]
    }
   ],
   "source": [
    "# Loop through requests\n",
    "dims = ['depth', 'depth', 'y', 'y', 'y']\n",
    "indices = [0, 20, 450, 520, 680]\n",
    "variables = ['votemper', 'vosaline', 'vozocrtx', 'vomecrty']\n",
    "Nowcast = iterate_NEMO_timeseries(timerange, variables, mask_NEMO, dims, indices)\n",
    "\n",
    "# Save output\n",
    "with open('/ocean/bmoorema/research/MEOPAR/analysis-ben/data/NowcastJan2017', 'wb') as fid:\n",
    "    pickle.dump(Nowcast, fid)"
   ]
  },
  {
   "cell_type": "code",
   "execution_count": null,
   "metadata": {
    "collapsed": true
   },
   "outputs": [],
   "source": []
  }
 ],
 "metadata": {
  "kernelspec": {
   "display_name": "Python 3",
   "language": "python",
   "name": "python3"
  },
  "language_info": {
   "codemirror_mode": {
    "name": "ipython",
    "version": 3
   },
   "file_extension": ".py",
   "mimetype": "text/x-python",
   "name": "python",
   "nbconvert_exporter": "python",
   "pygments_lexer": "ipython3",
   "version": "3.7.6"
  }
 },
 "nbformat": 4,
 "nbformat_minor": 2
}
