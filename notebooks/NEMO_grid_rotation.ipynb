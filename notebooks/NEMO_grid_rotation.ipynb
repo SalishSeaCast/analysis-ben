{
 "cells": [
  {
   "cell_type": "code",
   "execution_count": 1,
   "metadata": {
    "collapsed": true
   },
   "outputs": [],
   "source": [
    "import xarray as xr"
   ]
  },
  {
   "cell_type": "code",
   "execution_count": 2,
   "metadata": {},
   "outputs": [
    {
     "name": "stderr",
     "output_type": "stream",
     "text": [
      "/home/bmoorema/anaconda3/lib/python3.6/site-packages/xarray/coding/times.py:122: SerializationWarning: Unable to decode time axis into full numpy.datetime64 objects, continuing using dummy cftime.datetime objects instead, reason: dates out of range\n",
      "  result = decode_cf_datetime(example_value, units, calendar)\n",
      "/home/bmoorema/anaconda3/lib/python3.6/site-packages/xarray/coding/variables.py:69: SerializationWarning: Unable to decode time axis into full numpy.datetime64 objects, continuing using dummy cftime.datetime objects instead, reason: dates out of range\n",
      "  return self.func(self.array)\n"
     ]
    },
    {
     "data": {
      "text/plain": [
       "<xarray.Dataset>\n",
       "Dimensions:     (time: 1, x: 398, y: 898)\n",
       "Coordinates:\n",
       "  * time        (time) object 0001-01-01 00:00:00\n",
       "Dimensions without coordinates: x, y\n",
       "Data variables:\n",
       "    nav_lon     (y, x) float32 ...\n",
       "    nav_lat     (y, x) float32 ...\n",
       "    time_steps  (time) object ...\n",
       "    glamt       (time, y, x) float64 ...\n",
       "    glamu       (time, y, x) float64 ...\n",
       "    glamv       (time, y, x) float64 ...\n",
       "    glamf       (time, y, x) float64 ...\n",
       "    gphit       (time, y, x) float64 ...\n",
       "    gphiu       (time, y, x) float64 ...\n",
       "    gphiv       (time, y, x) float64 ...\n",
       "    gphif       (time, y, x) float64 ...\n",
       "    e1t         (time, y, x) float64 ...\n",
       "    e1u         (time, y, x) float64 ...\n",
       "    e1v         (time, y, x) float64 ...\n",
       "    e1f         (time, y, x) float64 ...\n",
       "    e2t         (time, y, x) float64 ...\n",
       "    e2u         (time, y, x) float64 ...\n",
       "    e2v         (time, y, x) float64 ...\n",
       "    e2f         (time, y, x) float64 ...\n",
       "Attributes:\n",
       "    history:  [2017-02-09] Swapped e1/e2 variables in the original coordinate..."
      ]
     },
     "execution_count": 2,
     "metadata": {},
     "output_type": "execute_result"
    }
   ],
   "source": [
    "xr.open_dataset('/data/bmoorema/MEOPAR/grid/coordinates_seagrid_SalishSea2.nc')"
   ]
  },
  {
   "cell_type": "code",
   "execution_count": 4,
   "metadata": {},
   "outputs": [],
   "source": [
    "def rotation(glam, gphi, attr):\n",
    "    return 2 * getattr(np, attr)(np.pi * glam / 180) * np.tan(np.pi * (1 / 4 - gphi / 360))"
   ]
  },
  {
   "cell_type": "code",
   "execution_count": null,
   "metadata": {
    "collapsed": true
   },
   "outputs": [],
   "source": [
    "gcost = np.zeros_like(glamt)\n",
    "gcosu = np.zeros_like(glamt)\n",
    "gcosv = np.zeros_like(glamt)\n",
    "gcosf = np.zeros_like(glamt)\n",
    "gsint = np.zeros_like(glamt)\n",
    "gsinu = np.zeros_like(glamt)\n",
    "gsinv = np.zeros_like(glamt)\n",
    "gsinf = np.zeros_like(glamt)\n",
    "\n",
    "jpj, jpi = np.shape(glamt)\n",
    "\n",
    "rpi = np.pi\n",
    "rad = np.pi / 180.\n",
    "\n",
    "for jj in range(1, jpj - 1):\n",
    "    for ji in range(1, jpi):\n",
    "        \n",
    "        # for t, u, v, f\n",
    "        lims = (slice(1, jpj-1), slice(1, jpi))\n",
    "        zxnpt, zynpt = [-rotation(glam[lims], gphi[lims], attr) for attr in ['cos', 'sin']]\n",
    "        znnpt = zxnpt**2 + zynpt**2\n",
    "        \n",
    "        # for v around t glamv[jj-1, ji], gphiv[jj-1, ji]\n",
    "        # for f around u glamf[jj-1, ji], gphif[jj-1, ji]\n",
    "        # for f around v glamf[jj, ji-1], gphif[jj, ji-1]\n",
    "        # for u around f glamv[jj+1, ji], gphiv[jj+1, ji] (glam, gphi)\n",
    "        for glam, gphi in zip(glamv[jj, ji], gphiv[jj, ji]):\n",
    "        for glan, gphh in zip(glamv[jj-1, ji], gphiv[jj-1, ji]):\n",
    "        \n",
    "        for lims in zip():\n",
    "            zxvvt, zyvvt = [rotation(glam, gphi, attr) for attr in ['cos', 'sin']]\n",
    "        znvvt = max(np.sqrt(znnpt * (zxvvt**2 + zyvvt**2)), 1e-14)\n",
    "\n",
    "        \n",
    "        # ! cosinus and sinus using scalar and vectorial products\n",
    "        gsint[jj, ji] = (zxnpt * zyvvt - zynpt * zxvvt) / znvvt\n",
    "        gcost[jj, ji] = (zxnpt * zxvvt + zynpt * zyvvt) / znvvt\n",
    "\n",
    "        gsinu[jj, ji] = (zxnpu * zyffu - zynpu * zxffu) / znffu\n",
    "        gcosu[jj, ji] = (zxnpu * zxffu + zynpu * zyffu) / znffu\n",
    "\n",
    "        gsinf[jj, ji] = (zxnpf * zyuuf - zynpf * zxuuf) / znuuf\n",
    "        gcosf[jj, ji] = (zxnpf * zxuuf + zynpf * zyuuf) / znuuf\n",
    "\n",
    "        # ! (caution, rotation of 90 degres)\n",
    "        gsinv[jj, ji] =  (zxnpv * zxffv + zynpv * zyffv ) / znffv\n",
    "        gcosv[jj, ji] = -(zxnpv * zyffv - zynpv * zxffv ) / znffv\n",
    "\n",
    "# 1:  first row is copied from second row\n",
    "gsint[:,0] = gsint[:,1]\n",
    "gcost[:,0] = gcost[:,1]\n",
    "gsinu[:,0] = gsinu[:,1]\n",
    "gcosu[:,0] = gcosu[:,1]\n",
    "gsinv[:,0] = gsinv[:,1]\n",
    "gcosv[:,0] = gcosv[:,1]\n",
    "gsinf[:,0] = gsinf[:,1]\n",
    "gcosf[:,0] = gcosf[:,1]\n",
    "\n",
    "# 2: last row copied from second last row\n",
    "gsint[:,-1] = gsint[:,-2]\n",
    "gcost[:,-1] = gcost[:,-2]\n",
    "gsinu[:,-1] = gsinu[:,-2]\n",
    "gcosu[:,-1] = gcosu[:,-2]\n",
    "gsinv[:,-1] = gsinv[:,-2]\n",
    "gcosv[:,-1] = gcosv[:,-2]\n",
    "gsinf[:,-1] = gsinf[:,-2]\n",
    "gcosf[:,-1] = gcosf[:,-2]\n",
    "\n",
    "# first column copied from second column\n",
    "gsint[0,:] = gsint[1,:]\n",
    "gcost[0,:] = gcost[1,:]\n",
    "gsinu[0,:] = gsinu[1,:]\n",
    "gcosu[0,:] = gcosu[1,:]\n",
    "gsinv[0,:] = gsinv[1,:]\n",
    "gcosv[0,:] = gcosv[1,:]\n",
    "gsinf[0,:] = gsinf[1,:]\n",
    "gcosf[0,:] = gcosf[1,:]\n",
    "\n",
    "# 4: last column copied from second last column\n",
    "gsint[-1,:] = gsint[-2,:]\n",
    "gcost[-1,:] = gcost[-2,:]\n",
    "gsinu[-1,:] = gsinu[-2,:]\n",
    "gcosu[-1,:] = gcosu[-2,:]\n",
    "gsinv[-1,:] = gsinv[-2,:]\n",
    "gcosv[-1,:] = gcosv[-2,:]\n",
    "gsinf[-1,:] = gsinf[-2,:]\n",
    "gcosf[-1,:] = gcosf[-2,:]\n",
    "\n",
    "return gsint,gcost,gsinu,gcosu,gsinv,gcosv,gsinf,gcosf"
   ]
  }
 ],
 "metadata": {
  "kernelspec": {
   "display_name": "Python 3",
   "language": "python",
   "name": "python3"
  },
  "language_info": {
   "codemirror_mode": {
    "name": "ipython",
    "version": 3
   },
   "file_extension": ".py",
   "mimetype": "text/x-python",
   "name": "python",
   "nbconvert_exporter": "python",
   "pygments_lexer": "ipython3",
   "version": "3.6.8"
  }
 },
 "nbformat": 4,
 "nbformat_minor": 2
}
