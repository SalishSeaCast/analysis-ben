{
 "cells": [
  {
   "cell_type": "code",
   "execution_count": 13,
   "metadata": {
    "collapsed": true
   },
   "outputs": [],
   "source": [
    "import numpy as np\n",
    "import matplotlib.pyplot as plt\n",
    "\n",
    "%matplotlib inline\n",
    "plt.rcParams['font.size'] = 14"
   ]
  },
  {
   "cell_type": "code",
   "execution_count": 21,
   "metadata": {
    "collapsed": true
   },
   "outputs": [],
   "source": [
    "def make_domain_diagram(E=0.1, L=1.0):\n",
    "    \"\"\"Quick plotting code for a domain diagram\n",
    "    \"\"\"\n",
    "    \n",
    "    # Make figure\n",
    "    fig, ax = plt.subplots(1, 1, figsize=(13, 5))\n",
    "    ax.set_xlim([0, 1])\n",
    "    ax.set_ylim([0, L])\n",
    "    \n",
    "    # Add labels\n",
    "    ax.set_xlabel('Y')\n",
    "    ax.set_ylabel('X')\n",
    "    ax.xaxis.set_ticks([0])\n",
    "    ax.yaxis.set_ticks([0, L])\n",
    "    ax.yaxis.set_ticklabels([0, 'L'])\n",
    "    ax.tick_params(direction='out', pad=8)\n",
    "    \n",
    "    # Add coastline ticks\n",
    "    for tick in np.arange(0, 1, 0.01):\n",
    "        ax.plot([tick, tick+0.01], [0, -0.02], 'k-', clip_on=False)\n",
    "    \n",
    "    return fig, ax"
   ]
  },
  {
   "cell_type": "code",
   "execution_count": 68,
   "metadata": {
    "collapsed": true
   },
   "outputs": [],
   "source": [
    "# Define constants\n",
    "f = 1e-4\n",
    "g = 9.81"
   ]
  },
  {
   "cell_type": "markdown",
   "metadata": {},
   "source": [
    "### Arrested topographic wave"
   ]
  },
  {
   "cell_type": "code",
   "execution_count": 22,
   "metadata": {},
   "outputs": [
    {
     "data": {
      "image/png": "[encoded data removed]",
      "text/plain": [
       "<matplotlib.figure.Figure at 0x7f15dd5d49b0>"
      ]
     },
     "metadata": {},
     "output_type": "display_data"
    }
   ],
   "source": [
    "fig, ax = make_domain_diagram()"
   ]
  },
  {
   "cell_type": "markdown",
   "metadata": {},
   "source": [
    "$\\require{cancel}$\n",
    "Start with steady shallow water equations\n",
    "\n",
    "$$\n",
    "\\begin{align}\n",
    "- fv & = -g\\frac{\\partial\\eta}{\\partial x} \\tag{1a} \\\\\n",
    "fu & = -g\\frac{\\partial\\eta}{\\partial y} + \\frac{\\tau_y}{h} - \\frac{\\mu v}{h} \\tag{1b} \\\\\n",
    "0 & = \\frac{\\partial hu}{\\partial x} + \\frac{\\partial hv}{\\partial y} \\tag{1c}\n",
    "\\end{align}\n",
    "$$\n",
    "\n",
    "Vorticity equation\n",
    "\n",
    "$$fh\\left(\\frac{\\partial u}{\\partial x} + \\frac{\\partial v}{\\partial y}\\right) = -\\frac{\\partial h}{\\partial x}\\left[\\frac{\\tau_y}{h} + \\frac{\\mu g}{f}\\left(\\frac{1}{h_x}\\frac{\\partial^2\\eta}{\\partial x^2} - \\frac{1}{h}\\frac{\\partial\\eta}{\\partial x}\\right)\\right] \\tag{2}$$\n",
    "\n",
    "Sub continuity equation\n",
    "\n",
    "$$fu = \\frac{\\tau_y}{h} + \\frac{\\mu g}{f}\\left(\\frac{1}{h_x}\\frac{\\partial^2\\eta}{\\partial x^2} - \\frac{1}{h}\\frac{\\partial\\eta}{\\partial x}\\right) \\tag{3}$$\n",
    "\n",
    "Sub (1b) to produce ATW equation\n",
    "\n",
    "$$\\boxed{\\hspace{0.5cm} \\frac{\\partial^2\\eta}{\\partial x^2} + \\frac{f}{\\mu}\\frac{\\partial h}{\\partial x}\\frac{\\partial\\eta}{\\partial y} = 0 \\hspace{0.5cm}} \\tag{4}$$\n",
    "\n",
    "Linearize by letting $\\frac{\\partial h}{\\partial x} = s$\n",
    "\n",
    "$$\\frac{\\partial^2\\eta}{\\partial x^2} + \\frac{fs}{\\mu}\\frac{\\partial\\eta}{\\partial y} = 0 \\tag{5}$$"
   ]
  },
  {
   "cell_type": "markdown",
   "metadata": {},
   "source": [
    "#### Case 1: Windstress boundary condition\n",
    "\n",
    "$$\n",
    "\\begin{align}\n",
    "\\frac{\\partial\\eta}{\\partial x}(0, y) & = \\frac{f\\tau_y}{\\mu g} & \\text{(windstress at coast)} \\tag{6a}\\\\\n",
    "\\eta(L, y) = \\eta(x, 0) & = 0 & \\text{(shelf and upstream)} \\tag{6b}\n",
    "\\end{align}\n",
    "$$\n",
    "\n",
    "Consider steady and transient solutions\n",
    "\n",
    "$$\\eta(x, y) = \\bar{\\eta}(x) + \\hat{\\eta}(x, y) \\tag{7}$$\n",
    "\n",
    "Where $\\bar{\\eta}(x)$ is the linear height between $x=0$ and $x=L$ at large $y$ (from Farlow 1982, p. 46)\n",
    "\n",
    "$$\\bar{\\eta}(x) = \\frac{f\\tau_y}{\\mu g}\\left(x - L\\right) \\tag{8}$$\n",
    "\n",
    "and the transient solution is the solution to (5) with homogeneous boundary conditions\n",
    "\n",
    "$$\\hat{\\eta}(x, y) = \\sum_{n=1}^{\\infty}A_n\\exp\\left({\\frac{\\mu}{fs}\\frac{n\\pi y}{L}}\\right)\\sin\\left(\\frac{n\\pi x}{L}\\right) \\tag{9}$$\n",
    "\n",
    "Considering the $y$ \"boundary\" condition, the coefficients $A_n$ are given by\n",
    "\n",
    "$$\n",
    "\\begin{align}\n",
    "A_n & = -\\frac{2f\\tau_y}{\\mu gL}\\left[\\int_0^Lx\\sin\\left(\\frac{n\\pi x}{L}\\right)dx - L\\int_0^L\\sin\\left(\\frac{n\\pi x}{L}\\right)dx\\right] \\\\\n",
    "& = -\\frac{2f\\tau_y}{n\\pi\\mu g}\\left[\\frac{L}{n\\pi}\\sin\\left(\\frac{n\\pi x}{L}\\right) - \\left(x - L\\right)\\cos\\left(\\frac{n\\pi x}{L}\\right)\\right]_0^L \\\\\n",
    "& = \\frac{2f\\tau_y\\left(x - L\\right)}{\\pi\\mu g}\\frac{(-1)^n - 1}{n} \\tag{10}\n",
    "\\end{align}\n",
    "$$\n",
    "\n",
    "The full solution is thus\n",
    "\n",
    "$$\\eta(x, y) = \\frac{f\\tau_y}{\\mu g}\\left(x - L\\right)\\left[1 + \\frac{2}{\\pi}\\sum_{n=1}^{\\infty}\\frac{(-1)^n - 1}{n}\\exp\\left({\\frac{\\mu}{fs}\\frac{n\\pi y}{L}}\\right)\\sin\\left(\\frac{n\\pi x}{L}\\right)\\right] \\tag{11}$$"
   ]
  },
  {
   "cell_type": "code",
   "execution_count": 95,
   "metadata": {},
   "outputs": [],
   "source": [
    "# ATW Case 1: Wind forcing at coast\n",
    "mu = 1\n",
    "tau_y = 1\n",
    "L = 1e5\n",
    "s = 10\n",
    "N = 500\n",
    "xi = np.arange(0, L, 1e3)\n",
    "yi = np.arange(-2e2, 0, 1e0)\n",
    "x, y = np.meshgrid(xi, yi)\n",
    "\n",
    "eta_hat = 0\n",
    "for n in range(1, N):\n",
    "    eta_hat = eta_hat + (-1)**n - 1 / n * np.exp(mu / (f * s) * n * np.pi * y / L) * np.sin(n * np.pi * x / L)\n",
    "\n",
    "eta = f * tau_y / (mu * g) * (x - L) * (1 + 2 / np.pi * eta_hat)"
   ]
  },
  {
   "cell_type": "code",
   "execution_count": 96,
   "metadata": {},
   "outputs": [
    {
     "data": {
      "text/plain": [
       "<matplotlib.contour.QuadContourSet at 0x7f15d221f400>"
      ]
     },
     "execution_count": 96,
     "metadata": {},
     "output_type": "execute_result"
    },
    {
     "data": {
      "image/png": "[encoded data removed]",
      "text/plain": [
       "<matplotlib.figure.Figure at 0x7f15d225c3c8>"
      ]
     },
     "metadata": {},
     "output_type": "display_data"
    }
   ],
   "source": [
    "fig, ax = plt.subplots(1, 1, figsize=(10, 10))\n",
    "\n",
    "ax.contour(eta)"
   ]
  },
  {
   "cell_type": "markdown",
   "metadata": {},
   "source": [
    "#### Case 2: Offshore surface height slope condition\n",
    "\n",
    "$$\n",
    "\\begin{align}\n",
    "\\frac{\\partial\\eta}{\\partial x} & = 0 & \\text{at } x = 0 \\text{ (coast)} \\tag{7a} \\\\\n",
    "\\frac{\\partial\\eta}{\\partial y} & = \\gamma & \\text{at } x = L \\text{ (shelf)} \\tag{7b} \\\\\n",
    "\\eta & = 0 & \\text{at } y > 0 \\text{ (upstream)} \\tag{7c}\n",
    "\\end{align}\n",
    "$$\n",
    "\n",
    "The offshore boundary condition (7b) cannot be accomodated by separation of variables and a Laplace transform must be used (more specifically, Duhamel's Principle). The solution as given by Csanady 1978 is\n",
    "\n",
    "$$\\eta = \\gamma y - \\frac{\\gamma\\left(x^2 - L^2\\right)}{2} - \\frac{16\\gamma L^2}{k\\pi^3}\\sum_{n=0}^\\infty\\frac{(-1)^n}{(2n + 1)^3}\\exp\\left[\\frac{(2n + 1)^2\\pi^2y}{4L^2}\\right]\\cos\\left[\\frac{(2n + 1)\\pi x}{2L}\\right] \\tag{8}$$\n",
    "\n",
    "which for large $y$ reduces to\n",
    "\n",
    "$$\\eta = \\gamma y - \\frac{\\gamma\\left(x^2 - L^2\\right)}{2} \\tag{9}$$\n",
    "\n",
    "The offshore sea surface height boundary presents an interesting idea for the adapting the model from Susan's 1996 paper.\n",
    "\n",
    "### Linear time dependence model\n",
    "\n",
    "From Susan's paper, the time dependent SWE's with $\\eta = \\eta_1ft + \\eta_0$ give\n",
    "\n",
    "$$R^2\\nabla^2\\eta_1 - \\eta_1 = \\frac{q}{f} \\tag{13}$$\n",
    "\n",
    "The solution is the sum of homogeneous and particular solutions\n",
    "\n",
    "$$\\eta_1 = \\phi + \\bar{\\eta}_1(x) \\tag{14} $$\n",
    "\n",
    "And the homogenous equation is a Helmholz equation\n",
    "\n",
    "$$\\nabla^2\\phi - \\frac{1}{R^2}\\phi = 0 \\tag{15}$$\n",
    "\n",
    "This time orient the coastline in the $y$ direction with a wall boundary at the north end ($y=0$).\n",
    "\n",
    "Boundary conditions are\n",
    "\n",
    "$$\n",
    "\\begin{align}\n",
    "\\phi(x, 0) & = \\bar{\\eta}_1(0) - \\bar{\\eta}_1(x) & \\text{($\\phi$ constant along walls)} \\tag{16a} \\\\\n",
    "\\frac{\\partial\\phi}{\\partial y}(x, 0) & = \\phi(0, y) = 0 & \\text{($\\phi$ constant along walls)} \\tag{16b} \\\\\n",
    "\\phi(S, y) & = f(y) & \\text{($\\phi$ slope at ocean boundary)} \\tag{16c} \\\\\n",
    "\\end{align}\n",
    "$$\n",
    "\n",
    "#### Laplace transform\n",
    "\n",
    "Take the Laplace transform of (13) from $y \\to \\xi$\n",
    "\n",
    "$$\\mathcal{L}\\left\\{\\frac{\\partial^2\\phi}{\\partial x^2}\\right\\} + \\mathcal{L}\\left\\{\\frac{\\partial^2\\phi}{\\partial y^2}\\right\\} - \\frac{1}{R^2}\\mathcal{L}\\left\\{\\phi\\right\\} = 0 \\tag{15}$$\n",
    "\n",
    "$$\\frac{\\partial^2\\hat{\\phi}}{\\partial x^2}(x, \\xi) + \\xi^2\\hat{\\phi}(x, \\xi) - \\xi\\underbrace{\\left[\\bar{\\eta}_1(0) - \\bar{\\eta}_1(x)\\right]}_{\\text{(14a)}} - \\underbrace{\\cancel{\\frac{\\partial\\phi}{\\partial y}(x, 0)}}_{\\text{(14b)}} - \\frac{1}{R^2}\\hat{\\phi}(x, \\xi) = 0 \\tag{16}$$\n",
    "\n",
    "$$\\frac{\\partial^2\\hat{\\phi}}{\\partial x^2}(x, \\xi) + \\mu^2\\hat{\\phi}(x, \\xi) = g(x) \\tag{17}$$\n",
    "\n",
    "where\n",
    "\n",
    "$$\n",
    "\\begin{align}\n",
    "\\mu^2 & = \\xi^2 - \\frac{1}{R^2}, \\hspace{0.5cm} \\xi > \\frac{1}{R} \\tag{18a} \\\\\n",
    "g(x) & = \\xi\\left[\\bar{\\eta}_1(0) - \\bar{\\eta}_1(x)\\right] \\tag{18b}\n",
    "\\end{align}\n",
    "$$\n",
    "\n",
    "$$\\hat{\\phi}(x, \\xi) = \\underbrace{\\cancel{c_1}}_{\\text{14b}}\\cos(\\mu x) + \\underbrace{\\frac{F(\\xi)}{\\sin(\\mu S)}}_{\\text{14c}}\\sin(\\mu x) + \\underbrace{\\frac{1}{\\mu^2}g(x)}_{\\hat{\\phi}_P} \\tag{19}$$\n",
    "\n",
    "This equation is solvable, but finding inverse Laplace transforms for sines and cosines is difficult\n",
    "\n",
    "#### Fourier transform solution\n",
    "\n",
    "Take the Fourier transform of (13) from $y \\to \\xi$\n",
    "\n",
    "$$\\mathcal{F}\\left\\{\\frac{\\partial^2\\phi}{\\partial x^2}\\right\\} + \\mathcal{F}\\left\\{\\frac{\\partial^2\\phi}{\\partial y^2}\\right\\} - \\frac{1}{R^2}\\mathcal{F}\\left\\{\\phi\\right\\} = 0 \\tag{20}$$\n",
    "\n",
    "$$\\frac{\\partial^2\\hat{\\phi}}{\\partial x^2} - \\left(\\xi^2 + \\frac{1}{R^2}\\right)\\hat{\\phi} = 0 \\tag{21}$$\n",
    "\n",
    "which has solution\n",
    "\n",
    "$$\\hat{\\phi} = c_1\\cosh\\left[\\left(\\xi^2 + \\frac{1}{R^2}\\right)^{\\frac{1}{2}}x\\right] + c_2\\sinh\\left[\\left(\\xi^2 + \\frac{1}{R^2}\\right)^{\\frac{1}{2}}x\\right] \\tag{22}$$"
   ]
  },
  {
   "cell_type": "code",
   "execution_count": null,
   "metadata": {
    "collapsed": true
   },
   "outputs": [],
   "source": []
  }
 ],
 "metadata": {
  "kernelspec": {
   "display_name": "Python 3",
   "language": "python",
   "name": "python3"
  },
  "language_info": {
   "codemirror_mode": {
    "name": "ipython",
    "version": 3
   },
   "file_extension": ".py",
   "mimetype": "text/x-python",
   "name": "python",
   "nbconvert_exporter": "python",
   "pygments_lexer": "ipython3",
   "version": "3.6.3"
  }
 },
 "nbformat": 4,
 "nbformat_minor": 2
}
