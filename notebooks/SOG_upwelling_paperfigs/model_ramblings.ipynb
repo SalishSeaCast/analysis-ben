{
 "cells": [
  {
   "cell_type": "code",
   "execution_count": 69,
   "metadata": {},
   "outputs": [],
   "source": [
    "import numpy as np\n",
    "import matplotlib.pyplot as plt\n",
    "\n",
    "%matplotlib inline"
   ]
  },
  {
   "cell_type": "code",
   "execution_count": 65,
   "metadata": {},
   "outputs": [],
   "source": [
    "plt.rcParams['font.size'] = 14"
   ]
  },
  {
   "cell_type": "code",
   "execution_count": 68,
   "metadata": {},
   "outputs": [
    {
     "data": {
      "image/png": "[encoded data removed]",
      "text/plain": [
       "<Figure size 1080x576 with 1 Axes>"
      ]
     },
     "metadata": {
      "needs_background": "light"
     },
     "output_type": "display_data"
    }
   ],
   "source": [
    "# x array\n",
    "x = np.arange(0, 1.01, 0.01)\n",
    "\n",
    "# Make figure\n",
    "fig, ax = plt.subplots(figsize=(15, 8))\n",
    "\n",
    "# Axis formatting\n",
    "ax.set_xlim([0, 1])\n",
    "ax.set_ylim([0, 1])\n",
    "ax.set_xlabel('$x \\longrightarrow$')\n",
    "ax.set_ylabel('$z \\longrightarrow$')\n",
    "\n",
    "# Tick formatting\n",
    "ax.xaxis.set_ticks([0])\n",
    "ax.xaxis.set_ticklabels(['$x=0$'])\n",
    "ax.yaxis.set_ticks([0.4, 0.8, 0.9, 1])\n",
    "ax.yaxis.set_ticklabels(['$h_{b_0}$', '$h_s$', '$\\zeta$', 0])\n",
    "\n",
    "# Content\n",
    "ax.plot([0, 1], [0.4, 0.0], 'k--', linewidth=5)\n",
    "ax.plot([0, 1], [0.8, 0.8], 'k-')\n",
    "ax.plot(x, 0.1 * np.exp(-5*x) + 0.8, 'k--')\n",
    "ax.text(0.7, 0.9, '$\\\\frac{\\\\tau}{\\\\rho f} \\longrightarrow$', transform=ax.transAxes, size=18)\n",
    "ax.text(0.6, 0.2, '$h_b = h_{b_0} + \\\\alpha x$', transform=ax.transAxes)\n",
    "\n",
    "plt.show()"
   ]
  },
  {
   "cell_type": "markdown",
   "metadata": {},
   "source": [
    "***\n",
    "\n",
    "## Baroclinic model\n",
    "\n",
    "Csanady (1981) describes the lower layer baroclinic transport in terms of the fraction of lower layer volume\n",
    "\n",
    "$$F_b = \\frac{h_{b}(x)}{h_s + h_{b}(x)}$$\n",
    "\n",
    "such that the vertically-integrated, lower layer momentum balance is\n",
    "\n",
    "\\begin{align}\n",
    "-fV & = -g'h_sF_b\\frac{\\partial\\zeta}{\\partial x} \\\\\n",
    "\\frac{\\partial V}{\\partial t} + fU & = 0 \\\\\n",
    "\\frac{\\partial\\zeta}{\\partial t} + \\frac{\\partial U}{\\partial x} & = 0\n",
    "\\end{align}\n",
    "\n",
    "The vorticity equation is the just $\\partial/\\partial x$ of the alongshore momentum\n",
    "\n",
    "$$\\frac{\\partial}{\\partial t}\\left(\\frac{\\partial V}{\\partial x} - f\\zeta\\right) = 0$$\n",
    "\n",
    "Substitute linear time solutions\n",
    "\n",
    "$$\\zeta = \\zeta_0 + \\zeta_1ft, \\hspace{1cm} V = V_0 + V_1ft, \\hspace{1cm} U = U_0$$\n",
    "\n",
    "Proportional to $t$\n",
    "\n",
    "$$V_1 = \\frac{g'h_sF_b}{f}\\frac{\\partial\\zeta_1}{\\partial x}$$\n",
    "\n",
    "Constant\n",
    "\n",
    "\\begin{align}\n",
    "V_0 & = \\frac{g'h_sF_b}{f}\\frac{\\partial\\zeta_0}{\\partial x} \\\\\n",
    "V_1 + U_0 & = 0 \\\\\n",
    "f\\zeta_1 & = -\\frac{\\partial U_0}{\\partial x} = \\frac{\\partial V_1}{\\partial x}\n",
    "\\end{align}\n",
    "\n",
    "Eliminate $U$ and $V$\n",
    "\n",
    "$$F_b\\frac{\\partial^2\\zeta_1}{\\partial x^2} + \\frac{\\partial F_{b}}{\\partial x}\\frac{\\partial\\zeta_1}{\\partial x} - \\frac{1}{L_R^2}\\zeta_1 = 0$$\n",
    "\n",
    "Assume for the moment constant coefficients, i.e.,\n",
    "\n",
    "$$F_b = \\frac{h_{b_0}}{H_0} \\hspace{1cm} \\text{and} \\hspace{1cm} \\frac{\\partial F_b}{\\partial x} = \\frac{\\alpha h_s}{H_0^2}$$\n",
    "\n",
    "and subsitute $\\zeta_1 = Ae^{-xk/h_{b_0}}$\n",
    "\n",
    "$$k^2 - \\frac{\\alpha h_s}{H_0}k - \\frac{h_{b_0}H_0}{L_R^2} = 0, \\hspace{1cm} \\longrightarrow \\hspace{1cm} k = \\frac{\\alpha h_s}{2H_0} + \\sqrt{\\left(\\frac{\\alpha h_s}{2H_0}\\right)^2 + \\frac{h_{b_0}H_0}{L_R^2}}$$\n",
    "\n",
    "Flux boundary condition\n",
    "\n",
    "$$U_0 = \\frac{\\tau}{\\rho f}, \\hspace{1cm} \\frac{\\partial\\zeta_1}{\\partial x} = -\\frac{\\tau}{\\rho g'h_sF_b}$$\n",
    "\n",
    "Final solution $\\big(\\zeta_0 = 0\\big)$\n",
    "\n",
    "$$\\frac{\\zeta}{h_s} = \\frac{\\zeta_1}{h_s}ft = \\frac{\\tau/\\rho}{g'h_s}\\frac{H_0}{h_sk}ft\\exp\\left\\{-\\frac{kx}{h_{b_0}}\\right\\}$$\n",
    "\n",
    "where\n",
    "\n",
    "$$\\lim_{\\alpha\\to0}\\frac{H_0}{k} = \\frac{L_R}{\\sqrt{F_b}}$$"
   ]
  },
  {
   "cell_type": "markdown",
   "metadata": {},
   "source": [
    "***\n",
    "\n",
    "## Basic continuously stratified case\n",
    "\n",
    "Density\n",
    "\n",
    "$$\\rho = \\rho_0 + \\rho_*(z) + \\rho'(t, x, z)$$\n",
    "\n",
    "Momentum balance\n",
    "\n",
    "\\begin{align}\n",
    "-fv & = -\\frac{1}{\\rho_0}\\frac{\\partial p}{\\partial x} \\\\\n",
    "\\frac{\\partial v}{\\partial t} + fu & = 0 \\\\\n",
    "\\frac{\\partial p'}{\\partial z} + (\\rho_0 + \\rho')g & = 0\\\\\n",
    "\\frac{\\partial u}{\\partial x} + \\frac{\\partial w}{\\partial z} & = 0 \\\\\n",
    "\\frac{\\partial\\rho'}{\\partial t} + w\\frac{\\partial\\rho_*}{\\partial z} & = 0\n",
    "\\end{align}\n",
    "\n",
    "Vorticity equation (thus far unused)\n",
    "\n",
    "\\begin{align}\n",
    "\\frac{\\partial}{\\partial t}\\frac{\\partial\\rho_*}{\\partial z}\\frac{\\partial v}{\\partial x} + f\\frac{\\partial\\rho_*}{\\partial z}\\frac{\\partial u}{\\partial x} & = 0 \\hspace{1cm} \\text{cross differentiation} \\\\\n",
    "\\frac{\\partial}{\\partial t}\\frac{\\partial\\rho'}{\\partial z} - \\frac{\\partial\\rho_*}{\\partial z}\\frac{\\partial u}{\\partial x} & = 0 \\hspace{1cm} \\text{mass conservation and continuity}\n",
    "\\end{align}\n",
    "\n",
    "and combine for conservation of PV\n",
    "\n",
    "$$\\frac{\\partial}{\\partial t}\\left(\\frac{\\partial\\rho_*}{\\partial z}\\frac{\\partial v}{\\partial x} + f\\frac{\\partial\\rho'}{\\partial z}\\right) = 0$$\n",
    "\n",
    "Thermal wind balance (from cross-shore geostrophy and hydrostatic)\n",
    "\n",
    "$$\\frac{\\partial v}{\\partial z} = -\\frac{g}{\\rho_0f}\\frac{\\partial\\rho}{\\partial x}$$\n",
    "\n",
    "Streamfunction (satisfies continuity)\n",
    "\n",
    "$$u = \\frac{\\partial\\psi}{\\partial z}, \\hspace{1cm} w = -\\frac{\\partial\\psi}{\\partial x}$$\n",
    "\n",
    "Streamfunction equation\n",
    "\n",
    "\\begin{align}\n",
    "-\\frac{g}{\\rho_0f}\\frac{\\partial}{\\partial t}\\frac{\\partial\\rho}{\\partial x} + f\\frac{\\partial^2\\psi}{\\partial z^2} & = 0 \\hspace{1cm} \\text{sub } u \\text{ and thermal wind into } y \\text{ balance} \\\\\n",
    "\\frac{\\partial}{\\partial t}\\frac{\\partial\\rho}{\\partial x} - \\frac{\\partial\\rho_*}{\\partial z}\\frac{\\partial^2\\psi}{\\partial x^2} & = 0 \\hspace{1cm} \\text{sub } w \\text{ into hydrostatic balance}\n",
    "\\end{align}\n",
    "\n",
    "and combine to eliminate variables\n",
    "\n",
    "$$\\left(\\frac{N}{f}\\right)^2\\frac{\\partial^2\\psi}{\\partial x^2} + \\frac{\\partial^2\\psi}{\\partial z^2} = 0$$\n",
    "\n",
    "where\n",
    "\n",
    "$$N = \\sqrt{-\\frac{g}{\\rho_0}\\frac{\\partial\\rho_*}{\\partial z}}$$\n",
    "\n",
    "Solution via separation of variables\n",
    "\n",
    "$$\\psi(x, z) = X(x)Z(z)$$\n",
    "\n",
    "$$\\left(\\frac{N}{f}\\right)^2\\frac{X''}{X} = -\\frac{Z''}{Z} = \\lambda^2$$"
   ]
  },
  {
   "cell_type": "code",
   "execution_count": null,
   "metadata": {},
   "outputs": [],
   "source": []
  },
  {
   "cell_type": "code",
   "execution_count": null,
   "metadata": {},
   "outputs": [],
   "source": []
  },
  {
   "cell_type": "code",
   "execution_count": null,
   "metadata": {},
   "outputs": [],
   "source": []
  },
  {
   "cell_type": "code",
   "execution_count": null,
   "metadata": {},
   "outputs": [],
   "source": []
  }
 ],
 "metadata": {
  "kernelspec": {
   "display_name": "Python 3",
   "language": "python",
   "name": "python3"
  },
  "language_info": {
   "codemirror_mode": {
    "name": "ipython",
    "version": 3
   },
   "file_extension": ".py",
   "mimetype": "text/x-python",
   "name": "python",
   "nbconvert_exporter": "python",
   "pygments_lexer": "ipython3",
   "version": "3.7.3"
  }
 },
 "nbformat": 4,
 "nbformat_minor": 2
}
