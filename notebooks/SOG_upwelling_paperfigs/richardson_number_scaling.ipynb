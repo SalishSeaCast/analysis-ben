{
 "cells": [
  {
   "cell_type": "markdown",
   "metadata": {},
   "source": [
    "# Richardson number scaling\n",
    "\n",
    "***"
   ]
  },
  {
   "cell_type": "code",
   "execution_count": 1,
   "metadata": {},
   "outputs": [],
   "source": [
    "import numpy as np\n",
    "import xarray as xr\n",
    "import matplotlib.pyplot as plt\n",
    "\n",
    "%matplotlib inline"
   ]
  },
  {
   "cell_type": "markdown",
   "metadata": {},
   "source": [
    "***\n",
    "\n",
    "## Definitions\n",
    "\n",
    "The gradient Richardson number is defined\n",
    "\n",
    "$$Ri_g = \\frac{N^2}{|\\partial u/\\partial z|^2}$$\n",
    "\n",
    "Assuming the stratification and vertical shear are constant in a surface boundary layer of thickness $h$, the bulk Richardson number can be defined\n",
    "\n",
    "$$Ri_b = \\frac{g'h}{|\\Delta u|^2}$$\n",
    "\n",
    "From the Taylor Goldstein equation for KH instability (see Cushman-Roisin), the $Ri_b$ instability criterion is\n",
    "\n",
    "$$Ri_b < \\frac{1}{4}$$\n",
    "\n",
    "***\n",
    "\n",
    "### Wind stress relation 1\n",
    "\n",
    "In lakes research (e.g., Stevens and Lawrence 1997, Aquat. Sci.) $|\\Delta u|$ is approximated as the friction velocity due to wind stress\n",
    "\n",
    "$$|\\Delta u|^2 = u_*^2 = \\frac{\\tau}{\\rho_0}$$\n",
    "\n",
    "where\n",
    "\n",
    "$$\\tau = C_D\\rho_{air}U_{10}^2$$\n",
    "\n",
    "Solving the $Ri_b$ instability criterion for $U_{10}$ at a standard scale, it's clear that the denominator is lacking magnitude\n",
    "\n",
    "$$U_{10} = \\left(\\frac{4g\\Delta\\rho h}{C_D\\rho_{air}}\\right)^{1/2} \\approx \\left(\\frac{4(10\\text{ m s}^{-2})(1\\text{ kg m}^{-3})(10\\text{ m})}{(10^{-3})(1\\text{ kg m}^{-3})}\\right)^{1/2} \\approx 500 \\text{ m s}^{-1}$$\n",
    "\n",
    "***\n",
    "\n",
    "### Wind stress relation 2\n",
    "\n",
    "The windstress is also defined in terms of the bulk vertical momentum flux as\n",
    "\n",
    "$$\\frac{\\tau}{\\rho_0} = A_v\\frac{\\partial u}{\\partial z} = A_v\\frac{|\\Delta u|}{h}$$\n",
    "\n",
    "Thus $|\\Delta u|$ should be defined\n",
    "\n",
    "$$|\\Delta u| = \\frac{\\tau h}{\\rho_0A_v}$$\n",
    "\n",
    "Again, solving the $Ri_b$ instability criterion for $U_{10}$ at a standard scale, the shear term balances\n",
    "\n",
    "$$U_{10} = \\left(\\frac{2A_v\\sqrt{g\\Delta\\rho\\rho_0h}}{C_D\\rho_{air}h}\\right)^{1/2} \\approx \\left(\\frac{2(10^{-3}\\text{ m}^2\\text{ s}^{-1})\\sqrt{(10\\text{ m s}^{-2})(1\\text{ kg m}^{-3})(10^3\\text{ kg m}^{-3})(10\\text{ m})}}{(10^{-3})(1\\text{ kg m}^{-3})(10\\text{ m})}\\right)^{1/2} \\approx 10\\text{ m s}^{-1}$$\n",
    "\n",
    "***\n",
    "\n",
    "### Upwelling scaling\n",
    "\n",
    "Our old bulk Richardson number definition is\n",
    "\n",
    "$$Ri_b = \\frac{\\rho_0g'h}{\\tau}$$\n",
    "\n",
    "Our new bulk Richardson number definition is\n",
    "\n",
    "$$Ri_b = g'h\\left(\\frac{\\rho_0A_v}{\\tau h}\\right)^2$$\n",
    "\n",
    "And the Wedderburn number is (old $Ri$ definition only?)\n",
    "\n",
    "$$W = \\frac{\\rho_0g'h}{\\tau}\\frac{h}{L}$$\n",
    "\n",
    "Now consider the offshore wind case, where the pycnocline tilt balances the wind stress\n",
    "\n",
    "$$\\frac{\\partial\\eta}{\\partial x} = -\\frac{\\tau}{\\rho_0g'h}$$\n",
    "\n",
    "Assuming the tilt decays linearly to zero over a distance $L_R = \\sqrt{g'h}/f$\n",
    "\n",
    "$$\\frac{\\eta}{h} = \\frac{\\tau}{\\rho_0g'h}\\frac{L_R}{h}$$"
   ]
  },
  {
   "cell_type": "code",
   "execution_count": null,
   "metadata": {},
   "outputs": [],
   "source": []
  }
 ],
 "metadata": {
  "kernelspec": {
   "display_name": "Python 3",
   "language": "python",
   "name": "python3"
  },
  "language_info": {
   "codemirror_mode": {
    "name": "ipython",
    "version": 3
   },
   "file_extension": ".py",
   "mimetype": "text/x-python",
   "name": "python",
   "nbconvert_exporter": "python",
   "pygments_lexer": "ipython3",
   "version": "3.7.3"
  }
 },
 "nbformat": 4,
 "nbformat_minor": 2
}
