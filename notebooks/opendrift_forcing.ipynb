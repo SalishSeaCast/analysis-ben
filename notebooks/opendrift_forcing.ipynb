{
 "cells": [
  {
   "cell_type": "markdown",
   "metadata": {},
   "source": [
    "# OpenDrift forcing"
   ]
  },
  {
   "cell_type": "code",
   "execution_count": 2,
   "metadata": {},
   "outputs": [],
   "source": [
    "import numpy as np\n",
    "import xarray as xr\n",
    "import matplotlib.pyplot as plt\n",
    "import os\n",
    "from datetime import datetime, timedelta\n",
    "from dateutil.parser import parse\n",
    "from itertools import repeat\n",
    "from opendrift.readers import reader_netCDF_CF_unstructured\n",
    "from opendrift.models.oceandrift import OceanDrift\n",
    "from salishsea_tools import viz_tools\n",
    "\n",
    "%matplotlib inline\n",
    "plt.rcParams['font.size'] = 12"
   ]
  },
  {
   "cell_type": "markdown",
   "metadata": {},
   "source": [
    "***\n",
    "\n",
    "### Required forcing for OceanDrift module"
   ]
  },
  {
   "cell_type": "code",
   "execution_count": 3,
   "metadata": {},
   "outputs": [
    {
     "data": {
      "text/plain": [
       "['x_sea_water_velocity',\n",
       " 'y_sea_water_velocity',\n",
       " 'x_wind',\n",
       " 'y_wind',\n",
       " 'land_binary_mask']"
      ]
     },
     "execution_count": 3,
     "metadata": {},
     "output_type": "execute_result"
    }
   ],
   "source": [
    "# OceanDrift require variables\n",
    "OceanDrift.required_variables"
   ]
  },
  {
   "cell_type": "markdown",
   "metadata": {},
   "source": [
    "***\n",
    "### Define paths"
   ]
  },
  {
   "cell_type": "code",
   "execution_count": 4,
   "metadata": {
    "collapsed": true
   },
   "outputs": [],
   "source": [
    "# Define paths\n",
    "paths = {\n",
    "    'NEMO': '/results/SalishSea/hindcast.201812',\n",
    "    'NEMO_cutoff': '/results2/SalishSea/hindcast.201812_annex',\n",
    "    'HRDPS': '/results/forcing/atmospheric/GEM2.5/operational',\n",
    "    'out': '/ocean/bmoorema/research/MEOPAR/analysis-ben/data/opendrift_forcing',\n",
    "    'date_cutoff': '2016 Nov 21',\n",
    "}\n",
    "mask = xr.open_dataset('/data/bmoorema/MEOPAR/grid/mesh_mask201702.nc')"
   ]
  },
  {
   "cell_type": "markdown",
   "metadata": {},
   "source": [
    "***\n",
    "\n",
    "### Prefix constructor for SSC"
   ]
  },
  {
   "cell_type": "code",
   "execution_count": 5,
   "metadata": {
    "collapsed": true
   },
   "outputs": [],
   "source": [
    "def make_prefix(date, paths, res='h'):\n",
    "    \"\"\"Construct path prefix for local SalishSeaCast results given date object and paths dict\n",
    "    e.g., /results/SalishSea/hindcast.201812/ddmmmyy/SalishSea_1h_yyyymmdd_yyyymmdd\n",
    "    \"\"\"\n",
    "\n",
    "    path = paths['NEMO']\n",
    "    if 'date_cutoff' in paths and date >= parse(paths['date_cutoff']):\n",
    "        path = paths['NEMO_cutoff']\n",
    "    fn = '_'.join([f'SalishSea_1{res}', *repeat(date.strftime('%Y%m%d'), 2)])\n",
    "    prefix = os.path.join(path, date.strftime('%d%b%y').lower(), fn)\n",
    "    \n",
    "    return prefix"
   ]
  },
  {
   "cell_type": "markdown",
   "metadata": {},
   "source": [
    "***\n",
    "\n",
    "### Begin forcing processing"
   ]
  },
  {
   "cell_type": "code",
   "execution_count": 6,
   "metadata": {
    "collapsed": true
   },
   "outputs": [],
   "source": [
    "# Date\n",
    "date = datetime(2019, 1, 1)"
   ]
  },
  {
   "cell_type": "markdown",
   "metadata": {},
   "source": [
    "### NEMO"
   ]
  },
  {
   "cell_type": "code",
   "execution_count": 7,
   "metadata": {
    "collapsed": true
   },
   "outputs": [],
   "source": [
    "# Open NEMO velocity results as a list of raw=[u,v]\n",
    "prefix = make_prefix(date, paths)\n",
    "NEMO_out = os.path.join(paths['out'], os.path.split(prefix)[-1] + '_opendrift.nc')\n",
    "raw = []\n",
    "for k, key in zip(['U', 'V'], ['vozocrtx', 'vomecrty']):\n",
    "    with xr.open_dataset(prefix + f'_grid_{k}.nc') as data:\n",
    "        raw.append(data[key][:, 0, ...].values)\n",
    "        if k is 'U': time = data.time_counter\n",
    "\n",
    "# Unstagger and rotate NEMO velocities\n",
    "u, v = viz_tools.rotate_vel(*viz_tools.unstagger(*raw))\n",
    "\n",
    "# Save NEMO velocities\n",
    "xr.Dataset(\n",
    "    {\n",
    "        'longitude': ('flat', mask.nav_lon[1:, 1:].values.reshape(-1)),\n",
    "        'latitude': ('flat', mask.nav_lat[1:, 1:].values.reshape(-1)),\n",
    "        'meshmask': ('flat', mask.tmask[0, 0, 1:, 1:].values.reshape(-1), {'standard_name': 'land_binary_mask'}),\n",
    "        'u': (['time_counter', 'flat'], u.reshape(time.size, -1), {'standard_name': 'x_sea_water_velocity'}),\n",
    "        'v': (['time_counter', 'flat'], v.reshape(time.size, -1), {'standard_name': 'y_sea_water_velocity'}),\n",
    "    },\n",
    "    coords={'time_counter': time}\n",
    ").to_netcdf(NEMO_out)"
   ]
  },
  {
   "cell_type": "markdown",
   "metadata": {},
   "source": [
    "### HRDPS"
   ]
  },
  {
   "cell_type": "code",
   "execution_count": 8,
   "metadata": {},
   "outputs": [],
   "source": [
    "# Open HRDPS results and save flattened to netCDF\n",
    "datestr = date.strftime('ops_y%Ym%md%d.nc')\n",
    "HRDPS_out = os.path.join(paths['out'], datestr)\n",
    "with xr.open_dataset(os.path.join(paths['HRDPS'], datestr)) as data:\n",
    "    time = data.time_counter\n",
    "    time.attrs['standard_name'] = 'time'\n",
    "    xr.Dataset(\n",
    "        {\n",
    "            'longitude': ('flat', data.nav_lon.values.reshape(-1)),\n",
    "            'latitude': ('flat', data.nav_lat.values.reshape(-1)),\n",
    "            'u_wind': (['time_counter', 'flat'], data.u_wind.values.reshape(time.size, -1), {'standard_name': 'x_wind'}),\n",
    "            'v_wind': (['time_counter', 'flat'], data.v_wind.values.reshape(time.size, -1), {'standard_name': 'y_wind'}),\n",
    "        },\n",
    "        coords={'time_counter': time},\n",
    "    ).to_netcdf(HRDPS_out)"
   ]
  },
  {
   "cell_type": "markdown",
   "metadata": {},
   "source": [
    "***\n",
    "\n",
    "### Reading forcing files"
   ]
  },
  {
   "cell_type": "code",
   "execution_count": 9,
   "metadata": {},
   "outputs": [
    {
     "data": {
      "text/plain": [
       "===========================\n",
       "Reader: /ocean/bmoorema/research/MEOPAR/analysis-ben/data/opendrift_forcing/SalishSea_1h_20190101_20190101_opendrift.nc\n",
       "Projection: \n",
       "  +proj=latlong\n",
       "Coverage: [degrees]\n",
       "  xmin: -126.211052   xmax: 0.000000\n",
       "  ymin: 0.000000   ymax: 50.992344\n",
       "  Corners (lon, lat):\n",
       "    (-126.21,  50.99)  (  0.00,  50.99)\n",
       "    (-126.21,   0.00)  (  0.00,   0.00)\n",
       "Vertical levels [m]: \n",
       "  Not specified\n",
       "Available time range:\n",
       "  start: 2019-01-01 00:30:00   end: 2019-01-01 23:30:00   step: 1:00:00\n",
       "    24 times (0 missing)\n",
       "Variables:\n",
       "  land_binary_mask\n",
       "  x_sea_water_velocity\n",
       "  y_sea_water_velocity\n",
       "  time\n",
       "==========================="
      ]
     },
     "execution_count": 9,
     "metadata": {},
     "output_type": "execute_result"
    }
   ],
   "source": [
    "# Read forcing\n",
    "reader_netCDF_CF_unstructured.Reader(NEMO_out)"
   ]
  },
  {
   "cell_type": "code",
   "execution_count": 10,
   "metadata": {},
   "outputs": [
    {
     "data": {
      "text/plain": [
       "===========================\n",
       "Reader: /ocean/bmoorema/research/MEOPAR/analysis-ben/data/opendrift_forcing/ops_y2019m01d01.nc\n",
       "Projection: \n",
       "  +proj=latlong\n",
       "Coverage: [degrees]\n",
       "  xmin: 230.833052   xmax: 240.529613\n",
       "  ymin: 45.664901   ymax: 52.179264\n",
       "  Corners (lon, lat):\n",
       "    (230.83,  52.18)  (240.53,  52.18)\n",
       "    (230.83,  45.66)  (240.53,  45.66)\n",
       "Vertical levels [m]: \n",
       "  Not specified\n",
       "Available time range:\n",
       "  start: 2019-01-01 00:00:00   end: 2019-01-01 23:00:00   step: 1:00:00\n",
       "    24 times (0 missing)\n",
       "Variables:\n",
       "  x_wind\n",
       "  y_wind\n",
       "  time\n",
       "==========================="
      ]
     },
     "execution_count": 10,
     "metadata": {},
     "output_type": "execute_result"
    }
   ],
   "source": [
    "# Read forcing\n",
    "reader_netCDF_CF_unstructured.Reader(HRDPS_out)"
   ]
  },
  {
   "cell_type": "code",
   "execution_count": null,
   "metadata": {
    "collapsed": true
   },
   "outputs": [],
   "source": []
  }
 ],
 "metadata": {
  "kernelspec": {
   "display_name": "Python 3",
   "language": "python",
   "name": "python3"
  },
  "language_info": {
   "codemirror_mode": {
    "name": "ipython",
    "version": 3
   },
   "file_extension": ".py",
   "mimetype": "text/x-python",
   "name": "python",
   "nbconvert_exporter": "python",
   "pygments_lexer": "ipython3",
   "version": "3.6.8"
  }
 },
 "nbformat": 4,
 "nbformat_minor": 2
}
