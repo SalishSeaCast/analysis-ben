{
 "cells": [
  {
   "cell_type": "markdown",
   "metadata": {
    "collapsed": true
   },
   "source": [
    "## SalishSeaCast Nowcast Timeseries Analysis\n",
    "This notebook loads hourly Nowcast results 1 day at a time, and extracts selected slices into numpy arrays. The notebook itself is a development environment for the script `analysis-ben/scripts/prepare_nowcast_timeseries.py`."
   ]
  },
  {
   "cell_type": "code",
   "execution_count": 88,
   "metadata": {
    "collapsed": true
   },
   "outputs": [],
   "source": [
    "import numpy as np\n",
    "import xarray as xr\n",
    "import matplotlib.pyplot as plt\n",
    "import progressbar\n",
    "import pickle\n",
    "from scipy.io import savemat, loadmat\n",
    "from salishsea_tools import tidetools, viz_tools, nc_tools, geo_tools\n",
    "\n",
    "%matplotlib inline"
   ]
  },
  {
   "cell_type": "markdown",
   "metadata": {},
   "source": [
    "### Load NEMO results\n",
    "Timerange"
   ]
  },
  {
   "cell_type": "code",
   "execution_count": 2,
   "metadata": {
    "collapsed": true
   },
   "outputs": [],
   "source": [
    "# Timerange\n",
    "timerange = ['2017 Jan 1 00:00', '2017 Jan 3 23:00']\n",
    "timeslice = slice(timerange[0], timerange[1])"
   ]
  },
  {
   "cell_type": "markdown",
   "metadata": {},
   "source": [
    "Build NEMO mask and grid arrays"
   ]
  },
  {
   "cell_type": "code",
   "execution_count": 3,
   "metadata": {
    "collapsed": true
   },
   "outputs": [],
   "source": [
    "def reshape_grid(tmask, deptht, gridY, gridX, index=0, dim=0, spacing=1):\n",
    "    \"\"\"Prepare the mask and grid for the selected timeseries slice, and reshape into 1 spatial dimension\n",
    "    \"\"\"\n",
    "    \n",
    "    tmask = tmask.take(index, axis=dim)[::spacing, ::spacing]\n",
    "    ngrid = tmask.shape[0] * tmask.shape[1]\n",
    "    tmask = tmask.reshape(ngrid)\n",
    "    ngrid_water = tmask.sum()\n",
    "    gridX = gridX.take(index, axis=dim)[::spacing, ::spacing].reshape(ngrid)[tmask]\n",
    "    gridY = gridY.take(index, axis=dim)[::spacing, ::spacing].reshape(ngrid)[tmask]\n",
    "    deptht = deptht.take(index, axis=dim)[::spacing, ::spacing].reshape(ngrid)[tmask]\n",
    "    \n",
    "    GRIDMASK = {'tmask': tmask, 'deptht': deptht, 'gridY': gridY,\n",
    "                'gridX': gridX, 'ngrid': ngrid, 'ngrid_water': ngrid_water}\n",
    "    \n",
    "    return GRIDMASK"
   ]
  },
  {
   "cell_type": "code",
   "execution_count": 13,
   "metadata": {
    "collapsed": true
   },
   "outputs": [],
   "source": [
    "def reshape_data(data, GRIDMASK, dim, index=0, spacing=1, unstagger_dim=None):\n",
    "    \"\"\"\n",
    "    \"\"\"\n",
    "    \n",
    "    field = data.isel(**{dim: index})\n",
    "    if unstagger_dim is not None:\n",
    "        field = viz_tools.unstagger_xarray(field, unstagger_dim)\n",
    "    field = field.values[:, ::spacing, ::spacing]\n",
    "    field = field.reshape((-1, GRIDMASK['ngrid']))\n",
    "    field_trim = np.zeros((field.shape[0], GRIDMASK['ngrid_water']))\n",
    "    \n",
    "    return field, field_trim"
   ]
  },
  {
   "cell_type": "code",
   "execution_count": 5,
   "metadata": {
    "collapsed": true
   },
   "outputs": [],
   "source": [
    "def calc_rho(Sal, TempC, P):\n",
    "    \"\"\" Calculate rho: Based on SOG code\n",
    "    \"\"\"\n",
    "    \n",
    "    # Calculate the square root of the salinities\n",
    "    sqrSal = np.sqrt(Sal)\n",
    "\n",
    "    # Calculate the density profile at the grid point depths\n",
    "    # Pure water density at atmospheric pressure\n",
    "    # (Bigg P.H., (1967) Br. J. Applied Physics 8 pp 521-537)\n",
    "    R1 = ((((6.536332e-9 * TempC - 1.120083e-6) * TempC + 1.001685e-4)\n",
    "           * TempC - 9.095290e-3) * TempC + 6.793952e-2) * TempC - 28.263737\n",
    "    R2 = (((5.3875e-9 * TempC - 8.2467e-7) * TempC + 7.6438e-5)\n",
    "          * TempC - 4.0899e-3) * TempC + 8.24493e-1\n",
    "    R3 = (-1.6546e-6 * TempC + 1.0227e-4) * TempC - 5.72466e-3\n",
    "\n",
    "    # International one-atmosphere equation of state of seawater\n",
    "    SIG = (4.8314e-4 * Sal + R3 * sqrSal + R2) * Sal + R1\n",
    "\n",
    "    # Specific volume at atmospheric pressure\n",
    "    V350P = 1.0 / 1028.1063\n",
    "    SVA   = -SIG * V350P / (1028.1063 + SIG)\n",
    "\n",
    "    # Density anomoly at atmospheric pressure\n",
    "    rho = 28.106331 - SVA / (V350P * (V350P + SVA)) + 1000\n",
    "    \n",
    "    return rho"
   ]
  },
  {
   "cell_type": "code",
   "execution_count": 7,
   "metadata": {
    "collapsed": true
   },
   "outputs": [],
   "source": [
    "# Get mask and grid files\n",
    "mask_NEMO = xr.open_dataset('/ocean/bmoorema/research/MEOPAR/NEMO-forcing/grid/mesh_mask_downbyone2.nc')\n",
    "\n",
    "GRIDMASK = {}\n",
    "\n",
    "# Mask\n",
    "tmask = mask_NEMO.tmask.isel(t=0).values.astype(bool)\n",
    "tmask[:, 750:, :] = 0\n",
    "tmask[:, :350, :] = 0\n",
    "tmask[:, :, :100] = 0\n",
    "\n",
    "# Grid and depth\n",
    "deptht, gridY, gridX = np.meshgrid(mask_NEMO.gdept_1d.isel(t=0), mask_NEMO.y, mask_NEMO.x, indexing='ij')\n",
    "deptht = mask_NEMO.gdept_0.isel(t=0).values\n",
    "\n",
    "# Nowcast domain slice parameters\n",
    "indices = [0, 0, 20, 450, 520, 680]\n",
    "spacing = [1, 5, 5, 1, 1, 1]\n",
    "dims = [0, 0, 0, 1, 1, 1]\n",
    "\n",
    "# Create mask and grid arrays for Nowcast domain slices\n",
    "for index, space, dim in zip(indices, spacing, dims):\n",
    "    \n",
    "    # Depth 20 is index 18\n",
    "    if index == 20:\n",
    "        ii = 18\n",
    "    else:\n",
    "        ii = index\n",
    "        \n",
    "    # Store mask and grid arrays in dict\n",
    "    GRIDMASK[f'spc{space}_{index}'] = reshape_grid(tmask, deptht, gridY, gridX, index=ii, dim=dim, spacing=space)\n",
    "\n",
    "# dz\n",
    "deptht = deptht.reshape(-1, GRIDMASK['spc1_0']['ngrid'])[:, GRIDMASK['spc1_0']['tmask']]\n",
    "dz = np.diff(deptht, axis=0)"
   ]
  },
  {
   "cell_type": "markdown",
   "metadata": {},
   "source": [
    "Build GEM mask"
   ]
  },
  {
   "cell_type": "code",
   "execution_count": 4,
   "metadata": {
    "collapsed": true
   },
   "outputs": [],
   "source": [
    "# Open NetCDF Files\n",
    "grid_NEMO = xr.open_dataset('/ocean/bmoorema/research/MEOPAR/NEMO-forcing/grid/bathy_downonegrid2.nc')\n",
    "grid_GEM  = xr.open_dataset('https://salishsea.eos.ubc.ca/erddap/griddap/ubcSSaAtmosphereGridV1')\n",
    "\n",
    "# Preallocate\n",
    "ngrid_GEM = grid_GEM.gridX.shape[0] * grid_GEM.gridY.shape[0]\n",
    "mask_GEM = np.zeros(ngrid_GEM, dtype=int)\n",
    "\n",
    "# Evaluate each point on GEM grid\n",
    "for index, coords in enumerate(zip(\n",
    "    grid_GEM.longitude.values.reshape(ngrid_GEM) - 360,\n",
    "    grid_GEM.latitude.values.reshape(ngrid_GEM))):\n",
    "    \n",
    "    j, i = geo_tools.find_closest_model_point(coords[0], coords[1], grid_NEMO.nav_lon, grid_NEMO.nav_lat)\n",
    "    if j is np.nan or i is np.nan:\n",
    "        mask_GEM[index] = 0\n",
    "    else:\n",
    "        mask_GEM[index] = mask.tmask.isel(z=0, x=i, y=j).values\n",
    "\n",
    "# Reshape\n",
    "mask_GEM = mask_GEM.reshape(grid_GEM.longitude.shape)\n",
    "\n",
    "# Mask out PS and JdF\n",
    "mask_GEM[200:, :] = 0\n",
    "mask_GEM[:110, :] = 0\n",
    "mask_GEM[:140, :125] = 0\n",
    "\n",
    "# Reshape\n",
    "mask_GEM = mask_GEM.reshape(ngrid_GEM)\n",
    "\n",
    "# Number of water points\n",
    "ngrid_GEM_water = mask_GEM.sum()\n",
    "\n",
    "# Convert to bool\n",
    "mask_GEM = mask_GEM.astype(bool)\n",
    "\n",
    "# Pack into GRIDMASK\n",
    "GRIDMASK['GEM'] = {'tmask': mask_GEM, 'ngrid': ngrid_GEM, 'ngrid_water': ngrid_GEM_water}"
   ]
  },
  {
   "cell_type": "markdown",
   "metadata": {},
   "source": [
    "Get GEM data"
   ]
  },
  {
   "cell_type": "code",
   "execution_count": 5,
   "metadata": {
    "collapsed": true
   },
   "outputs": [],
   "source": [
    "# Open HRDPS wind forcing from ERDDAP\n",
    "wind = xr.open_dataset('https://salishsea.eos.ubc.ca/erddap/griddap/ubcSSaSurfaceAtmosphereFieldsV1')\n",
    "\n",
    "# Reshape velocity fields\n",
    "u_wind = wind.sel(time=timeslice).u_wind.values.reshape(-1, GRIDMASK['GEM']['ngrid'])\n",
    "v_wind = wind.sel(time=timeslice).v_wind.values.reshape(-1, GRIDMASK['GEM']['ngrid'])\n",
    "\n",
    "# Preallocated trimmed fields\n",
    "u_wind_trim = np.zeros((u_wind.shape[0], GRIDMASK['GEM']['ngrid_water']))\n",
    "v_wind_trim = np.zeros((v_wind.shape[0], GRIDMASK['GEM']['ngrid_water']))\n",
    "\n",
    "# Trim fields\n",
    "for tindex, timerows in enumerate(zip(u_wind, v_wind)):\n",
    "    u_wind_trim[tindex, :] = timerows[0][GRIDMASK['GEM']['tmask']]\n",
    "    v_wind_trim[tindex, :] = timerows[1][GRIDMASK['GEM']['tmask']]\n",
    "    \n",
    "# Pack into dictionary\n",
    "GEM = {\n",
    "    'u_wind': u_wind_trim,\n",
    "    'v_wind': v_wind_trim\n",
    "}"
   ]
  },
  {
   "cell_type": "markdown",
   "metadata": {},
   "source": [
    "Build NEMO filenames"
   ]
  },
  {
   "cell_type": "code",
   "execution_count": 8,
   "metadata": {
    "collapsed": true
   },
   "outputs": [],
   "source": [
    "# Build filename lists\n",
    "filenames_T = nc_tools.make_filename_list(timerange, 'T', model='nowcast-green', resolution='h')\n",
    "filenames_U = nc_tools.make_filename_list(timerange, 'U', model='nowcast-green', resolution='h')\n",
    "filenames_V = nc_tools.make_filename_list(timerange, 'V', model='nowcast-green', resolution='h')\n",
    "\n",
    "# Predefine storage dictionaries\n",
    "NEMO, FULL, TRIM = {}, {}, {}"
   ]
  },
  {
   "cell_type": "markdown",
   "metadata": {},
   "source": [
    "Main loop"
   ]
  },
  {
   "cell_type": "code",
   "execution_count": 47,
   "metadata": {},
   "outputs": [
    {
     "name": "stderr",
     "output_type": "stream",
     "text": [
      "100% (3 of 3) |###########################| Elapsed Time: 0:07:49 Time: 0:07:49\n"
     ]
    },
    {
     "ename": "KeyboardInterrupt",
     "evalue": "",
     "output_type": "error",
     "traceback": [
      "\u001b[0;31m---------------------------------------------------------------------------\u001b[0m",
      "\u001b[0;31mKeyboardInterrupt\u001b[0m                         Traceback (most recent call last)",
      "\u001b[0;32m<ipython-input-47-0908e6228c87>\u001b[0m in \u001b[0;36m<module>\u001b[0;34m()\u001b[0m\n\u001b[1;32m     10\u001b[0m \u001b[0;34m\u001b[0m\u001b[0m\n\u001b[1;32m     11\u001b[0m         \u001b[0;31m# Calculate density\u001b[0m\u001b[0;34m\u001b[0m\u001b[0;34m\u001b[0m\u001b[0m\n\u001b[0;32m---> 12\u001b[0;31m         \u001b[0mrho\u001b[0m \u001b[0;34m=\u001b[0m \u001b[0mcalc_rho\u001b[0m\u001b[0;34m(\u001b[0m\u001b[0mS\u001b[0m\u001b[0;34m,\u001b[0m \u001b[0mT\u001b[0m\u001b[0;34m,\u001b[0m \u001b[0mmask_NEMO\u001b[0m\u001b[0;34m.\u001b[0m\u001b[0mgdept_0\u001b[0m\u001b[0;34m.\u001b[0m\u001b[0misel\u001b[0m\u001b[0;34m(\u001b[0m\u001b[0mt\u001b[0m\u001b[0;34m=\u001b[0m\u001b[0;36m0\u001b[0m\u001b[0;34m)\u001b[0m\u001b[0;34m)\u001b[0m\u001b[0;34m.\u001b[0m\u001b[0mvalues\u001b[0m\u001b[0;34m\u001b[0m\u001b[0m\n\u001b[0m\u001b[1;32m     13\u001b[0m         \u001b[0mrho\u001b[0m \u001b[0;34m=\u001b[0m \u001b[0mrho\u001b[0m\u001b[0;34m.\u001b[0m\u001b[0mreshape\u001b[0m\u001b[0;34m(\u001b[0m\u001b[0;34m(\u001b[0m\u001b[0;34m-\u001b[0m\u001b[0;36m1\u001b[0m\u001b[0;34m,\u001b[0m \u001b[0mrho\u001b[0m\u001b[0;34m.\u001b[0m\u001b[0mshape\u001b[0m\u001b[0;34m[\u001b[0m\u001b[0;36m1\u001b[0m\u001b[0;34m]\u001b[0m\u001b[0;34m,\u001b[0m \u001b[0mGRIDMASK\u001b[0m\u001b[0;34m[\u001b[0m\u001b[0;34m'spc1_0'\u001b[0m\u001b[0;34m]\u001b[0m\u001b[0;34m[\u001b[0m\u001b[0;34m'ngrid'\u001b[0m\u001b[0;34m]\u001b[0m\u001b[0;34m)\u001b[0m\u001b[0;34m)\u001b[0m\u001b[0;34m\u001b[0m\u001b[0m\n\u001b[1;32m     14\u001b[0m         \u001b[0mTRIM\u001b[0m\u001b[0;34m[\u001b[0m\u001b[0;34m'pycnocline'\u001b[0m\u001b[0;34m]\u001b[0m \u001b[0;34m=\u001b[0m \u001b[0mnp\u001b[0m\u001b[0;34m.\u001b[0m\u001b[0mzeros\u001b[0m\u001b[0;34m(\u001b[0m\u001b[0;34m(\u001b[0m\u001b[0mS\u001b[0m\u001b[0;34m.\u001b[0m\u001b[0mshape\u001b[0m\u001b[0;34m[\u001b[0m\u001b[0;36m0\u001b[0m\u001b[0;34m]\u001b[0m\u001b[0;34m,\u001b[0m \u001b[0mGRIDMASK\u001b[0m\u001b[0;34m[\u001b[0m\u001b[0;34m'spc1_0'\u001b[0m\u001b[0;34m]\u001b[0m\u001b[0;34m[\u001b[0m\u001b[0;34m'ngrid_water'\u001b[0m\u001b[0;34m]\u001b[0m\u001b[0;34m)\u001b[0m\u001b[0;34m)\u001b[0m\u001b[0;34m\u001b[0m\u001b[0m\n",
      "\u001b[0;32m<ipython-input-5-3f6f79e502c2>\u001b[0m in \u001b[0;36mcalc_rho\u001b[0;34m(Sal, TempC, P)\u001b[0m\n\u001b[1;32m     20\u001b[0m     \u001b[0;31m# Specific volume at atmospheric pressure\u001b[0m\u001b[0;34m\u001b[0m\u001b[0;34m\u001b[0m\u001b[0m\n\u001b[1;32m     21\u001b[0m     \u001b[0mV350P\u001b[0m \u001b[0;34m=\u001b[0m \u001b[0;36m1.0\u001b[0m \u001b[0;34m/\u001b[0m \u001b[0;36m1028.1063\u001b[0m\u001b[0;34m\u001b[0m\u001b[0m\n\u001b[0;32m---> 22\u001b[0;31m     \u001b[0mSVA\u001b[0m   \u001b[0;34m=\u001b[0m \u001b[0;34m-\u001b[0m\u001b[0mSIG\u001b[0m \u001b[0;34m*\u001b[0m \u001b[0mV350P\u001b[0m \u001b[0;34m/\u001b[0m \u001b[0;34m(\u001b[0m\u001b[0;36m1028.1063\u001b[0m \u001b[0;34m+\u001b[0m \u001b[0mSIG\u001b[0m\u001b[0;34m)\u001b[0m\u001b[0;34m\u001b[0m\u001b[0m\n\u001b[0m\u001b[1;32m     23\u001b[0m \u001b[0;34m\u001b[0m\u001b[0m\n\u001b[1;32m     24\u001b[0m     \u001b[0;31m# Density anomoly at atmospheric pressure\u001b[0m\u001b[0;34m\u001b[0m\u001b[0;34m\u001b[0m\u001b[0m\n",
      "\u001b[0;32m/home/bmoorema/anaconda3/lib/python3.6/site-packages/xarray/core/dataarray.py\u001b[0m in \u001b[0;36mfunc\u001b[0;34m(self, *args, **kwargs)\u001b[0m\n\u001b[1;32m   1485\u001b[0m         \u001b[0;34m@\u001b[0m\u001b[0mfunctools\u001b[0m\u001b[0;34m.\u001b[0m\u001b[0mwraps\u001b[0m\u001b[0;34m(\u001b[0m\u001b[0mf\u001b[0m\u001b[0;34m)\u001b[0m\u001b[0;34m\u001b[0m\u001b[0m\n\u001b[1;32m   1486\u001b[0m         \u001b[0;32mdef\u001b[0m \u001b[0mfunc\u001b[0m\u001b[0;34m(\u001b[0m\u001b[0mself\u001b[0m\u001b[0;34m,\u001b[0m \u001b[0;34m*\u001b[0m\u001b[0margs\u001b[0m\u001b[0;34m,\u001b[0m \u001b[0;34m**\u001b[0m\u001b[0mkwargs\u001b[0m\u001b[0;34m)\u001b[0m\u001b[0;34m:\u001b[0m\u001b[0;34m\u001b[0m\u001b[0m\n\u001b[0;32m-> 1487\u001b[0;31m             \u001b[0;32mreturn\u001b[0m \u001b[0mself\u001b[0m\u001b[0;34m.\u001b[0m\u001b[0m__array_wrap__\u001b[0m\u001b[0;34m(\u001b[0m\u001b[0mf\u001b[0m\u001b[0;34m(\u001b[0m\u001b[0mself\u001b[0m\u001b[0;34m.\u001b[0m\u001b[0mvariable\u001b[0m\u001b[0;34m.\u001b[0m\u001b[0mdata\u001b[0m\u001b[0;34m,\u001b[0m \u001b[0;34m*\u001b[0m\u001b[0margs\u001b[0m\u001b[0;34m,\u001b[0m \u001b[0;34m**\u001b[0m\u001b[0mkwargs\u001b[0m\u001b[0;34m)\u001b[0m\u001b[0;34m)\u001b[0m\u001b[0;34m\u001b[0m\u001b[0m\n\u001b[0m\u001b[1;32m   1488\u001b[0m         \u001b[0;32mreturn\u001b[0m \u001b[0mfunc\u001b[0m\u001b[0;34m\u001b[0m\u001b[0m\n\u001b[1;32m   1489\u001b[0m \u001b[0;34m\u001b[0m\u001b[0m\n",
      "\u001b[0;31mKeyboardInterrupt\u001b[0m: "
     ]
    }
   ],
   "source": [
    "# Main loop\n",
    "with progressbar.ProgressBar(max_value=len(filenames_T)) as bar:\n",
    "    for i, filename in bar(enumerate(zip(filenames_U, filenames_V, filenames_T))):\n",
    "        \n",
    "        # Open NEMO results into numpy arrays\n",
    "        U = xr.open_dataset(filename[0]).vozocrtx\n",
    "        V = xr.open_dataset(filename[1]).vomecrty\n",
    "        T = xr.open_dataset(filename[2]).votemper\n",
    "        S = xr.open_dataset(filename[2]).vosaline\n",
    "        \n",
    "        # Calculate density\n",
    "        rho = calc_rho(S, T, mask_NEMO.gdept_0.isel(t=0)).values\n",
    "        rho = rho.reshape((-1, rho.shape[1], GRIDMASK['spc1_0']['ngrid']))\n",
    "        TRIM['pycnocline'] = np.zeros((S.shape[0], GRIDMASK['spc1_0']['ngrid_water']))\n",
    "        \n",
    "        # Reshape Parameters\n",
    "        indices = [0, 20, 450, 520, 680]\n",
    "        spacing = [5, 5, 1, 1, 1]\n",
    "        dims = ['depth', 'depth', 'y', 'y', 'y']\n",
    "        tracers = [False, False, True, True, True]\n",
    "        \n",
    "        # Slice and reshape NEMO results and allocate trimmed output arrays\n",
    "        for index, space, dim, tracer in zip(indices, spacing, dims, tracers):\n",
    "            \n",
    "            # Hash slice dims\n",
    "            if dim is 'depth':\n",
    "                dimu, dimv, dimt = 'depthu', 'depthv', 'deptht'\n",
    "            else:\n",
    "                dimu, dimv, dimt = dim, dim, dim\n",
    "            \n",
    "            # Reshape tracers\n",
    "            if tracer:\n",
    "                FULL[f'T{index}'], TRIM[f'T{index}'] = reshape_data(\n",
    "                    T, GRIDMASK[f'spc{space}_{index}'], dimt, index=index, spacing=space)\n",
    "                FULL[f'S{index}'], TRIM[f'S{index}'] = reshape_data(\n",
    "                    S, GRIDMASK[f'spc{space}_{index}'], dimt, index=index, spacing=space)\n",
    "            \n",
    "            # Reshape velocity\n",
    "            if space > 1:\n",
    "                dimx, dimy = 'x', 'y'\n",
    "            else:\n",
    "                dimx, dimy = None, None\n",
    "            FULL[f'U{index}'], TRIM[f'U{index}'] = reshape_data(\n",
    "                U, GRIDMASK[f'spc{space}_{index}'], dimu, index=index, spacing=space, unstagger_dim=dimx)\n",
    "            FULL[f'V{index}'], TRIM[f'V{index}'] = reshape_data(\n",
    "                V, GRIDMASK[f'spc{space}_{index}'], dimv, index=index, spacing=space, unstagger_dim=dimy)\n",
    "        \n",
    "        # Trim Land Points and calculate halocline depth\n",
    "        for tindex, timestamp in enumerate(U.time_counter):\n",
    "            \n",
    "            # Loop through slice parameters\n",
    "            for index, space, tracer in zip(indices, spacing, tracers):\n",
    "                \n",
    "                # Trim tracers\n",
    "                if tracer:\n",
    "                    TRIM[f'T{index}'][tindex, :] = FULL[f'T{index}'][tindex, :][GRIDMASK[f'spc{space}_{index}']['tmask']]\n",
    "                    TRIM[f'S{index}'][tindex, :] = FULL[f'S{index}'][tindex, :][GRIDMASK[f'spc{space}_{index}']['tmask']]\n",
    "                \n",
    "                # Trim velocity\n",
    "                TRIM[f'U{index}'][tindex, :] = FULL[f'U{index}'][tindex, :][GRIDMASK[f'spc{space}_{index}']['tmask']]\n",
    "                TRIM[f'V{index}'][tindex, :] = FULL[f'V{index}'][tindex, :][GRIDMASK[f'spc{space}_{index}']['tmask']]\n",
    "            \n",
    "            # Pycnocline depth\n",
    "            idrhodz = (np.diff(rho[tindex][:, GRIDMASK['spc1_0']['tmask']], axis=0) / dz).argmax(axis=0)\n",
    "            TRIM['pycnocline'][tindex, :] = np.array([depth[dindex] for dindex, depth in zip(idrhodz, deptht.T)])\n",
    "        \n",
    "        # Concatenate into storage arrays\n",
    "        for index, tracer in zip(indices, tracers):\n",
    "            \n",
    "            # Assign if first file\n",
    "            if i == 0:\n",
    "                if tracer:\n",
    "                    NEMO[f'T{index}'] = TRIM[f'T{index}']\n",
    "                    NEMO[f'S{index}'] = TRIM[f'S{index}']\n",
    "                \n",
    "                NEMO[f'U{index}'] = TRIM[f'U{index}']\n",
    "                NEMO[f'V{index}'] = TRIM[f'V{index}']\n",
    "            \n",
    "            # Otherwise concatenate\n",
    "            else:\n",
    "                if tracer:\n",
    "                    NEMO[f'T{index}'] = np.concatenate([NEMO[f'T{index}'], TRIM[f'T{index}']], axis=0)\n",
    "                    NEMO[f'S{index}'] = np.concatenate([NEMO[f'S{index}'], TRIM[f'S{index}']], axis=0)\n",
    "                \n",
    "                NEMO[f'U{index}'] = np.concatenate([NEMO[f'U{index}'], TRIM[f'U{index}']], axis=0)\n",
    "                NEMO[f'V{index}'] = np.concatenate([NEMO[f'V{index}'], TRIM[f'V{index}']], axis=0)\n",
    "        \n",
    "        # Concatenate pycnocline depth\n",
    "        NEMO['pycnocline'] = TRIM['pycnocline']\n",
    "        NEMO['pycnocline'] = np.concatenate([NEMO['pycnocline'], TRIM['pycnocline']], axis=0)\n",
    "        \n",
    "        # Update progress bar\n",
    "        bar.update(i)"
   ]
  },
  {
   "cell_type": "code",
   "execution_count": 96,
   "metadata": {
    "collapsed": true
   },
   "outputs": [],
   "source": [
    "savemat('/ocean/bmoorema/research/MEOPAR/analysis-ben/data/NEMO_2016.mat', NEMO)"
   ]
  },
  {
   "cell_type": "code",
   "execution_count": 97,
   "metadata": {
    "collapsed": true
   },
   "outputs": [],
   "source": [
    "fid = open('/ocean/bmoorema/research/MEOPAR/analysis-ben/data/GRIDMASK_2016', 'wb') \n",
    "pickle.dump(GRIDMASK, fid)   \n",
    "fid.close()"
   ]
  },
  {
   "cell_type": "code",
   "execution_count": null,
   "metadata": {
    "collapsed": true
   },
   "outputs": [],
   "source": []
  }
 ],
 "metadata": {
  "kernelspec": {
   "display_name": "Python 3",
   "language": "python",
   "name": "python3"
  },
  "language_info": {
   "codemirror_mode": {
    "name": "ipython",
    "version": 3
   },
   "file_extension": ".py",
   "mimetype": "text/x-python",
   "name": "python",
   "nbconvert_exporter": "python",
   "pygments_lexer": "ipython3",
   "version": "3.6.0"
  }
 },
 "nbformat": 4,
 "nbformat_minor": 1
}
